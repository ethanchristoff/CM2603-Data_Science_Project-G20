{
 "cells": [
  {
   "cell_type": "code",
   "execution_count": 2,
   "metadata": {},
   "outputs": [],
   "source": [
    "import threading\n",
    "import time\n",
    "import queue\n",
    "import numpy as np\n",
    "from datetime import datetime\n"
   ]
  },
  {
   "cell_type": "code",
   "execution_count": 3,
   "metadata": {},
   "outputs": [],
   "source": [
    "# Buffers for each sensor stream (holds tuples of (timestamp, value))\n",
    "camera_queue = queue.Queue(maxsize=10)  # Stores last 10 predictions\n",
    "gyro_queue = queue.Queue(maxsize=20)  # Faster sensor, larger buffer\n",
    "spo2_queue = queue.Queue(maxsize=5)  # Slowest sensor\n",
    "\n",
    "# Lock for thread safety\n",
    "lock = threading.Lock() \n"
   ]
  },
  {
   "cell_type": "code",
   "execution_count": 4,
   "metadata": {},
   "outputs": [],
   "source": [
    "import cv2 as cv\n",
    "import mediapipe as mp\n",
    "import numpy as np\n",
    "import pickle\n",
    "import joblib\n",
    "import time\n",
    "import csv\n",
    "import os\n",
    "from datetime import datetime\n",
    "from queue import Queue\n",
    "import threading\n",
    "\n",
    "# Load the scaler and KNN model\n",
    "scaler_path = \"C:\\\\Users\\\\HP\\\\Documents\\\\DSGP\\\\CM2603-Data_Science_Project-G20\\\\models\\\\camera\\\\Fall_Detection\\\\KNN_model\\\\scaler.pkl\"\n",
    "model_path = \"C:\\\\Users\\\\HP\\\\Documents\\\\DSGP\\\\CM2603-Data_Science_Project-G20\\\\models\\\\camera\\\\Fall_Detection\\\\KNN_model\\\\knn_model.pkl\"\n",
    "\n",
    "scaler = joblib.load(scaler_path)\n",
    "with open(model_path, \"rb\") as model_file:\n",
    "    knn_model = pickle.load(model_file)\n",
    "\n",
    "# MediaPipe Pose Setup\n",
    "mp_pose = mp.solutions.pose\n",
    "non_face_indices = list(range(11, 33))\n",
    "\n",
    "# Shared Queue & Lock for Multi-threading\n",
    "camera_queue = Queue(maxsize=100)\n",
    "lock = threading.Lock()\n",
    "\n",
    "# Define log file path\n",
    "log_file = \"camera_log.csv\"\n",
    "\n",
    "# Ensure the log file exists and has headers\n",
    "if not os.path.exists(log_file):\n",
    "    with open(log_file, \"w\", newline=\"\") as file:\n",
    "        writer = csv.writer(file)\n",
    "        writer.writerow([\"Timestamp\", \"Prediction\"])  # Column headers\n",
    "\n",
    "def process_camera():\n",
    "    cap = cv.VideoCapture(0)\n",
    "    if not cap.isOpened():\n",
    "        print(\"Error: Camera not accessible.\")\n",
    "        return\n",
    "\n",
    "    with mp_pose.Pose(min_detection_confidence=0.3, min_tracking_confidence=0.3) as pose:\n",
    "        while True:\n",
    "            ret, frame = cap.read()\n",
    "            if not ret:\n",
    "                print(\"Failed to capture frame.\")\n",
    "                break\n",
    "\n",
    "            image = cv.resize(frame, (640, 480))\n",
    "            image_rgb = cv.cvtColor(image, cv.COLOR_BGR2RGB)\n",
    "            results = pose.process(image_rgb)\n",
    "\n",
    "            prediction = 0  # Default: No fall detected\n",
    "            if results.pose_landmarks:\n",
    "                height, width, _ = image.shape\n",
    "                landmarks = results.pose_landmarks.landmark\n",
    "                filtered_landmarks = [landmarks[i] for i in non_face_indices]\n",
    "\n",
    "                x_coords = [lm.x * width for lm in filtered_landmarks]\n",
    "                y_coords = [lm.y * height for lm in filtered_landmarks]\n",
    "                visibilities = [lm.visibility for lm in filtered_landmarks]\n",
    "                \n",
    "                features_input = np.array([\n",
    "                    np.mean(x_coords), np.mean(y_coords), np.mean(visibilities),\n",
    "                    max(x_coords) - min(x_coords), max(y_coords) - min(y_coords)\n",
    "                ])\n",
    "                features_input_scaled = scaler.transform([features_input])\n",
    "\n",
    "                prediction = knn_model.predict(features_input_scaled)[0]  # 1 = Fall, 0 = Non-Fall\n",
    "            \n",
    "            timestamp = datetime.now().strftime(\"%Y-%m-%d %H:%M:%S.%f\")\n",
    "            with lock:\n",
    "                if camera_queue.full():\n",
    "                    camera_queue.get()  # Remove the oldest entry\n",
    "                camera_queue.put((timestamp, prediction))\n",
    "                \n",
    "                # Append to log file\n",
    "                with open(log_file, \"a\", newline=\"\") as file:\n",
    "                    writer = csv.writer(file)\n",
    "                    writer.writerow([timestamp, prediction])\n",
    "            \n",
    "            time.sleep(1 / 30)  # Maintain ~30 FPS\n",
    "\n",
    "    cap.release()\n",
    "    cv.destroyAllWindows()\n"
   ]
  },
  {
   "cell_type": "code",
   "execution_count": 5,
   "metadata": {},
   "outputs": [],
   "source": [
    "def process_gyro():\n",
    "    while True:\n",
    "        # Simulating an accelerometer & gyroscope prediction\n",
    "        prediction = np.random.choice([0, 1], p=[0.9, 0.1])\n",
    "        timestamp = datetime.now()\n",
    "\n",
    "        with lock:\n",
    "            if gyro_queue.full():\n",
    "                gyro_queue.get()\n",
    "            gyro_queue.put((timestamp, prediction))\n",
    "\n",
    "        time.sleep(1 / 50)  # Simulating 50 Hz (~20ms per reading)\n"
   ]
  },
  {
   "cell_type": "code",
   "execution_count": 6,
   "metadata": {},
   "outputs": [],
   "source": [
    "def process_spo2():\n",
    "    while True:\n",
    "        # Simulating a pulse oximeter prediction\n",
    "        prediction = np.random.choice([0, 1], p=[0.95, 0.05])  # 5% chance of abnormal reading\n",
    "        timestamp = datetime.now()\n",
    "\n",
    "        with lock:\n",
    "            if spo2_queue.full():\n",
    "                spo2_queue.get()\n",
    "            spo2_queue.put((timestamp, prediction))\n",
    "\n",
    "        time.sleep(1)  # Runs at 1 Hz (every second)\n"
   ]
  },
  {
   "cell_type": "code",
   "execution_count": 7,
   "metadata": {},
   "outputs": [],
   "source": [
    "def fusion_algorithm():\n",
    "    while True:\n",
    "        with lock:\n",
    "            # Get the most recent values\n",
    "            cam_pred = camera_queue.queue[-1] if not camera_queue.empty() else (datetime.now(), 0)\n",
    "            gyro_pred = gyro_queue.queue[-1] if not gyro_queue.empty() else (datetime.now(), 0)\n",
    "            spo2_pred = spo2_queue.queue[-1] if not spo2_queue.empty() else (datetime.now(), 0)\n",
    "\n",
    "        # Extract values\n",
    "        cam_time, cam_value = cam_pred\n",
    "        gyro_time, gyro_value = gyro_pred\n",
    "        spo2_time, spo2_value = spo2_pred\n",
    "\n",
    "        # Weighted Sum Calculation\n",
    "        weighted_sum = (4 * cam_value) + (2 * gyro_value) + (1 * spo2_value)\n",
    "\n",
    "        # Decision thresholds \n",
    "        if weighted_sum >= 4:\n",
    "            final_prediction = \"🚨 Fall Detected\"\n",
    "        elif weighted_sum == 3 and cam_value == 0:\n",
    "            final_prediction = \"⚠️ Risk of Falling\"\n",
    "        else:\n",
    "            final_prediction = \"✅ Non-Fall\"\n",
    "\n",
    "        print(f\"[{datetime.now().strftime('%H:%M:%S')}] Camera({cam_value}) Gyro({gyro_value}) SpO2({spo2_value}) → Prediction: {final_prediction}\")\n",
    "\n",
    "        time.sleep(0.1)  # Fusion runs every 100ms\n"
   ]
  },
  {
   "cell_type": "code",
   "execution_count": null,
   "metadata": {},
   "outputs": [
    {
     "name": "stdout",
     "output_type": "stream",
     "text": [
      "[21:10:50] Camera(0) Gyro(0) SpO2(0) → Prediction: ✅ Non-Fall\n",
      "[21:10:50] Camera(0) Gyro(1) SpO2(0) → Prediction: ✅ Non-Fall\n",
      "[21:10:50] Camera(0) Gyro(0) SpO2(0) → Prediction: ✅ Non-Fall\n",
      "[21:10:50] Camera(0) Gyro(1) SpO2(0) → Prediction: ✅ Non-Fall\n",
      "[21:10:50] Camera(0) Gyro(1) SpO2(0) → Prediction: ✅ Non-Fall\n",
      "[21:10:51] Camera(0) Gyro(0) SpO2(0) → Prediction: ✅ Non-Fall\n",
      "[21:10:51] Camera(0) Gyro(0) SpO2(0) → Prediction: ✅ Non-Fall\n",
      "[21:10:51] Camera(0) Gyro(1) SpO2(0) → Prediction: ✅ Non-Fall\n",
      "[21:10:51] Camera(0) Gyro(1) SpO2(0) → Prediction: ✅ Non-Fall\n",
      "[21:10:51] Camera(0) Gyro(0) SpO2(0) → Prediction: ✅ Non-Fall\n",
      "[21:10:51] Camera(0) Gyro(0) SpO2(0) → Prediction: ✅ Non-Fall\n",
      "[21:10:51] Camera(0) Gyro(0) SpO2(0) → Prediction: ✅ Non-Fall\n",
      "[21:10:51] Camera(0) Gyro(0) SpO2(0) → Prediction: ✅ Non-Fall\n",
      "[21:10:51] Camera(0) Gyro(0) SpO2(0) → Prediction: ✅ Non-Fall\n",
      "[21:10:51] Camera(0) Gyro(0) SpO2(0) → Prediction: ✅ Non-Fall\n",
      "[21:10:52] Camera(0) Gyro(0) SpO2(0) → Prediction: ✅ Non-Fall\n",
      "[21:10:52] Camera(0) Gyro(0) SpO2(0) → Prediction: ✅ Non-Fall\n"
     ]
    },
    {
     "name": "stderr",
     "output_type": "stream",
     "text": [
      "c:\\Users\\HP\\Documents\\DSGP\\CM2603-Data_Science_Project-G20\\fall_venv\\Lib\\site-packages\\sklearn\\utils\\validation.py:2739: UserWarning: X does not have valid feature names, but StandardScaler was fitted with feature names\n",
      "  warnings.warn(\n",
      "c:\\Users\\HP\\Documents\\DSGP\\CM2603-Data_Science_Project-G20\\fall_venv\\Lib\\site-packages\\sklearn\\utils\\validation.py:2739: UserWarning: X does not have valid feature names, but StandardScaler was fitted with feature names\n",
      "  warnings.warn(\n",
      "c:\\Users\\HP\\Documents\\DSGP\\CM2603-Data_Science_Project-G20\\fall_venv\\Lib\\site-packages\\sklearn\\utils\\validation.py:2739: UserWarning: X does not have valid feature names, but StandardScaler was fitted with feature names\n",
      "  warnings.warn(\n",
      "c:\\Users\\HP\\Documents\\DSGP\\CM2603-Data_Science_Project-G20\\fall_venv\\Lib\\site-packages\\sklearn\\utils\\validation.py:2739: UserWarning: X does not have valid feature names, but StandardScaler was fitted with feature names\n",
      "  warnings.warn(\n"
     ]
    },
    {
     "name": "stdout",
     "output_type": "stream",
     "text": [
      "[21:10:52] Camera(0) Gyro(0) SpO2(0) → Prediction: ✅ Non-Fall\n",
      "[21:10:52] Camera(0) Gyro(0) SpO2(0) → Prediction: ✅ Non-Fall\n"
     ]
    },
    {
     "name": "stderr",
     "output_type": "stream",
     "text": [
      "c:\\Users\\HP\\Documents\\DSGP\\CM2603-Data_Science_Project-G20\\fall_venv\\Lib\\site-packages\\sklearn\\utils\\validation.py:2739: UserWarning: X does not have valid feature names, but StandardScaler was fitted with feature names\n",
      "  warnings.warn(\n",
      "c:\\Users\\HP\\Documents\\DSGP\\CM2603-Data_Science_Project-G20\\fall_venv\\Lib\\site-packages\\sklearn\\utils\\validation.py:2739: UserWarning: X does not have valid feature names, but StandardScaler was fitted with feature names\n",
      "  warnings.warn(\n",
      "c:\\Users\\HP\\Documents\\DSGP\\CM2603-Data_Science_Project-G20\\fall_venv\\Lib\\site-packages\\sklearn\\utils\\validation.py:2739: UserWarning: X does not have valid feature names, but StandardScaler was fitted with feature names\n",
      "  warnings.warn(\n",
      "c:\\Users\\HP\\Documents\\DSGP\\CM2603-Data_Science_Project-G20\\fall_venv\\Lib\\site-packages\\sklearn\\utils\\validation.py:2739: UserWarning: X does not have valid feature names, but StandardScaler was fitted with feature names\n",
      "  warnings.warn(\n"
     ]
    },
    {
     "name": "stdout",
     "output_type": "stream",
     "text": [
      "[21:10:52] Camera(0) Gyro(0) SpO2(0) → Prediction: ✅ Non-Fall\n",
      "[21:10:52] Camera(0) Gyro(0) SpO2(0) → Prediction: ✅ Non-Fall\n",
      "[21:10:52] Camera(0) Gyro(0) SpO2(0) → Prediction: ✅ Non-Fall\n"
     ]
    },
    {
     "name": "stderr",
     "output_type": "stream",
     "text": [
      "c:\\Users\\HP\\Documents\\DSGP\\CM2603-Data_Science_Project-G20\\fall_venv\\Lib\\site-packages\\sklearn\\utils\\validation.py:2739: UserWarning: X does not have valid feature names, but StandardScaler was fitted with feature names\n",
      "  warnings.warn(\n",
      "c:\\Users\\HP\\Documents\\DSGP\\CM2603-Data_Science_Project-G20\\fall_venv\\Lib\\site-packages\\sklearn\\utils\\validation.py:2739: UserWarning: X does not have valid feature names, but StandardScaler was fitted with feature names\n",
      "  warnings.warn(\n",
      "c:\\Users\\HP\\Documents\\DSGP\\CM2603-Data_Science_Project-G20\\fall_venv\\Lib\\site-packages\\sklearn\\utils\\validation.py:2739: UserWarning: X does not have valid feature names, but StandardScaler was fitted with feature names\n",
      "  warnings.warn(\n",
      "c:\\Users\\HP\\Documents\\DSGP\\CM2603-Data_Science_Project-G20\\fall_venv\\Lib\\site-packages\\sklearn\\utils\\validation.py:2739: UserWarning: X does not have valid feature names, but StandardScaler was fitted with feature names\n",
      "  warnings.warn(\n"
     ]
    },
    {
     "name": "stdout",
     "output_type": "stream",
     "text": [
      "[21:10:52] Camera(0) Gyro(0) SpO2(0) → Prediction: ✅ Non-Fall\n",
      "[21:10:52] Camera(0) Gyro(1) SpO2(0) → Prediction: ✅ Non-Fall\n",
      "[21:10:52] Camera(0) Gyro(0) SpO2(0) → Prediction: ✅ Non-Fall\n"
     ]
    },
    {
     "name": "stderr",
     "output_type": "stream",
     "text": [
      "c:\\Users\\HP\\Documents\\DSGP\\CM2603-Data_Science_Project-G20\\fall_venv\\Lib\\site-packages\\sklearn\\utils\\validation.py:2739: UserWarning: X does not have valid feature names, but StandardScaler was fitted with feature names\n",
      "  warnings.warn(\n",
      "c:\\Users\\HP\\Documents\\DSGP\\CM2603-Data_Science_Project-G20\\fall_venv\\Lib\\site-packages\\sklearn\\utils\\validation.py:2739: UserWarning: X does not have valid feature names, but StandardScaler was fitted with feature names\n",
      "  warnings.warn(\n",
      "c:\\Users\\HP\\Documents\\DSGP\\CM2603-Data_Science_Project-G20\\fall_venv\\Lib\\site-packages\\sklearn\\utils\\validation.py:2739: UserWarning: X does not have valid feature names, but StandardScaler was fitted with feature names\n",
      "  warnings.warn(\n"
     ]
    },
    {
     "name": "stdout",
     "output_type": "stream",
     "text": [
      "[21:10:53] Camera(0) Gyro(0) SpO2(0) → Prediction: ✅ Non-Fall\n",
      "[21:10:53] Camera(0) Gyro(0) SpO2(0) → Prediction: ✅ Non-Fall\n",
      "[21:10:53] Camera(0) Gyro(0) SpO2(0) → Prediction: ✅ Non-Fall\n"
     ]
    },
    {
     "name": "stderr",
     "output_type": "stream",
     "text": [
      "c:\\Users\\HP\\Documents\\DSGP\\CM2603-Data_Science_Project-G20\\fall_venv\\Lib\\site-packages\\sklearn\\utils\\validation.py:2739: UserWarning: X does not have valid feature names, but StandardScaler was fitted with feature names\n",
      "  warnings.warn(\n",
      "c:\\Users\\HP\\Documents\\DSGP\\CM2603-Data_Science_Project-G20\\fall_venv\\Lib\\site-packages\\sklearn\\utils\\validation.py:2739: UserWarning: X does not have valid feature names, but StandardScaler was fitted with feature names\n",
      "  warnings.warn(\n",
      "c:\\Users\\HP\\Documents\\DSGP\\CM2603-Data_Science_Project-G20\\fall_venv\\Lib\\site-packages\\sklearn\\utils\\validation.py:2739: UserWarning: X does not have valid feature names, but StandardScaler was fitted with feature names\n",
      "  warnings.warn(\n",
      "c:\\Users\\HP\\Documents\\DSGP\\CM2603-Data_Science_Project-G20\\fall_venv\\Lib\\site-packages\\sklearn\\utils\\validation.py:2739: UserWarning: X does not have valid feature names, but StandardScaler was fitted with feature names\n",
      "  warnings.warn(\n"
     ]
    },
    {
     "name": "stdout",
     "output_type": "stream",
     "text": [
      "[21:10:53] Camera(0) Gyro(0) SpO2(0) → Prediction: ✅ Non-Fall\n",
      "[21:10:53] Camera(0) Gyro(0) SpO2(0) → Prediction: ✅ Non-Fall\n"
     ]
    },
    {
     "name": "stderr",
     "output_type": "stream",
     "text": [
      "c:\\Users\\HP\\Documents\\DSGP\\CM2603-Data_Science_Project-G20\\fall_venv\\Lib\\site-packages\\sklearn\\utils\\validation.py:2739: UserWarning: X does not have valid feature names, but StandardScaler was fitted with feature names\n",
      "  warnings.warn(\n",
      "c:\\Users\\HP\\Documents\\DSGP\\CM2603-Data_Science_Project-G20\\fall_venv\\Lib\\site-packages\\sklearn\\utils\\validation.py:2739: UserWarning: X does not have valid feature names, but StandardScaler was fitted with feature names\n",
      "  warnings.warn(\n",
      "c:\\Users\\HP\\Documents\\DSGP\\CM2603-Data_Science_Project-G20\\fall_venv\\Lib\\site-packages\\sklearn\\utils\\validation.py:2739: UserWarning: X does not have valid feature names, but StandardScaler was fitted with feature names\n",
      "  warnings.warn(\n",
      "c:\\Users\\HP\\Documents\\DSGP\\CM2603-Data_Science_Project-G20\\fall_venv\\Lib\\site-packages\\sklearn\\utils\\validation.py:2739: UserWarning: X does not have valid feature names, but StandardScaler was fitted with feature names\n",
      "  warnings.warn(\n"
     ]
    },
    {
     "name": "stdout",
     "output_type": "stream",
     "text": [
      "[21:10:53] Camera(0) Gyro(0) SpO2(0) → Prediction: ✅ Non-Fall\n",
      "[21:10:53] Camera(0) Gyro(0) SpO2(0) → Prediction: ✅ Non-Fall\n",
      "[21:10:53] Camera(0) Gyro(0) SpO2(0) → Prediction: ✅ Non-Fall\n"
     ]
    },
    {
     "name": "stderr",
     "output_type": "stream",
     "text": [
      "c:\\Users\\HP\\Documents\\DSGP\\CM2603-Data_Science_Project-G20\\fall_venv\\Lib\\site-packages\\sklearn\\utils\\validation.py:2739: UserWarning: X does not have valid feature names, but StandardScaler was fitted with feature names\n",
      "  warnings.warn(\n",
      "c:\\Users\\HP\\Documents\\DSGP\\CM2603-Data_Science_Project-G20\\fall_venv\\Lib\\site-packages\\sklearn\\utils\\validation.py:2739: UserWarning: X does not have valid feature names, but StandardScaler was fitted with feature names\n",
      "  warnings.warn(\n",
      "c:\\Users\\HP\\Documents\\DSGP\\CM2603-Data_Science_Project-G20\\fall_venv\\Lib\\site-packages\\sklearn\\utils\\validation.py:2739: UserWarning: X does not have valid feature names, but StandardScaler was fitted with feature names\n",
      "  warnings.warn(\n"
     ]
    },
    {
     "name": "stdout",
     "output_type": "stream",
     "text": [
      "[21:10:53] Camera(0) Gyro(0) SpO2(0) → Prediction: ✅ Non-Fall\n",
      "[21:10:53] Camera(0) Gyro(0) SpO2(0) → Prediction: ✅ Non-Fall\n",
      "[21:10:54] Camera(0) Gyro(0) SpO2(0) → Prediction: ✅ Non-Fall\n"
     ]
    },
    {
     "name": "stderr",
     "output_type": "stream",
     "text": [
      "c:\\Users\\HP\\Documents\\DSGP\\CM2603-Data_Science_Project-G20\\fall_venv\\Lib\\site-packages\\sklearn\\utils\\validation.py:2739: UserWarning: X does not have valid feature names, but StandardScaler was fitted with feature names\n",
      "  warnings.warn(\n",
      "c:\\Users\\HP\\Documents\\DSGP\\CM2603-Data_Science_Project-G20\\fall_venv\\Lib\\site-packages\\sklearn\\utils\\validation.py:2739: UserWarning: X does not have valid feature names, but StandardScaler was fitted with feature names\n",
      "  warnings.warn(\n",
      "c:\\Users\\HP\\Documents\\DSGP\\CM2603-Data_Science_Project-G20\\fall_venv\\Lib\\site-packages\\sklearn\\utils\\validation.py:2739: UserWarning: X does not have valid feature names, but StandardScaler was fitted with feature names\n",
      "  warnings.warn(\n",
      "c:\\Users\\HP\\Documents\\DSGP\\CM2603-Data_Science_Project-G20\\fall_venv\\Lib\\site-packages\\sklearn\\utils\\validation.py:2739: UserWarning: X does not have valid feature names, but StandardScaler was fitted with feature names\n",
      "  warnings.warn(\n",
      "c:\\Users\\HP\\Documents\\DSGP\\CM2603-Data_Science_Project-G20\\fall_venv\\Lib\\site-packages\\sklearn\\utils\\validation.py:2739: UserWarning: X does not have valid feature names, but StandardScaler was fitted with feature names\n",
      "  warnings.warn(\n",
      "c:\\Users\\HP\\Documents\\DSGP\\CM2603-Data_Science_Project-G20\\fall_venv\\Lib\\site-packages\\sklearn\\utils\\validation.py:2739: UserWarning: X does not have valid feature names, but StandardScaler was fitted with feature names\n",
      "  warnings.warn(\n",
      "c:\\Users\\HP\\Documents\\DSGP\\CM2603-Data_Science_Project-G20\\fall_venv\\Lib\\site-packages\\sklearn\\utils\\validation.py:2739: UserWarning: X does not have valid feature names, but StandardScaler was fitted with feature names\n",
      "  warnings.warn(\n"
     ]
    },
    {
     "name": "stdout",
     "output_type": "stream",
     "text": [
      "[21:10:54] Camera(0) Gyro(0) SpO2(0) → Prediction: ✅ Non-Fall\n",
      "[21:10:54] Camera(0) Gyro(0) SpO2(0) → Prediction: ✅ Non-Fall\n",
      "[21:10:54] Camera(0) Gyro(0) SpO2(0) → Prediction: ✅ Non-Fall\n"
     ]
    },
    {
     "name": "stderr",
     "output_type": "stream",
     "text": [
      "c:\\Users\\HP\\Documents\\DSGP\\CM2603-Data_Science_Project-G20\\fall_venv\\Lib\\site-packages\\sklearn\\utils\\validation.py:2739: UserWarning: X does not have valid feature names, but StandardScaler was fitted with feature names\n",
      "  warnings.warn(\n",
      "c:\\Users\\HP\\Documents\\DSGP\\CM2603-Data_Science_Project-G20\\fall_venv\\Lib\\site-packages\\sklearn\\utils\\validation.py:2739: UserWarning: X does not have valid feature names, but StandardScaler was fitted with feature names\n",
      "  warnings.warn(\n",
      "c:\\Users\\HP\\Documents\\DSGP\\CM2603-Data_Science_Project-G20\\fall_venv\\Lib\\site-packages\\sklearn\\utils\\validation.py:2739: UserWarning: X does not have valid feature names, but StandardScaler was fitted with feature names\n",
      "  warnings.warn(\n",
      "c:\\Users\\HP\\Documents\\DSGP\\CM2603-Data_Science_Project-G20\\fall_venv\\Lib\\site-packages\\sklearn\\utils\\validation.py:2739: UserWarning: X does not have valid feature names, but StandardScaler was fitted with feature names\n",
      "  warnings.warn(\n"
     ]
    },
    {
     "name": "stdout",
     "output_type": "stream",
     "text": [
      "[21:10:54] Camera(0) Gyro(0) SpO2(0) → Prediction: ✅ Non-Fall\n",
      "[21:10:54] Camera(0) Gyro(0) SpO2(0) → Prediction: ✅ Non-Fall\n"
     ]
    },
    {
     "name": "stderr",
     "output_type": "stream",
     "text": [
      "c:\\Users\\HP\\Documents\\DSGP\\CM2603-Data_Science_Project-G20\\fall_venv\\Lib\\site-packages\\sklearn\\utils\\validation.py:2739: UserWarning: X does not have valid feature names, but StandardScaler was fitted with feature names\n",
      "  warnings.warn(\n",
      "c:\\Users\\HP\\Documents\\DSGP\\CM2603-Data_Science_Project-G20\\fall_venv\\Lib\\site-packages\\sklearn\\utils\\validation.py:2739: UserWarning: X does not have valid feature names, but StandardScaler was fitted with feature names\n",
      "  warnings.warn(\n",
      "c:\\Users\\HP\\Documents\\DSGP\\CM2603-Data_Science_Project-G20\\fall_venv\\Lib\\site-packages\\sklearn\\utils\\validation.py:2739: UserWarning: X does not have valid feature names, but StandardScaler was fitted with feature names\n",
      "  warnings.warn(\n",
      "c:\\Users\\HP\\Documents\\DSGP\\CM2603-Data_Science_Project-G20\\fall_venv\\Lib\\site-packages\\sklearn\\utils\\validation.py:2739: UserWarning: X does not have valid feature names, but StandardScaler was fitted with feature names\n",
      "  warnings.warn(\n"
     ]
    },
    {
     "name": "stdout",
     "output_type": "stream",
     "text": [
      "[21:10:54] Camera(0) Gyro(0) SpO2(0) → Prediction: ✅ Non-Fall\n",
      "[21:10:54] Camera(0) Gyro(0) SpO2(0) → Prediction: ✅ Non-Fall\n",
      "[21:10:54] Camera(0) Gyro(0) SpO2(0) → Prediction: ✅ Non-Fall\n"
     ]
    },
    {
     "name": "stderr",
     "output_type": "stream",
     "text": [
      "c:\\Users\\HP\\Documents\\DSGP\\CM2603-Data_Science_Project-G20\\fall_venv\\Lib\\site-packages\\sklearn\\utils\\validation.py:2739: UserWarning: X does not have valid feature names, but StandardScaler was fitted with feature names\n",
      "  warnings.warn(\n",
      "c:\\Users\\HP\\Documents\\DSGP\\CM2603-Data_Science_Project-G20\\fall_venv\\Lib\\site-packages\\sklearn\\utils\\validation.py:2739: UserWarning: X does not have valid feature names, but StandardScaler was fitted with feature names\n",
      "  warnings.warn(\n",
      "c:\\Users\\HP\\Documents\\DSGP\\CM2603-Data_Science_Project-G20\\fall_venv\\Lib\\site-packages\\sklearn\\utils\\validation.py:2739: UserWarning: X does not have valid feature names, but StandardScaler was fitted with feature names\n",
      "  warnings.warn(\n",
      "c:\\Users\\HP\\Documents\\DSGP\\CM2603-Data_Science_Project-G20\\fall_venv\\Lib\\site-packages\\sklearn\\utils\\validation.py:2739: UserWarning: X does not have valid feature names, but StandardScaler was fitted with feature names\n",
      "  warnings.warn(\n"
     ]
    },
    {
     "name": "stdout",
     "output_type": "stream",
     "text": [
      "[21:10:54] Camera(0) Gyro(0) SpO2(0) → Prediction: ✅ Non-Fall\n",
      "[21:10:55] Camera(0) Gyro(0) SpO2(0) → Prediction: ✅ Non-Fall\n"
     ]
    },
    {
     "name": "stderr",
     "output_type": "stream",
     "text": [
      "c:\\Users\\HP\\Documents\\DSGP\\CM2603-Data_Science_Project-G20\\fall_venv\\Lib\\site-packages\\sklearn\\utils\\validation.py:2739: UserWarning: X does not have valid feature names, but StandardScaler was fitted with feature names\n",
      "  warnings.warn(\n",
      "c:\\Users\\HP\\Documents\\DSGP\\CM2603-Data_Science_Project-G20\\fall_venv\\Lib\\site-packages\\sklearn\\utils\\validation.py:2739: UserWarning: X does not have valid feature names, but StandardScaler was fitted with feature names\n",
      "  warnings.warn(\n",
      "c:\\Users\\HP\\Documents\\DSGP\\CM2603-Data_Science_Project-G20\\fall_venv\\Lib\\site-packages\\sklearn\\utils\\validation.py:2739: UserWarning: X does not have valid feature names, but StandardScaler was fitted with feature names\n",
      "  warnings.warn(\n"
     ]
    },
    {
     "name": "stdout",
     "output_type": "stream",
     "text": [
      "[21:10:55] Camera(0) Gyro(1) SpO2(0) → Prediction: ✅ Non-Fall\n",
      "[21:10:55] Camera(0) Gyro(0) SpO2(0) → Prediction: ✅ Non-Fall\n",
      "[21:10:55] Camera(0) Gyro(0) SpO2(0) → Prediction: ✅ Non-Fall\n",
      "[21:10:55] Camera(0) Gyro(0) SpO2(0) → Prediction: ✅ Non-Fall\n",
      "[21:10:55] Camera(0) Gyro(0) SpO2(0) → Prediction: ✅ Non-Fall\n"
     ]
    },
    {
     "name": "stderr",
     "output_type": "stream",
     "text": [
      "c:\\Users\\HP\\Documents\\DSGP\\CM2603-Data_Science_Project-G20\\fall_venv\\Lib\\site-packages\\sklearn\\utils\\validation.py:2739: UserWarning: X does not have valid feature names, but StandardScaler was fitted with feature names\n",
      "  warnings.warn(\n",
      "c:\\Users\\HP\\Documents\\DSGP\\CM2603-Data_Science_Project-G20\\fall_venv\\Lib\\site-packages\\sklearn\\utils\\validation.py:2739: UserWarning: X does not have valid feature names, but StandardScaler was fitted with feature names\n",
      "  warnings.warn(\n",
      "c:\\Users\\HP\\Documents\\DSGP\\CM2603-Data_Science_Project-G20\\fall_venv\\Lib\\site-packages\\sklearn\\utils\\validation.py:2739: UserWarning: X does not have valid feature names, but StandardScaler was fitted with feature names\n",
      "  warnings.warn(\n",
      "c:\\Users\\HP\\Documents\\DSGP\\CM2603-Data_Science_Project-G20\\fall_venv\\Lib\\site-packages\\sklearn\\utils\\validation.py:2739: UserWarning: X does not have valid feature names, but StandardScaler was fitted with feature names\n",
      "  warnings.warn(\n",
      "c:\\Users\\HP\\Documents\\DSGP\\CM2603-Data_Science_Project-G20\\fall_venv\\Lib\\site-packages\\sklearn\\utils\\validation.py:2739: UserWarning: X does not have valid feature names, but StandardScaler was fitted with feature names\n",
      "  warnings.warn(\n",
      "c:\\Users\\HP\\Documents\\DSGP\\CM2603-Data_Science_Project-G20\\fall_venv\\Lib\\site-packages\\sklearn\\utils\\validation.py:2739: UserWarning: X does not have valid feature names, but StandardScaler was fitted with feature names\n",
      "  warnings.warn(\n"
     ]
    },
    {
     "name": "stdout",
     "output_type": "stream",
     "text": [
      "[21:10:55] Camera(0) Gyro(0) SpO2(0) → Prediction: ✅ Non-Fall\n",
      "[21:10:55] Camera(0) Gyro(0) SpO2(0) → Prediction: ✅ Non-Fall\n"
     ]
    },
    {
     "name": "stderr",
     "output_type": "stream",
     "text": [
      "c:\\Users\\HP\\Documents\\DSGP\\CM2603-Data_Science_Project-G20\\fall_venv\\Lib\\site-packages\\sklearn\\utils\\validation.py:2739: UserWarning: X does not have valid feature names, but StandardScaler was fitted with feature names\n",
      "  warnings.warn(\n",
      "c:\\Users\\HP\\Documents\\DSGP\\CM2603-Data_Science_Project-G20\\fall_venv\\Lib\\site-packages\\sklearn\\utils\\validation.py:2739: UserWarning: X does not have valid feature names, but StandardScaler was fitted with feature names\n",
      "  warnings.warn(\n",
      "c:\\Users\\HP\\Documents\\DSGP\\CM2603-Data_Science_Project-G20\\fall_venv\\Lib\\site-packages\\sklearn\\utils\\validation.py:2739: UserWarning: X does not have valid feature names, but StandardScaler was fitted with feature names\n",
      "  warnings.warn(\n"
     ]
    },
    {
     "name": "stdout",
     "output_type": "stream",
     "text": [
      "[21:10:55] Camera(0) Gyro(0) SpO2(0) → Prediction: ✅ Non-Fall\n",
      "[21:10:55] Camera(0) Gyro(0) SpO2(0) → Prediction: ✅ Non-Fall\n",
      "[21:10:56] Camera(0) Gyro(0) SpO2(0) → Prediction: ✅ Non-Fall\n"
     ]
    },
    {
     "name": "stderr",
     "output_type": "stream",
     "text": [
      "c:\\Users\\HP\\Documents\\DSGP\\CM2603-Data_Science_Project-G20\\fall_venv\\Lib\\site-packages\\sklearn\\utils\\validation.py:2739: UserWarning: X does not have valid feature names, but StandardScaler was fitted with feature names\n",
      "  warnings.warn(\n",
      "c:\\Users\\HP\\Documents\\DSGP\\CM2603-Data_Science_Project-G20\\fall_venv\\Lib\\site-packages\\sklearn\\utils\\validation.py:2739: UserWarning: X does not have valid feature names, but StandardScaler was fitted with feature names\n",
      "  warnings.warn(\n",
      "c:\\Users\\HP\\Documents\\DSGP\\CM2603-Data_Science_Project-G20\\fall_venv\\Lib\\site-packages\\sklearn\\utils\\validation.py:2739: UserWarning: X does not have valid feature names, but StandardScaler was fitted with feature names\n",
      "  warnings.warn(\n",
      "c:\\Users\\HP\\Documents\\DSGP\\CM2603-Data_Science_Project-G20\\fall_venv\\Lib\\site-packages\\sklearn\\utils\\validation.py:2739: UserWarning: X does not have valid feature names, but StandardScaler was fitted with feature names\n",
      "  warnings.warn(\n"
     ]
    },
    {
     "name": "stdout",
     "output_type": "stream",
     "text": [
      "[21:10:56] Camera(0) Gyro(0) SpO2(0) → Prediction: ✅ Non-Fall\n",
      "[21:10:56] Camera(0) Gyro(0) SpO2(0) → Prediction: ✅ Non-Fall\n"
     ]
    },
    {
     "name": "stderr",
     "output_type": "stream",
     "text": [
      "c:\\Users\\HP\\Documents\\DSGP\\CM2603-Data_Science_Project-G20\\fall_venv\\Lib\\site-packages\\sklearn\\utils\\validation.py:2739: UserWarning: X does not have valid feature names, but StandardScaler was fitted with feature names\n",
      "  warnings.warn(\n",
      "c:\\Users\\HP\\Documents\\DSGP\\CM2603-Data_Science_Project-G20\\fall_venv\\Lib\\site-packages\\sklearn\\utils\\validation.py:2739: UserWarning: X does not have valid feature names, but StandardScaler was fitted with feature names\n",
      "  warnings.warn(\n",
      "c:\\Users\\HP\\Documents\\DSGP\\CM2603-Data_Science_Project-G20\\fall_venv\\Lib\\site-packages\\sklearn\\utils\\validation.py:2739: UserWarning: X does not have valid feature names, but StandardScaler was fitted with feature names\n",
      "  warnings.warn(\n"
     ]
    },
    {
     "name": "stdout",
     "output_type": "stream",
     "text": [
      "[21:10:56] Camera(0) Gyro(0) SpO2(0) → Prediction: ✅ Non-Fall\n",
      "[21:10:56] Camera(0) Gyro(0) SpO2(0) → Prediction: ✅ Non-Fall\n",
      "[21:10:56] Camera(0) Gyro(1) SpO2(0) → Prediction: ✅ Non-Fall\n"
     ]
    },
    {
     "name": "stderr",
     "output_type": "stream",
     "text": [
      "c:\\Users\\HP\\Documents\\DSGP\\CM2603-Data_Science_Project-G20\\fall_venv\\Lib\\site-packages\\sklearn\\utils\\validation.py:2739: UserWarning: X does not have valid feature names, but StandardScaler was fitted with feature names\n",
      "  warnings.warn(\n",
      "c:\\Users\\HP\\Documents\\DSGP\\CM2603-Data_Science_Project-G20\\fall_venv\\Lib\\site-packages\\sklearn\\utils\\validation.py:2739: UserWarning: X does not have valid feature names, but StandardScaler was fitted with feature names\n",
      "  warnings.warn(\n",
      "c:\\Users\\HP\\Documents\\DSGP\\CM2603-Data_Science_Project-G20\\fall_venv\\Lib\\site-packages\\sklearn\\utils\\validation.py:2739: UserWarning: X does not have valid feature names, but StandardScaler was fitted with feature names\n",
      "  warnings.warn(\n"
     ]
    },
    {
     "name": "stdout",
     "output_type": "stream",
     "text": [
      "[21:10:56] Camera(0) Gyro(0) SpO2(0) → Prediction: ✅ Non-Fall\n",
      "[21:10:56] Camera(0) Gyro(1) SpO2(0) → Prediction: ✅ Non-Fall\n",
      "[21:10:57] Camera(0) Gyro(0) SpO2(0) → Prediction: ✅ Non-Fall\n"
     ]
    },
    {
     "name": "stderr",
     "output_type": "stream",
     "text": [
      "c:\\Users\\HP\\Documents\\DSGP\\CM2603-Data_Science_Project-G20\\fall_venv\\Lib\\site-packages\\sklearn\\utils\\validation.py:2739: UserWarning: X does not have valid feature names, but StandardScaler was fitted with feature names\n",
      "  warnings.warn(\n",
      "c:\\Users\\HP\\Documents\\DSGP\\CM2603-Data_Science_Project-G20\\fall_venv\\Lib\\site-packages\\sklearn\\utils\\validation.py:2739: UserWarning: X does not have valid feature names, but StandardScaler was fitted with feature names\n",
      "  warnings.warn(\n",
      "c:\\Users\\HP\\Documents\\DSGP\\CM2603-Data_Science_Project-G20\\fall_venv\\Lib\\site-packages\\sklearn\\utils\\validation.py:2739: UserWarning: X does not have valid feature names, but StandardScaler was fitted with feature names\n",
      "  warnings.warn(\n"
     ]
    },
    {
     "name": "stdout",
     "output_type": "stream",
     "text": [
      "[21:10:57] Camera(0) Gyro(1) SpO2(0) → Prediction: ✅ Non-Fall\n",
      "[21:10:57] Camera(0) Gyro(1) SpO2(0) → Prediction: ✅ Non-Fall\n"
     ]
    },
    {
     "name": "stderr",
     "output_type": "stream",
     "text": [
      "c:\\Users\\HP\\Documents\\DSGP\\CM2603-Data_Science_Project-G20\\fall_venv\\Lib\\site-packages\\sklearn\\utils\\validation.py:2739: UserWarning: X does not have valid feature names, but StandardScaler was fitted with feature names\n",
      "  warnings.warn(\n",
      "c:\\Users\\HP\\Documents\\DSGP\\CM2603-Data_Science_Project-G20\\fall_venv\\Lib\\site-packages\\sklearn\\utils\\validation.py:2739: UserWarning: X does not have valid feature names, but StandardScaler was fitted with feature names\n",
      "  warnings.warn(\n",
      "c:\\Users\\HP\\Documents\\DSGP\\CM2603-Data_Science_Project-G20\\fall_venv\\Lib\\site-packages\\sklearn\\utils\\validation.py:2739: UserWarning: X does not have valid feature names, but StandardScaler was fitted with feature names\n",
      "  warnings.warn(\n"
     ]
    },
    {
     "name": "stdout",
     "output_type": "stream",
     "text": [
      "[21:10:57] Camera(0) Gyro(1) SpO2(0) → Prediction: ✅ Non-Fall\n",
      "[21:10:57] Camera(0) Gyro(0) SpO2(0) → Prediction: ✅ Non-Fall\n",
      "[21:10:57] Camera(0) Gyro(0) SpO2(0) → Prediction: ✅ Non-Fall\n"
     ]
    },
    {
     "name": "stderr",
     "output_type": "stream",
     "text": [
      "c:\\Users\\HP\\Documents\\DSGP\\CM2603-Data_Science_Project-G20\\fall_venv\\Lib\\site-packages\\sklearn\\utils\\validation.py:2739: UserWarning: X does not have valid feature names, but StandardScaler was fitted with feature names\n",
      "  warnings.warn(\n",
      "c:\\Users\\HP\\Documents\\DSGP\\CM2603-Data_Science_Project-G20\\fall_venv\\Lib\\site-packages\\sklearn\\utils\\validation.py:2739: UserWarning: X does not have valid feature names, but StandardScaler was fitted with feature names\n",
      "  warnings.warn(\n",
      "c:\\Users\\HP\\Documents\\DSGP\\CM2603-Data_Science_Project-G20\\fall_venv\\Lib\\site-packages\\sklearn\\utils\\validation.py:2739: UserWarning: X does not have valid feature names, but StandardScaler was fitted with feature names\n",
      "  warnings.warn(\n"
     ]
    },
    {
     "name": "stdout",
     "output_type": "stream",
     "text": [
      "[21:10:57] Camera(0) Gyro(0) SpO2(0) → Prediction: ✅ Non-Fall\n",
      "[21:10:57] Camera(0) Gyro(0) SpO2(0) → Prediction: ✅ Non-Fall\n"
     ]
    },
    {
     "name": "stderr",
     "output_type": "stream",
     "text": [
      "c:\\Users\\HP\\Documents\\DSGP\\CM2603-Data_Science_Project-G20\\fall_venv\\Lib\\site-packages\\sklearn\\utils\\validation.py:2739: UserWarning: X does not have valid feature names, but StandardScaler was fitted with feature names\n",
      "  warnings.warn(\n",
      "c:\\Users\\HP\\Documents\\DSGP\\CM2603-Data_Science_Project-G20\\fall_venv\\Lib\\site-packages\\sklearn\\utils\\validation.py:2739: UserWarning: X does not have valid feature names, but StandardScaler was fitted with feature names\n",
      "  warnings.warn(\n",
      "c:\\Users\\HP\\Documents\\DSGP\\CM2603-Data_Science_Project-G20\\fall_venv\\Lib\\site-packages\\sklearn\\utils\\validation.py:2739: UserWarning: X does not have valid feature names, but StandardScaler was fitted with feature names\n",
      "  warnings.warn(\n"
     ]
    },
    {
     "name": "stdout",
     "output_type": "stream",
     "text": [
      "[21:10:57] Camera(0) Gyro(0) SpO2(0) → Prediction: ✅ Non-Fall\n",
      "[21:10:57] Camera(0) Gyro(0) SpO2(0) → Prediction: ✅ Non-Fall\n"
     ]
    },
    {
     "name": "stderr",
     "output_type": "stream",
     "text": [
      "c:\\Users\\HP\\Documents\\DSGP\\CM2603-Data_Science_Project-G20\\fall_venv\\Lib\\site-packages\\sklearn\\utils\\validation.py:2739: UserWarning: X does not have valid feature names, but StandardScaler was fitted with feature names\n",
      "  warnings.warn(\n",
      "c:\\Users\\HP\\Documents\\DSGP\\CM2603-Data_Science_Project-G20\\fall_venv\\Lib\\site-packages\\sklearn\\utils\\validation.py:2739: UserWarning: X does not have valid feature names, but StandardScaler was fitted with feature names\n",
      "  warnings.warn(\n",
      "c:\\Users\\HP\\Documents\\DSGP\\CM2603-Data_Science_Project-G20\\fall_venv\\Lib\\site-packages\\sklearn\\utils\\validation.py:2739: UserWarning: X does not have valid feature names, but StandardScaler was fitted with feature names\n",
      "  warnings.warn(\n"
     ]
    },
    {
     "name": "stdout",
     "output_type": "stream",
     "text": [
      "[21:10:58] Camera(0) Gyro(0) SpO2(0) → Prediction: ✅ Non-Fall\n",
      "[21:10:58] Camera(0) Gyro(0) SpO2(0) → Prediction: ✅ Non-Fall\n"
     ]
    },
    {
     "name": "stderr",
     "output_type": "stream",
     "text": [
      "c:\\Users\\HP\\Documents\\DSGP\\CM2603-Data_Science_Project-G20\\fall_venv\\Lib\\site-packages\\sklearn\\utils\\validation.py:2739: UserWarning: X does not have valid feature names, but StandardScaler was fitted with feature names\n",
      "  warnings.warn(\n",
      "c:\\Users\\HP\\Documents\\DSGP\\CM2603-Data_Science_Project-G20\\fall_venv\\Lib\\site-packages\\sklearn\\utils\\validation.py:2739: UserWarning: X does not have valid feature names, but StandardScaler was fitted with feature names\n",
      "  warnings.warn(\n",
      "c:\\Users\\HP\\Documents\\DSGP\\CM2603-Data_Science_Project-G20\\fall_venv\\Lib\\site-packages\\sklearn\\utils\\validation.py:2739: UserWarning: X does not have valid feature names, but StandardScaler was fitted with feature names\n",
      "  warnings.warn(\n"
     ]
    },
    {
     "name": "stdout",
     "output_type": "stream",
     "text": [
      "[21:10:58] Camera(0) Gyro(0) SpO2(0) → Prediction: ✅ Non-Fall\n",
      "[21:10:58] Camera(0) Gyro(0) SpO2(0) → Prediction: ✅ Non-Fall\n",
      "[21:10:58] Camera(0) Gyro(0) SpO2(0) → Prediction: ✅ Non-Fall\n"
     ]
    },
    {
     "name": "stderr",
     "output_type": "stream",
     "text": [
      "c:\\Users\\HP\\Documents\\DSGP\\CM2603-Data_Science_Project-G20\\fall_venv\\Lib\\site-packages\\sklearn\\utils\\validation.py:2739: UserWarning: X does not have valid feature names, but StandardScaler was fitted with feature names\n",
      "  warnings.warn(\n",
      "c:\\Users\\HP\\Documents\\DSGP\\CM2603-Data_Science_Project-G20\\fall_venv\\Lib\\site-packages\\sklearn\\utils\\validation.py:2739: UserWarning: X does not have valid feature names, but StandardScaler was fitted with feature names\n",
      "  warnings.warn(\n",
      "c:\\Users\\HP\\Documents\\DSGP\\CM2603-Data_Science_Project-G20\\fall_venv\\Lib\\site-packages\\sklearn\\utils\\validation.py:2739: UserWarning: X does not have valid feature names, but StandardScaler was fitted with feature names\n",
      "  warnings.warn(\n"
     ]
    },
    {
     "name": "stdout",
     "output_type": "stream",
     "text": [
      "[21:10:58] Camera(0) Gyro(1) SpO2(0) → Prediction: ✅ Non-Fall\n",
      "[21:10:58] Camera(0) Gyro(0) SpO2(0) → Prediction: ✅ Non-Fall\n",
      "[21:10:58] Camera(0) Gyro(0) SpO2(0) → Prediction: ✅ Non-Fall\n"
     ]
    },
    {
     "name": "stderr",
     "output_type": "stream",
     "text": [
      "c:\\Users\\HP\\Documents\\DSGP\\CM2603-Data_Science_Project-G20\\fall_venv\\Lib\\site-packages\\sklearn\\utils\\validation.py:2739: UserWarning: X does not have valid feature names, but StandardScaler was fitted with feature names\n",
      "  warnings.warn(\n",
      "c:\\Users\\HP\\Documents\\DSGP\\CM2603-Data_Science_Project-G20\\fall_venv\\Lib\\site-packages\\sklearn\\utils\\validation.py:2739: UserWarning: X does not have valid feature names, but StandardScaler was fitted with feature names\n",
      "  warnings.warn(\n",
      "c:\\Users\\HP\\Documents\\DSGP\\CM2603-Data_Science_Project-G20\\fall_venv\\Lib\\site-packages\\sklearn\\utils\\validation.py:2739: UserWarning: X does not have valid feature names, but StandardScaler was fitted with feature names\n",
      "  warnings.warn(\n",
      "c:\\Users\\HP\\Documents\\DSGP\\CM2603-Data_Science_Project-G20\\fall_venv\\Lib\\site-packages\\sklearn\\utils\\validation.py:2739: UserWarning: X does not have valid feature names, but StandardScaler was fitted with feature names\n",
      "  warnings.warn(\n",
      "c:\\Users\\HP\\Documents\\DSGP\\CM2603-Data_Science_Project-G20\\fall_venv\\Lib\\site-packages\\sklearn\\utils\\validation.py:2739: UserWarning: X does not have valid feature names, but StandardScaler was fitted with feature names\n",
      "  warnings.warn(\n",
      "c:\\Users\\HP\\Documents\\DSGP\\CM2603-Data_Science_Project-G20\\fall_venv\\Lib\\site-packages\\sklearn\\utils\\validation.py:2739: UserWarning: X does not have valid feature names, but StandardScaler was fitted with feature names\n",
      "  warnings.warn(\n"
     ]
    },
    {
     "name": "stdout",
     "output_type": "stream",
     "text": [
      "[21:10:58] Camera(0) Gyro(0) SpO2(0) → Prediction: ✅ Non-Fall\n",
      "[21:10:58] Camera(0) Gyro(0) SpO2(0) → Prediction: ✅ Non-Fall\n",
      "[21:10:59] Camera(0) Gyro(0) SpO2(0) → Prediction: ✅ Non-Fall\n"
     ]
    },
    {
     "name": "stderr",
     "output_type": "stream",
     "text": [
      "c:\\Users\\HP\\Documents\\DSGP\\CM2603-Data_Science_Project-G20\\fall_venv\\Lib\\site-packages\\sklearn\\utils\\validation.py:2739: UserWarning: X does not have valid feature names, but StandardScaler was fitted with feature names\n",
      "  warnings.warn(\n",
      "c:\\Users\\HP\\Documents\\DSGP\\CM2603-Data_Science_Project-G20\\fall_venv\\Lib\\site-packages\\sklearn\\utils\\validation.py:2739: UserWarning: X does not have valid feature names, but StandardScaler was fitted with feature names\n",
      "  warnings.warn(\n",
      "c:\\Users\\HP\\Documents\\DSGP\\CM2603-Data_Science_Project-G20\\fall_venv\\Lib\\site-packages\\sklearn\\utils\\validation.py:2739: UserWarning: X does not have valid feature names, but StandardScaler was fitted with feature names\n",
      "  warnings.warn(\n",
      "c:\\Users\\HP\\Documents\\DSGP\\CM2603-Data_Science_Project-G20\\fall_venv\\Lib\\site-packages\\sklearn\\utils\\validation.py:2739: UserWarning: X does not have valid feature names, but StandardScaler was fitted with feature names\n",
      "  warnings.warn(\n"
     ]
    },
    {
     "name": "stdout",
     "output_type": "stream",
     "text": [
      "[21:10:59] Camera(0) Gyro(0) SpO2(0) → Prediction: ✅ Non-Fall\n",
      "[21:10:59] Camera(0) Gyro(0) SpO2(0) → Prediction: ✅ Non-Fall\n",
      "[21:10:59] Camera(0) Gyro(0) SpO2(0) → Prediction: ✅ Non-Fall\n"
     ]
    },
    {
     "name": "stderr",
     "output_type": "stream",
     "text": [
      "c:\\Users\\HP\\Documents\\DSGP\\CM2603-Data_Science_Project-G20\\fall_venv\\Lib\\site-packages\\sklearn\\utils\\validation.py:2739: UserWarning: X does not have valid feature names, but StandardScaler was fitted with feature names\n",
      "  warnings.warn(\n",
      "c:\\Users\\HP\\Documents\\DSGP\\CM2603-Data_Science_Project-G20\\fall_venv\\Lib\\site-packages\\sklearn\\utils\\validation.py:2739: UserWarning: X does not have valid feature names, but StandardScaler was fitted with feature names\n",
      "  warnings.warn(\n",
      "c:\\Users\\HP\\Documents\\DSGP\\CM2603-Data_Science_Project-G20\\fall_venv\\Lib\\site-packages\\sklearn\\utils\\validation.py:2739: UserWarning: X does not have valid feature names, but StandardScaler was fitted with feature names\n",
      "  warnings.warn(\n",
      "c:\\Users\\HP\\Documents\\DSGP\\CM2603-Data_Science_Project-G20\\fall_venv\\Lib\\site-packages\\sklearn\\utils\\validation.py:2739: UserWarning: X does not have valid feature names, but StandardScaler was fitted with feature names\n",
      "  warnings.warn(\n"
     ]
    },
    {
     "name": "stdout",
     "output_type": "stream",
     "text": [
      "[21:10:59] Camera(0) Gyro(0) SpO2(0) → Prediction: ✅ Non-Fall\n",
      "[21:10:59] Camera(0) Gyro(0) SpO2(0) → Prediction: ✅ Non-Fall\n"
     ]
    },
    {
     "name": "stderr",
     "output_type": "stream",
     "text": [
      "c:\\Users\\HP\\Documents\\DSGP\\CM2603-Data_Science_Project-G20\\fall_venv\\Lib\\site-packages\\sklearn\\utils\\validation.py:2739: UserWarning: X does not have valid feature names, but StandardScaler was fitted with feature names\n",
      "  warnings.warn(\n",
      "c:\\Users\\HP\\Documents\\DSGP\\CM2603-Data_Science_Project-G20\\fall_venv\\Lib\\site-packages\\sklearn\\utils\\validation.py:2739: UserWarning: X does not have valid feature names, but StandardScaler was fitted with feature names\n",
      "  warnings.warn(\n",
      "c:\\Users\\HP\\Documents\\DSGP\\CM2603-Data_Science_Project-G20\\fall_venv\\Lib\\site-packages\\sklearn\\utils\\validation.py:2739: UserWarning: X does not have valid feature names, but StandardScaler was fitted with feature names\n",
      "  warnings.warn(\n"
     ]
    },
    {
     "name": "stdout",
     "output_type": "stream",
     "text": [
      "[21:10:59] Camera(0) Gyro(0) SpO2(0) → Prediction: ✅ Non-Fall\n",
      "[21:10:59] Camera(0) Gyro(0) SpO2(0) → Prediction: ✅ Non-Fall\n",
      "[21:10:59] Camera(0) Gyro(0) SpO2(0) → Prediction: ✅ Non-Fall\n"
     ]
    },
    {
     "name": "stderr",
     "output_type": "stream",
     "text": [
      "c:\\Users\\HP\\Documents\\DSGP\\CM2603-Data_Science_Project-G20\\fall_venv\\Lib\\site-packages\\sklearn\\utils\\validation.py:2739: UserWarning: X does not have valid feature names, but StandardScaler was fitted with feature names\n",
      "  warnings.warn(\n",
      "c:\\Users\\HP\\Documents\\DSGP\\CM2603-Data_Science_Project-G20\\fall_venv\\Lib\\site-packages\\sklearn\\utils\\validation.py:2739: UserWarning: X does not have valid feature names, but StandardScaler was fitted with feature names\n",
      "  warnings.warn(\n",
      "c:\\Users\\HP\\Documents\\DSGP\\CM2603-Data_Science_Project-G20\\fall_venv\\Lib\\site-packages\\sklearn\\utils\\validation.py:2739: UserWarning: X does not have valid feature names, but StandardScaler was fitted with feature names\n",
      "  warnings.warn(\n",
      "c:\\Users\\HP\\Documents\\DSGP\\CM2603-Data_Science_Project-G20\\fall_venv\\Lib\\site-packages\\sklearn\\utils\\validation.py:2739: UserWarning: X does not have valid feature names, but StandardScaler was fitted with feature names\n",
      "  warnings.warn(\n"
     ]
    },
    {
     "name": "stdout",
     "output_type": "stream",
     "text": [
      "[21:10:59] Camera(0) Gyro(0) SpO2(0) → Prediction: ✅ Non-Fall\n",
      "[21:11:00] Camera(0) Gyro(0) SpO2(0) → Prediction: ✅ Non-Fall\n",
      "[21:11:00] Camera(0) Gyro(0) SpO2(0) → Prediction: ✅ Non-Fall\n"
     ]
    },
    {
     "name": "stderr",
     "output_type": "stream",
     "text": [
      "c:\\Users\\HP\\Documents\\DSGP\\CM2603-Data_Science_Project-G20\\fall_venv\\Lib\\site-packages\\sklearn\\utils\\validation.py:2739: UserWarning: X does not have valid feature names, but StandardScaler was fitted with feature names\n",
      "  warnings.warn(\n",
      "c:\\Users\\HP\\Documents\\DSGP\\CM2603-Data_Science_Project-G20\\fall_venv\\Lib\\site-packages\\sklearn\\utils\\validation.py:2739: UserWarning: X does not have valid feature names, but StandardScaler was fitted with feature names\n",
      "  warnings.warn(\n",
      "c:\\Users\\HP\\Documents\\DSGP\\CM2603-Data_Science_Project-G20\\fall_venv\\Lib\\site-packages\\sklearn\\utils\\validation.py:2739: UserWarning: X does not have valid feature names, but StandardScaler was fitted with feature names\n",
      "  warnings.warn(\n"
     ]
    },
    {
     "name": "stdout",
     "output_type": "stream",
     "text": [
      "[21:11:00] Camera(0) Gyro(0) SpO2(0) → Prediction: ✅ Non-Fall\n",
      "[21:11:00] Camera(0) Gyro(0) SpO2(0) → Prediction: ✅ Non-Fall\n",
      "[21:11:00] Camera(0) Gyro(0) SpO2(0) → Prediction: ✅ Non-Fall\n"
     ]
    },
    {
     "name": "stderr",
     "output_type": "stream",
     "text": [
      "c:\\Users\\HP\\Documents\\DSGP\\CM2603-Data_Science_Project-G20\\fall_venv\\Lib\\site-packages\\sklearn\\utils\\validation.py:2739: UserWarning: X does not have valid feature names, but StandardScaler was fitted with feature names\n",
      "  warnings.warn(\n",
      "c:\\Users\\HP\\Documents\\DSGP\\CM2603-Data_Science_Project-G20\\fall_venv\\Lib\\site-packages\\sklearn\\utils\\validation.py:2739: UserWarning: X does not have valid feature names, but StandardScaler was fitted with feature names\n",
      "  warnings.warn(\n",
      "c:\\Users\\HP\\Documents\\DSGP\\CM2603-Data_Science_Project-G20\\fall_venv\\Lib\\site-packages\\sklearn\\utils\\validation.py:2739: UserWarning: X does not have valid feature names, but StandardScaler was fitted with feature names\n",
      "  warnings.warn(\n",
      "c:\\Users\\HP\\Documents\\DSGP\\CM2603-Data_Science_Project-G20\\fall_venv\\Lib\\site-packages\\sklearn\\utils\\validation.py:2739: UserWarning: X does not have valid feature names, but StandardScaler was fitted with feature names\n",
      "  warnings.warn(\n",
      "c:\\Users\\HP\\Documents\\DSGP\\CM2603-Data_Science_Project-G20\\fall_venv\\Lib\\site-packages\\sklearn\\utils\\validation.py:2739: UserWarning: X does not have valid feature names, but StandardScaler was fitted with feature names\n",
      "  warnings.warn(\n",
      "c:\\Users\\HP\\Documents\\DSGP\\CM2603-Data_Science_Project-G20\\fall_venv\\Lib\\site-packages\\sklearn\\utils\\validation.py:2739: UserWarning: X does not have valid feature names, but StandardScaler was fitted with feature names\n",
      "  warnings.warn(\n"
     ]
    },
    {
     "name": "stdout",
     "output_type": "stream",
     "text": [
      "[21:11:00] Camera(0) Gyro(0) SpO2(0) → Prediction: ✅ Non-Fall\n",
      "[21:11:00] Camera(0) Gyro(0) SpO2(0) → Prediction: ✅ Non-Fall\n",
      "[21:11:00] Camera(0) Gyro(0) SpO2(0) → Prediction: ✅ Non-Fall\n",
      "[21:11:00] Camera(0) Gyro(0) SpO2(0) → Prediction: ✅ Non-Fall\n"
     ]
    },
    {
     "name": "stderr",
     "output_type": "stream",
     "text": [
      "c:\\Users\\HP\\Documents\\DSGP\\CM2603-Data_Science_Project-G20\\fall_venv\\Lib\\site-packages\\sklearn\\utils\\validation.py:2739: UserWarning: X does not have valid feature names, but StandardScaler was fitted with feature names\n",
      "  warnings.warn(\n",
      "c:\\Users\\HP\\Documents\\DSGP\\CM2603-Data_Science_Project-G20\\fall_venv\\Lib\\site-packages\\sklearn\\utils\\validation.py:2739: UserWarning: X does not have valid feature names, but StandardScaler was fitted with feature names\n",
      "  warnings.warn(\n",
      "c:\\Users\\HP\\Documents\\DSGP\\CM2603-Data_Science_Project-G20\\fall_venv\\Lib\\site-packages\\sklearn\\utils\\validation.py:2739: UserWarning: X does not have valid feature names, but StandardScaler was fitted with feature names\n",
      "  warnings.warn(\n"
     ]
    },
    {
     "name": "stdout",
     "output_type": "stream",
     "text": [
      "[21:11:00] Camera(0) Gyro(0) SpO2(0) → Prediction: ✅ Non-Fall\n",
      "[21:11:01] Camera(0) Gyro(0) SpO2(0) → Prediction: ✅ Non-Fall\n"
     ]
    },
    {
     "name": "stderr",
     "output_type": "stream",
     "text": [
      "c:\\Users\\HP\\Documents\\DSGP\\CM2603-Data_Science_Project-G20\\fall_venv\\Lib\\site-packages\\sklearn\\utils\\validation.py:2739: UserWarning: X does not have valid feature names, but StandardScaler was fitted with feature names\n",
      "  warnings.warn(\n",
      "c:\\Users\\HP\\Documents\\DSGP\\CM2603-Data_Science_Project-G20\\fall_venv\\Lib\\site-packages\\sklearn\\utils\\validation.py:2739: UserWarning: X does not have valid feature names, but StandardScaler was fitted with feature names\n",
      "  warnings.warn(\n",
      "c:\\Users\\HP\\Documents\\DSGP\\CM2603-Data_Science_Project-G20\\fall_venv\\Lib\\site-packages\\sklearn\\utils\\validation.py:2739: UserWarning: X does not have valid feature names, but StandardScaler was fitted with feature names\n",
      "  warnings.warn(\n"
     ]
    },
    {
     "name": "stdout",
     "output_type": "stream",
     "text": [
      "[21:11:01] Camera(0) Gyro(0) SpO2(0) → Prediction: ✅ Non-Fall\n",
      "[21:11:01] Camera(0) Gyro(0) SpO2(0) → Prediction: ✅ Non-Fall\n",
      "[21:11:01] Camera(0) Gyro(0) SpO2(0) → Prediction: ✅ Non-Fall\n"
     ]
    },
    {
     "name": "stderr",
     "output_type": "stream",
     "text": [
      "c:\\Users\\HP\\Documents\\DSGP\\CM2603-Data_Science_Project-G20\\fall_venv\\Lib\\site-packages\\sklearn\\utils\\validation.py:2739: UserWarning: X does not have valid feature names, but StandardScaler was fitted with feature names\n",
      "  warnings.warn(\n",
      "c:\\Users\\HP\\Documents\\DSGP\\CM2603-Data_Science_Project-G20\\fall_venv\\Lib\\site-packages\\sklearn\\utils\\validation.py:2739: UserWarning: X does not have valid feature names, but StandardScaler was fitted with feature names\n",
      "  warnings.warn(\n",
      "c:\\Users\\HP\\Documents\\DSGP\\CM2603-Data_Science_Project-G20\\fall_venv\\Lib\\site-packages\\sklearn\\utils\\validation.py:2739: UserWarning: X does not have valid feature names, but StandardScaler was fitted with feature names\n",
      "  warnings.warn(\n"
     ]
    },
    {
     "name": "stdout",
     "output_type": "stream",
     "text": [
      "[21:11:01] Camera(0) Gyro(0) SpO2(0) → Prediction: ✅ Non-Fall\n",
      "[21:11:01] Camera(0) Gyro(0) SpO2(0) → Prediction: ✅ Non-Fall\n"
     ]
    },
    {
     "name": "stderr",
     "output_type": "stream",
     "text": [
      "c:\\Users\\HP\\Documents\\DSGP\\CM2603-Data_Science_Project-G20\\fall_venv\\Lib\\site-packages\\sklearn\\utils\\validation.py:2739: UserWarning: X does not have valid feature names, but StandardScaler was fitted with feature names\n",
      "  warnings.warn(\n",
      "c:\\Users\\HP\\Documents\\DSGP\\CM2603-Data_Science_Project-G20\\fall_venv\\Lib\\site-packages\\sklearn\\utils\\validation.py:2739: UserWarning: X does not have valid feature names, but StandardScaler was fitted with feature names\n",
      "  warnings.warn(\n"
     ]
    },
    {
     "name": "stdout",
     "output_type": "stream",
     "text": [
      "[21:11:01] Camera(0) Gyro(0) SpO2(0) → Prediction: ✅ Non-Fall\n",
      "[21:11:01] Camera(0) Gyro(0) SpO2(0) → Prediction: ✅ Non-Fall\n"
     ]
    },
    {
     "name": "stderr",
     "output_type": "stream",
     "text": [
      "c:\\Users\\HP\\Documents\\DSGP\\CM2603-Data_Science_Project-G20\\fall_venv\\Lib\\site-packages\\sklearn\\utils\\validation.py:2739: UserWarning: X does not have valid feature names, but StandardScaler was fitted with feature names\n",
      "  warnings.warn(\n",
      "c:\\Users\\HP\\Documents\\DSGP\\CM2603-Data_Science_Project-G20\\fall_venv\\Lib\\site-packages\\sklearn\\utils\\validation.py:2739: UserWarning: X does not have valid feature names, but StandardScaler was fitted with feature names\n",
      "  warnings.warn(\n",
      "c:\\Users\\HP\\Documents\\DSGP\\CM2603-Data_Science_Project-G20\\fall_venv\\Lib\\site-packages\\sklearn\\utils\\validation.py:2739: UserWarning: X does not have valid feature names, but StandardScaler was fitted with feature names\n",
      "  warnings.warn(\n"
     ]
    },
    {
     "name": "stdout",
     "output_type": "stream",
     "text": [
      "[21:11:01] Camera(0) Gyro(0) SpO2(0) → Prediction: ✅ Non-Fall\n",
      "[21:11:01] Camera(0) Gyro(1) SpO2(0) → Prediction: ✅ Non-Fall\n"
     ]
    },
    {
     "name": "stderr",
     "output_type": "stream",
     "text": [
      "c:\\Users\\HP\\Documents\\DSGP\\CM2603-Data_Science_Project-G20\\fall_venv\\Lib\\site-packages\\sklearn\\utils\\validation.py:2739: UserWarning: X does not have valid feature names, but StandardScaler was fitted with feature names\n",
      "  warnings.warn(\n",
      "c:\\Users\\HP\\Documents\\DSGP\\CM2603-Data_Science_Project-G20\\fall_venv\\Lib\\site-packages\\sklearn\\utils\\validation.py:2739: UserWarning: X does not have valid feature names, but StandardScaler was fitted with feature names\n",
      "  warnings.warn(\n",
      "c:\\Users\\HP\\Documents\\DSGP\\CM2603-Data_Science_Project-G20\\fall_venv\\Lib\\site-packages\\sklearn\\utils\\validation.py:2739: UserWarning: X does not have valid feature names, but StandardScaler was fitted with feature names\n",
      "  warnings.warn(\n"
     ]
    },
    {
     "name": "stdout",
     "output_type": "stream",
     "text": [
      "[21:11:02] Camera(0) Gyro(0) SpO2(0) → Prediction: ✅ Non-Fall\n",
      "[21:11:02] Camera(0) Gyro(0) SpO2(0) → Prediction: ✅ Non-Fall\n"
     ]
    },
    {
     "name": "stderr",
     "output_type": "stream",
     "text": [
      "c:\\Users\\HP\\Documents\\DSGP\\CM2603-Data_Science_Project-G20\\fall_venv\\Lib\\site-packages\\sklearn\\utils\\validation.py:2739: UserWarning: X does not have valid feature names, but StandardScaler was fitted with feature names\n",
      "  warnings.warn(\n",
      "c:\\Users\\HP\\Documents\\DSGP\\CM2603-Data_Science_Project-G20\\fall_venv\\Lib\\site-packages\\sklearn\\utils\\validation.py:2739: UserWarning: X does not have valid feature names, but StandardScaler was fitted with feature names\n",
      "  warnings.warn(\n",
      "c:\\Users\\HP\\Documents\\DSGP\\CM2603-Data_Science_Project-G20\\fall_venv\\Lib\\site-packages\\sklearn\\utils\\validation.py:2739: UserWarning: X does not have valid feature names, but StandardScaler was fitted with feature names\n",
      "  warnings.warn(\n",
      "c:\\Users\\HP\\Documents\\DSGP\\CM2603-Data_Science_Project-G20\\fall_venv\\Lib\\site-packages\\sklearn\\utils\\validation.py:2739: UserWarning: X does not have valid feature names, but StandardScaler was fitted with feature names\n",
      "  warnings.warn(\n"
     ]
    },
    {
     "name": "stdout",
     "output_type": "stream",
     "text": [
      "[21:11:02] Camera(0) Gyro(0) SpO2(0) → Prediction: ✅ Non-Fall\n",
      "[21:11:02] Camera(0) Gyro(0) SpO2(0) → Prediction: ✅ Non-Fall\n"
     ]
    },
    {
     "name": "stderr",
     "output_type": "stream",
     "text": [
      "c:\\Users\\HP\\Documents\\DSGP\\CM2603-Data_Science_Project-G20\\fall_venv\\Lib\\site-packages\\sklearn\\utils\\validation.py:2739: UserWarning: X does not have valid feature names, but StandardScaler was fitted with feature names\n",
      "  warnings.warn(\n",
      "c:\\Users\\HP\\Documents\\DSGP\\CM2603-Data_Science_Project-G20\\fall_venv\\Lib\\site-packages\\sklearn\\utils\\validation.py:2739: UserWarning: X does not have valid feature names, but StandardScaler was fitted with feature names\n",
      "  warnings.warn(\n",
      "c:\\Users\\HP\\Documents\\DSGP\\CM2603-Data_Science_Project-G20\\fall_venv\\Lib\\site-packages\\sklearn\\utils\\validation.py:2739: UserWarning: X does not have valid feature names, but StandardScaler was fitted with feature names\n",
      "  warnings.warn(\n"
     ]
    },
    {
     "name": "stdout",
     "output_type": "stream",
     "text": [
      "[21:11:02] Camera(0) Gyro(0) SpO2(0) → Prediction: ✅ Non-Fall\n",
      "[21:11:02] Camera(0) Gyro(0) SpO2(0) → Prediction: ✅ Non-Fall\n",
      "[21:11:02] Camera(0) Gyro(0) SpO2(0) → Prediction: ✅ Non-Fall\n"
     ]
    },
    {
     "name": "stderr",
     "output_type": "stream",
     "text": [
      "c:\\Users\\HP\\Documents\\DSGP\\CM2603-Data_Science_Project-G20\\fall_venv\\Lib\\site-packages\\sklearn\\utils\\validation.py:2739: UserWarning: X does not have valid feature names, but StandardScaler was fitted with feature names\n",
      "  warnings.warn(\n",
      "c:\\Users\\HP\\Documents\\DSGP\\CM2603-Data_Science_Project-G20\\fall_venv\\Lib\\site-packages\\sklearn\\utils\\validation.py:2739: UserWarning: X does not have valid feature names, but StandardScaler was fitted with feature names\n",
      "  warnings.warn(\n"
     ]
    },
    {
     "name": "stdout",
     "output_type": "stream",
     "text": [
      "[21:11:02] Camera(0) Gyro(0) SpO2(0) → Prediction: ✅ Non-Fall\n",
      "[21:11:02] Camera(0) Gyro(0) SpO2(0) → Prediction: ✅ Non-Fall\n"
     ]
    },
    {
     "name": "stderr",
     "output_type": "stream",
     "text": [
      "c:\\Users\\HP\\Documents\\DSGP\\CM2603-Data_Science_Project-G20\\fall_venv\\Lib\\site-packages\\sklearn\\utils\\validation.py:2739: UserWarning: X does not have valid feature names, but StandardScaler was fitted with feature names\n",
      "  warnings.warn(\n",
      "c:\\Users\\HP\\Documents\\DSGP\\CM2603-Data_Science_Project-G20\\fall_venv\\Lib\\site-packages\\sklearn\\utils\\validation.py:2739: UserWarning: X does not have valid feature names, but StandardScaler was fitted with feature names\n",
      "  warnings.warn(\n",
      "c:\\Users\\HP\\Documents\\DSGP\\CM2603-Data_Science_Project-G20\\fall_venv\\Lib\\site-packages\\sklearn\\utils\\validation.py:2739: UserWarning: X does not have valid feature names, but StandardScaler was fitted with feature names\n",
      "  warnings.warn(\n"
     ]
    },
    {
     "name": "stdout",
     "output_type": "stream",
     "text": [
      "[21:11:02] Camera(0) Gyro(0) SpO2(0) → Prediction: ✅ Non-Fall\n",
      "[21:11:03] Camera(0) Gyro(0) SpO2(0) → Prediction: ✅ Non-Fall\n",
      "[21:11:03] Camera(0) Gyro(0) SpO2(0) → Prediction: ✅ Non-Fall\n"
     ]
    },
    {
     "name": "stderr",
     "output_type": "stream",
     "text": [
      "c:\\Users\\HP\\Documents\\DSGP\\CM2603-Data_Science_Project-G20\\fall_venv\\Lib\\site-packages\\sklearn\\utils\\validation.py:2739: UserWarning: X does not have valid feature names, but StandardScaler was fitted with feature names\n",
      "  warnings.warn(\n",
      "c:\\Users\\HP\\Documents\\DSGP\\CM2603-Data_Science_Project-G20\\fall_venv\\Lib\\site-packages\\sklearn\\utils\\validation.py:2739: UserWarning: X does not have valid feature names, but StandardScaler was fitted with feature names\n",
      "  warnings.warn(\n",
      "c:\\Users\\HP\\Documents\\DSGP\\CM2603-Data_Science_Project-G20\\fall_venv\\Lib\\site-packages\\sklearn\\utils\\validation.py:2739: UserWarning: X does not have valid feature names, but StandardScaler was fitted with feature names\n",
      "  warnings.warn(\n"
     ]
    },
    {
     "name": "stdout",
     "output_type": "stream",
     "text": [
      "[21:11:03] Camera(0) Gyro(0) SpO2(0) → Prediction: ✅ Non-Fall\n",
      "[21:11:03] Camera(0) Gyro(0) SpO2(0) → Prediction: ✅ Non-Fall\n",
      "[21:11:03] Camera(0) Gyro(0) SpO2(0) → Prediction: ✅ Non-Fall\n"
     ]
    },
    {
     "name": "stderr",
     "output_type": "stream",
     "text": [
      "c:\\Users\\HP\\Documents\\DSGP\\CM2603-Data_Science_Project-G20\\fall_venv\\Lib\\site-packages\\sklearn\\utils\\validation.py:2739: UserWarning: X does not have valid feature names, but StandardScaler was fitted with feature names\n",
      "  warnings.warn(\n",
      "c:\\Users\\HP\\Documents\\DSGP\\CM2603-Data_Science_Project-G20\\fall_venv\\Lib\\site-packages\\sklearn\\utils\\validation.py:2739: UserWarning: X does not have valid feature names, but StandardScaler was fitted with feature names\n",
      "  warnings.warn(\n",
      "c:\\Users\\HP\\Documents\\DSGP\\CM2603-Data_Science_Project-G20\\fall_venv\\Lib\\site-packages\\sklearn\\utils\\validation.py:2739: UserWarning: X does not have valid feature names, but StandardScaler was fitted with feature names\n",
      "  warnings.warn(\n"
     ]
    },
    {
     "name": "stdout",
     "output_type": "stream",
     "text": [
      "[21:11:03] Camera(0) Gyro(0) SpO2(0) → Prediction: ✅ Non-Fall\n",
      "[21:11:03] Camera(0) Gyro(0) SpO2(0) → Prediction: ✅ Non-Fall\n",
      "[21:11:03] Camera(0) Gyro(0) SpO2(0) → Prediction: ✅ Non-Fall\n"
     ]
    },
    {
     "name": "stderr",
     "output_type": "stream",
     "text": [
      "c:\\Users\\HP\\Documents\\DSGP\\CM2603-Data_Science_Project-G20\\fall_venv\\Lib\\site-packages\\sklearn\\utils\\validation.py:2739: UserWarning: X does not have valid feature names, but StandardScaler was fitted with feature names\n",
      "  warnings.warn(\n",
      "c:\\Users\\HP\\Documents\\DSGP\\CM2603-Data_Science_Project-G20\\fall_venv\\Lib\\site-packages\\sklearn\\utils\\validation.py:2739: UserWarning: X does not have valid feature names, but StandardScaler was fitted with feature names\n",
      "  warnings.warn(\n",
      "c:\\Users\\HP\\Documents\\DSGP\\CM2603-Data_Science_Project-G20\\fall_venv\\Lib\\site-packages\\sklearn\\utils\\validation.py:2739: UserWarning: X does not have valid feature names, but StandardScaler was fitted with feature names\n",
      "  warnings.warn(\n"
     ]
    },
    {
     "name": "stdout",
     "output_type": "stream",
     "text": [
      "[21:11:03] Camera(0) Gyro(0) SpO2(0) → Prediction: ✅ Non-Fall\n",
      "[21:11:03] Camera(0) Gyro(0) SpO2(0) → Prediction: ✅ Non-Fall\n"
     ]
    },
    {
     "name": "stderr",
     "output_type": "stream",
     "text": [
      "c:\\Users\\HP\\Documents\\DSGP\\CM2603-Data_Science_Project-G20\\fall_venv\\Lib\\site-packages\\sklearn\\utils\\validation.py:2739: UserWarning: X does not have valid feature names, but StandardScaler was fitted with feature names\n",
      "  warnings.warn(\n",
      "c:\\Users\\HP\\Documents\\DSGP\\CM2603-Data_Science_Project-G20\\fall_venv\\Lib\\site-packages\\sklearn\\utils\\validation.py:2739: UserWarning: X does not have valid feature names, but StandardScaler was fitted with feature names\n",
      "  warnings.warn(\n",
      "c:\\Users\\HP\\Documents\\DSGP\\CM2603-Data_Science_Project-G20\\fall_venv\\Lib\\site-packages\\sklearn\\utils\\validation.py:2739: UserWarning: X does not have valid feature names, but StandardScaler was fitted with feature names\n",
      "  warnings.warn(\n"
     ]
    },
    {
     "name": "stdout",
     "output_type": "stream",
     "text": [
      "[21:11:04] Camera(0) Gyro(0) SpO2(0) → Prediction: ✅ Non-Fall\n",
      "[21:11:04] Camera(0) Gyro(0) SpO2(0) → Prediction: ✅ Non-Fall\n"
     ]
    },
    {
     "name": "stderr",
     "output_type": "stream",
     "text": [
      "c:\\Users\\HP\\Documents\\DSGP\\CM2603-Data_Science_Project-G20\\fall_venv\\Lib\\site-packages\\sklearn\\utils\\validation.py:2739: UserWarning: X does not have valid feature names, but StandardScaler was fitted with feature names\n",
      "  warnings.warn(\n",
      "c:\\Users\\HP\\Documents\\DSGP\\CM2603-Data_Science_Project-G20\\fall_venv\\Lib\\site-packages\\sklearn\\utils\\validation.py:2739: UserWarning: X does not have valid feature names, but StandardScaler was fitted with feature names\n",
      "  warnings.warn(\n",
      "c:\\Users\\HP\\Documents\\DSGP\\CM2603-Data_Science_Project-G20\\fall_venv\\Lib\\site-packages\\sklearn\\utils\\validation.py:2739: UserWarning: X does not have valid feature names, but StandardScaler was fitted with feature names\n",
      "  warnings.warn(\n"
     ]
    },
    {
     "name": "stdout",
     "output_type": "stream",
     "text": [
      "[21:11:04] Camera(0) Gyro(0) SpO2(0) → Prediction: ✅ Non-Fall\n",
      "[21:11:04] Camera(0) Gyro(0) SpO2(0) → Prediction: ✅ Non-Fall\n",
      "[21:11:04] Camera(0) Gyro(0) SpO2(0) → Prediction: ✅ Non-Fall\n"
     ]
    },
    {
     "name": "stderr",
     "output_type": "stream",
     "text": [
      "c:\\Users\\HP\\Documents\\DSGP\\CM2603-Data_Science_Project-G20\\fall_venv\\Lib\\site-packages\\sklearn\\utils\\validation.py:2739: UserWarning: X does not have valid feature names, but StandardScaler was fitted with feature names\n",
      "  warnings.warn(\n",
      "c:\\Users\\HP\\Documents\\DSGP\\CM2603-Data_Science_Project-G20\\fall_venv\\Lib\\site-packages\\sklearn\\utils\\validation.py:2739: UserWarning: X does not have valid feature names, but StandardScaler was fitted with feature names\n",
      "  warnings.warn(\n",
      "c:\\Users\\HP\\Documents\\DSGP\\CM2603-Data_Science_Project-G20\\fall_venv\\Lib\\site-packages\\sklearn\\utils\\validation.py:2739: UserWarning: X does not have valid feature names, but StandardScaler was fitted with feature names\n",
      "  warnings.warn(\n",
      "c:\\Users\\HP\\Documents\\DSGP\\CM2603-Data_Science_Project-G20\\fall_venv\\Lib\\site-packages\\sklearn\\utils\\validation.py:2739: UserWarning: X does not have valid feature names, but StandardScaler was fitted with feature names\n",
      "  warnings.warn(\n",
      "c:\\Users\\HP\\Documents\\DSGP\\CM2603-Data_Science_Project-G20\\fall_venv\\Lib\\site-packages\\sklearn\\utils\\validation.py:2739: UserWarning: X does not have valid feature names, but StandardScaler was fitted with feature names\n",
      "  warnings.warn(\n"
     ]
    },
    {
     "name": "stdout",
     "output_type": "stream",
     "text": [
      "[21:11:04] Camera(0) Gyro(0) SpO2(0) → Prediction: ✅ Non-Fall\n",
      "[21:11:04] Camera(0) Gyro(0) SpO2(0) → Prediction: ✅ Non-Fall\n",
      "[21:11:04] Camera(0) Gyro(1) SpO2(0) → Prediction: ✅ Non-Fall\n",
      "[21:11:04] Camera(0) Gyro(0) SpO2(0) → Prediction: ✅ Non-Fall\n",
      "[21:11:04] Camera(0) Gyro(0) SpO2(0) → Prediction: ✅ Non-Fall\n"
     ]
    },
    {
     "name": "stderr",
     "output_type": "stream",
     "text": [
      "c:\\Users\\HP\\Documents\\DSGP\\CM2603-Data_Science_Project-G20\\fall_venv\\Lib\\site-packages\\sklearn\\utils\\validation.py:2739: UserWarning: X does not have valid feature names, but StandardScaler was fitted with feature names\n",
      "  warnings.warn(\n",
      "c:\\Users\\HP\\Documents\\DSGP\\CM2603-Data_Science_Project-G20\\fall_venv\\Lib\\site-packages\\sklearn\\utils\\validation.py:2739: UserWarning: X does not have valid feature names, but StandardScaler was fitted with feature names\n",
      "  warnings.warn(\n",
      "c:\\Users\\HP\\Documents\\DSGP\\CM2603-Data_Science_Project-G20\\fall_venv\\Lib\\site-packages\\sklearn\\utils\\validation.py:2739: UserWarning: X does not have valid feature names, but StandardScaler was fitted with feature names\n",
      "  warnings.warn(\n",
      "c:\\Users\\HP\\Documents\\DSGP\\CM2603-Data_Science_Project-G20\\fall_venv\\Lib\\site-packages\\sklearn\\utils\\validation.py:2739: UserWarning: X does not have valid feature names, but StandardScaler was fitted with feature names\n",
      "  warnings.warn(\n",
      "c:\\Users\\HP\\Documents\\DSGP\\CM2603-Data_Science_Project-G20\\fall_venv\\Lib\\site-packages\\sklearn\\utils\\validation.py:2739: UserWarning: X does not have valid feature names, but StandardScaler was fitted with feature names\n",
      "  warnings.warn(\n",
      "c:\\Users\\HP\\Documents\\DSGP\\CM2603-Data_Science_Project-G20\\fall_venv\\Lib\\site-packages\\sklearn\\utils\\validation.py:2739: UserWarning: X does not have valid feature names, but StandardScaler was fitted with feature names\n",
      "  warnings.warn(\n",
      "c:\\Users\\HP\\Documents\\DSGP\\CM2603-Data_Science_Project-G20\\fall_venv\\Lib\\site-packages\\sklearn\\utils\\validation.py:2739: UserWarning: X does not have valid feature names, but StandardScaler was fitted with feature names\n",
      "  warnings.warn(\n"
     ]
    },
    {
     "name": "stdout",
     "output_type": "stream",
     "text": [
      "[21:11:05] Camera(0) Gyro(0) SpO2(0) → Prediction: ✅ Non-Fall\n",
      "[21:11:05] Camera(0) Gyro(0) SpO2(0) → Prediction: ✅ Non-Fall\n",
      "[21:11:05] Camera(0) Gyro(0) SpO2(0) → Prediction: ✅ Non-Fall\n",
      "[21:11:05] Camera(0) Gyro(0) SpO2(0) → Prediction: ✅ Non-Fall\n"
     ]
    },
    {
     "name": "stderr",
     "output_type": "stream",
     "text": [
      "c:\\Users\\HP\\Documents\\DSGP\\CM2603-Data_Science_Project-G20\\fall_venv\\Lib\\site-packages\\sklearn\\utils\\validation.py:2739: UserWarning: X does not have valid feature names, but StandardScaler was fitted with feature names\n",
      "  warnings.warn(\n",
      "c:\\Users\\HP\\Documents\\DSGP\\CM2603-Data_Science_Project-G20\\fall_venv\\Lib\\site-packages\\sklearn\\utils\\validation.py:2739: UserWarning: X does not have valid feature names, but StandardScaler was fitted with feature names\n",
      "  warnings.warn(\n",
      "c:\\Users\\HP\\Documents\\DSGP\\CM2603-Data_Science_Project-G20\\fall_venv\\Lib\\site-packages\\sklearn\\utils\\validation.py:2739: UserWarning: X does not have valid feature names, but StandardScaler was fitted with feature names\n",
      "  warnings.warn(\n"
     ]
    },
    {
     "name": "stdout",
     "output_type": "stream",
     "text": [
      "[21:11:05] Camera(0) Gyro(0) SpO2(0) → Prediction: ✅ Non-Fall\n",
      "[21:11:05] Camera(0) Gyro(1) SpO2(0) → Prediction: ✅ Non-Fall\n",
      "[21:11:05] Camera(0) Gyro(0) SpO2(0) → Prediction: ✅ Non-Fall\n"
     ]
    },
    {
     "name": "stderr",
     "output_type": "stream",
     "text": [
      "c:\\Users\\HP\\Documents\\DSGP\\CM2603-Data_Science_Project-G20\\fall_venv\\Lib\\site-packages\\sklearn\\utils\\validation.py:2739: UserWarning: X does not have valid feature names, but StandardScaler was fitted with feature names\n",
      "  warnings.warn(\n",
      "c:\\Users\\HP\\Documents\\DSGP\\CM2603-Data_Science_Project-G20\\fall_venv\\Lib\\site-packages\\sklearn\\utils\\validation.py:2739: UserWarning: X does not have valid feature names, but StandardScaler was fitted with feature names\n",
      "  warnings.warn(\n",
      "c:\\Users\\HP\\Documents\\DSGP\\CM2603-Data_Science_Project-G20\\fall_venv\\Lib\\site-packages\\sklearn\\utils\\validation.py:2739: UserWarning: X does not have valid feature names, but StandardScaler was fitted with feature names\n",
      "  warnings.warn(\n"
     ]
    },
    {
     "name": "stdout",
     "output_type": "stream",
     "text": [
      "[21:11:05] Camera(0) Gyro(0) SpO2(0) → Prediction: ✅ Non-Fall\n",
      "[21:11:05] Camera(0) Gyro(1) SpO2(0) → Prediction: ✅ Non-Fall\n",
      "[21:11:06] Camera(0) Gyro(0) SpO2(0) → Prediction: ✅ Non-Fall\n"
     ]
    },
    {
     "name": "stderr",
     "output_type": "stream",
     "text": [
      "c:\\Users\\HP\\Documents\\DSGP\\CM2603-Data_Science_Project-G20\\fall_venv\\Lib\\site-packages\\sklearn\\utils\\validation.py:2739: UserWarning: X does not have valid feature names, but StandardScaler was fitted with feature names\n",
      "  warnings.warn(\n",
      "c:\\Users\\HP\\Documents\\DSGP\\CM2603-Data_Science_Project-G20\\fall_venv\\Lib\\site-packages\\sklearn\\utils\\validation.py:2739: UserWarning: X does not have valid feature names, but StandardScaler was fitted with feature names\n",
      "  warnings.warn(\n",
      "c:\\Users\\HP\\Documents\\DSGP\\CM2603-Data_Science_Project-G20\\fall_venv\\Lib\\site-packages\\sklearn\\utils\\validation.py:2739: UserWarning: X does not have valid feature names, but StandardScaler was fitted with feature names\n",
      "  warnings.warn(\n",
      "c:\\Users\\HP\\Documents\\DSGP\\CM2603-Data_Science_Project-G20\\fall_venv\\Lib\\site-packages\\sklearn\\utils\\validation.py:2739: UserWarning: X does not have valid feature names, but StandardScaler was fitted with feature names\n",
      "  warnings.warn(\n"
     ]
    },
    {
     "name": "stdout",
     "output_type": "stream",
     "text": [
      "[21:11:06] Camera(0) Gyro(0) SpO2(0) → Prediction: ✅ Non-Fall\n",
      "[21:11:06] Camera(0) Gyro(0) SpO2(0) → Prediction: ✅ Non-Fall\n",
      "[21:11:06] Camera(0) Gyro(1) SpO2(0) → Prediction: ✅ Non-Fall\n"
     ]
    },
    {
     "name": "stderr",
     "output_type": "stream",
     "text": [
      "c:\\Users\\HP\\Documents\\DSGP\\CM2603-Data_Science_Project-G20\\fall_venv\\Lib\\site-packages\\sklearn\\utils\\validation.py:2739: UserWarning: X does not have valid feature names, but StandardScaler was fitted with feature names\n",
      "  warnings.warn(\n",
      "c:\\Users\\HP\\Documents\\DSGP\\CM2603-Data_Science_Project-G20\\fall_venv\\Lib\\site-packages\\sklearn\\utils\\validation.py:2739: UserWarning: X does not have valid feature names, but StandardScaler was fitted with feature names\n",
      "  warnings.warn(\n",
      "c:\\Users\\HP\\Documents\\DSGP\\CM2603-Data_Science_Project-G20\\fall_venv\\Lib\\site-packages\\sklearn\\utils\\validation.py:2739: UserWarning: X does not have valid feature names, but StandardScaler was fitted with feature names\n",
      "  warnings.warn(\n"
     ]
    },
    {
     "name": "stdout",
     "output_type": "stream",
     "text": [
      "[21:11:06] Camera(0) Gyro(0) SpO2(0) → Prediction: ✅ Non-Fall\n",
      "[21:11:06] Camera(0) Gyro(0) SpO2(0) → Prediction: ✅ Non-Fall\n",
      "[21:11:06] Camera(0) Gyro(0) SpO2(0) → Prediction: ✅ Non-Fall\n"
     ]
    },
    {
     "name": "stderr",
     "output_type": "stream",
     "text": [
      "c:\\Users\\HP\\Documents\\DSGP\\CM2603-Data_Science_Project-G20\\fall_venv\\Lib\\site-packages\\sklearn\\utils\\validation.py:2739: UserWarning: X does not have valid feature names, but StandardScaler was fitted with feature names\n",
      "  warnings.warn(\n",
      "c:\\Users\\HP\\Documents\\DSGP\\CM2603-Data_Science_Project-G20\\fall_venv\\Lib\\site-packages\\sklearn\\utils\\validation.py:2739: UserWarning: X does not have valid feature names, but StandardScaler was fitted with feature names\n",
      "  warnings.warn(\n",
      "c:\\Users\\HP\\Documents\\DSGP\\CM2603-Data_Science_Project-G20\\fall_venv\\Lib\\site-packages\\sklearn\\utils\\validation.py:2739: UserWarning: X does not have valid feature names, but StandardScaler was fitted with feature names\n",
      "  warnings.warn(\n",
      "c:\\Users\\HP\\Documents\\DSGP\\CM2603-Data_Science_Project-G20\\fall_venv\\Lib\\site-packages\\sklearn\\utils\\validation.py:2739: UserWarning: X does not have valid feature names, but StandardScaler was fitted with feature names\n",
      "  warnings.warn(\n",
      "c:\\Users\\HP\\Documents\\DSGP\\CM2603-Data_Science_Project-G20\\fall_venv\\Lib\\site-packages\\sklearn\\utils\\validation.py:2739: UserWarning: X does not have valid feature names, but StandardScaler was fitted with feature names\n",
      "  warnings.warn(\n",
      "c:\\Users\\HP\\Documents\\DSGP\\CM2603-Data_Science_Project-G20\\fall_venv\\Lib\\site-packages\\sklearn\\utils\\validation.py:2739: UserWarning: X does not have valid feature names, but StandardScaler was fitted with feature names\n",
      "  warnings.warn(\n",
      "c:\\Users\\HP\\Documents\\DSGP\\CM2603-Data_Science_Project-G20\\fall_venv\\Lib\\site-packages\\sklearn\\utils\\validation.py:2739: UserWarning: X does not have valid feature names, but StandardScaler was fitted with feature names\n",
      "  warnings.warn(\n"
     ]
    },
    {
     "name": "stdout",
     "output_type": "stream",
     "text": [
      "[21:11:06] Camera(0) Gyro(1) SpO2(0) → Prediction: ✅ Non-Fall\n",
      "[21:11:06] Camera(0) Gyro(0) SpO2(0) → Prediction: ✅ Non-Fall\n"
     ]
    },
    {
     "name": "stderr",
     "output_type": "stream",
     "text": [
      "c:\\Users\\HP\\Documents\\DSGP\\CM2603-Data_Science_Project-G20\\fall_venv\\Lib\\site-packages\\sklearn\\utils\\validation.py:2739: UserWarning: X does not have valid feature names, but StandardScaler was fitted with feature names\n",
      "  warnings.warn(\n",
      "c:\\Users\\HP\\Documents\\DSGP\\CM2603-Data_Science_Project-G20\\fall_venv\\Lib\\site-packages\\sklearn\\utils\\validation.py:2739: UserWarning: X does not have valid feature names, but StandardScaler was fitted with feature names\n",
      "  warnings.warn(\n",
      "c:\\Users\\HP\\Documents\\DSGP\\CM2603-Data_Science_Project-G20\\fall_venv\\Lib\\site-packages\\sklearn\\utils\\validation.py:2739: UserWarning: X does not have valid feature names, but StandardScaler was fitted with feature names\n",
      "  warnings.warn(\n"
     ]
    },
    {
     "name": "stdout",
     "output_type": "stream",
     "text": [
      "[21:11:06] Camera(0) Gyro(0) SpO2(0) → Prediction: ✅ Non-Fall\n",
      "[21:11:07] Camera(0) Gyro(0) SpO2(0) → Prediction: ✅ Non-Fall\n",
      "[21:11:07] Camera(0) Gyro(0) SpO2(0) → Prediction: ✅ Non-Fall\n"
     ]
    },
    {
     "name": "stderr",
     "output_type": "stream",
     "text": [
      "c:\\Users\\HP\\Documents\\DSGP\\CM2603-Data_Science_Project-G20\\fall_venv\\Lib\\site-packages\\sklearn\\utils\\validation.py:2739: UserWarning: X does not have valid feature names, but StandardScaler was fitted with feature names\n",
      "  warnings.warn(\n",
      "c:\\Users\\HP\\Documents\\DSGP\\CM2603-Data_Science_Project-G20\\fall_venv\\Lib\\site-packages\\sklearn\\utils\\validation.py:2739: UserWarning: X does not have valid feature names, but StandardScaler was fitted with feature names\n",
      "  warnings.warn(\n",
      "c:\\Users\\HP\\Documents\\DSGP\\CM2603-Data_Science_Project-G20\\fall_venv\\Lib\\site-packages\\sklearn\\utils\\validation.py:2739: UserWarning: X does not have valid feature names, but StandardScaler was fitted with feature names\n",
      "  warnings.warn(\n",
      "c:\\Users\\HP\\Documents\\DSGP\\CM2603-Data_Science_Project-G20\\fall_venv\\Lib\\site-packages\\sklearn\\utils\\validation.py:2739: UserWarning: X does not have valid feature names, but StandardScaler was fitted with feature names\n",
      "  warnings.warn(\n"
     ]
    },
    {
     "name": "stdout",
     "output_type": "stream",
     "text": [
      "[21:11:07] Camera(0) Gyro(0) SpO2(0) → Prediction: ✅ Non-Fall\n",
      "[21:11:07] Camera(0) Gyro(0) SpO2(0) → Prediction: ✅ Non-Fall\n",
      "[21:11:07] Camera(0) Gyro(0) SpO2(0) → Prediction: ✅ Non-Fall\n"
     ]
    },
    {
     "name": "stderr",
     "output_type": "stream",
     "text": [
      "c:\\Users\\HP\\Documents\\DSGP\\CM2603-Data_Science_Project-G20\\fall_venv\\Lib\\site-packages\\sklearn\\utils\\validation.py:2739: UserWarning: X does not have valid feature names, but StandardScaler was fitted with feature names\n",
      "  warnings.warn(\n",
      "c:\\Users\\HP\\Documents\\DSGP\\CM2603-Data_Science_Project-G20\\fall_venv\\Lib\\site-packages\\sklearn\\utils\\validation.py:2739: UserWarning: X does not have valid feature names, but StandardScaler was fitted with feature names\n",
      "  warnings.warn(\n",
      "c:\\Users\\HP\\Documents\\DSGP\\CM2603-Data_Science_Project-G20\\fall_venv\\Lib\\site-packages\\sklearn\\utils\\validation.py:2739: UserWarning: X does not have valid feature names, but StandardScaler was fitted with feature names\n",
      "  warnings.warn(\n"
     ]
    },
    {
     "name": "stdout",
     "output_type": "stream",
     "text": [
      "[21:11:07] Camera(0) Gyro(0) SpO2(0) → Prediction: ✅ Non-Fall\n",
      "[21:11:07] Camera(0) Gyro(1) SpO2(0) → Prediction: ✅ Non-Fall\n",
      "[21:11:07] Camera(0) Gyro(0) SpO2(0) → Prediction: ✅ Non-Fall\n"
     ]
    },
    {
     "name": "stderr",
     "output_type": "stream",
     "text": [
      "c:\\Users\\HP\\Documents\\DSGP\\CM2603-Data_Science_Project-G20\\fall_venv\\Lib\\site-packages\\sklearn\\utils\\validation.py:2739: UserWarning: X does not have valid feature names, but StandardScaler was fitted with feature names\n",
      "  warnings.warn(\n",
      "c:\\Users\\HP\\Documents\\DSGP\\CM2603-Data_Science_Project-G20\\fall_venv\\Lib\\site-packages\\sklearn\\utils\\validation.py:2739: UserWarning: X does not have valid feature names, but StandardScaler was fitted with feature names\n",
      "  warnings.warn(\n",
      "c:\\Users\\HP\\Documents\\DSGP\\CM2603-Data_Science_Project-G20\\fall_venv\\Lib\\site-packages\\sklearn\\utils\\validation.py:2739: UserWarning: X does not have valid feature names, but StandardScaler was fitted with feature names\n",
      "  warnings.warn(\n"
     ]
    },
    {
     "name": "stdout",
     "output_type": "stream",
     "text": [
      "[21:11:07] Camera(0) Gyro(0) SpO2(0) → Prediction: ✅ Non-Fall\n",
      "[21:11:07] Camera(0) Gyro(0) SpO2(0) → Prediction: ✅ Non-Fall\n"
     ]
    },
    {
     "name": "stderr",
     "output_type": "stream",
     "text": [
      "c:\\Users\\HP\\Documents\\DSGP\\CM2603-Data_Science_Project-G20\\fall_venv\\Lib\\site-packages\\sklearn\\utils\\validation.py:2739: UserWarning: X does not have valid feature names, but StandardScaler was fitted with feature names\n",
      "  warnings.warn(\n",
      "c:\\Users\\HP\\Documents\\DSGP\\CM2603-Data_Science_Project-G20\\fall_venv\\Lib\\site-packages\\sklearn\\utils\\validation.py:2739: UserWarning: X does not have valid feature names, but StandardScaler was fitted with feature names\n",
      "  warnings.warn(\n",
      "c:\\Users\\HP\\Documents\\DSGP\\CM2603-Data_Science_Project-G20\\fall_venv\\Lib\\site-packages\\sklearn\\utils\\validation.py:2739: UserWarning: X does not have valid feature names, but StandardScaler was fitted with feature names\n",
      "  warnings.warn(\n"
     ]
    },
    {
     "name": "stdout",
     "output_type": "stream",
     "text": [
      "[21:11:08] Camera(0) Gyro(0) SpO2(0) → Prediction: ✅ Non-Fall\n",
      "[21:11:08] Camera(0) Gyro(0) SpO2(0) → Prediction: ✅ Non-Fall\n",
      "[21:11:08] Camera(0) Gyro(0) SpO2(0) → Prediction: ✅ Non-Fall\n"
     ]
    },
    {
     "name": "stderr",
     "output_type": "stream",
     "text": [
      "c:\\Users\\HP\\Documents\\DSGP\\CM2603-Data_Science_Project-G20\\fall_venv\\Lib\\site-packages\\sklearn\\utils\\validation.py:2739: UserWarning: X does not have valid feature names, but StandardScaler was fitted with feature names\n",
      "  warnings.warn(\n",
      "c:\\Users\\HP\\Documents\\DSGP\\CM2603-Data_Science_Project-G20\\fall_venv\\Lib\\site-packages\\sklearn\\utils\\validation.py:2739: UserWarning: X does not have valid feature names, but StandardScaler was fitted with feature names\n",
      "  warnings.warn(\n",
      "c:\\Users\\HP\\Documents\\DSGP\\CM2603-Data_Science_Project-G20\\fall_venv\\Lib\\site-packages\\sklearn\\utils\\validation.py:2739: UserWarning: X does not have valid feature names, but StandardScaler was fitted with feature names\n",
      "  warnings.warn(\n"
     ]
    },
    {
     "name": "stdout",
     "output_type": "stream",
     "text": [
      "[21:11:08] Camera(0) Gyro(0) SpO2(0) → Prediction: ✅ Non-Fall\n",
      "[21:11:08] Camera(0) Gyro(0) SpO2(0) → Prediction: ✅ Non-Fall\n"
     ]
    },
    {
     "name": "stderr",
     "output_type": "stream",
     "text": [
      "c:\\Users\\HP\\Documents\\DSGP\\CM2603-Data_Science_Project-G20\\fall_venv\\Lib\\site-packages\\sklearn\\utils\\validation.py:2739: UserWarning: X does not have valid feature names, but StandardScaler was fitted with feature names\n",
      "  warnings.warn(\n",
      "c:\\Users\\HP\\Documents\\DSGP\\CM2603-Data_Science_Project-G20\\fall_venv\\Lib\\site-packages\\sklearn\\utils\\validation.py:2739: UserWarning: X does not have valid feature names, but StandardScaler was fitted with feature names\n",
      "  warnings.warn(\n",
      "c:\\Users\\HP\\Documents\\DSGP\\CM2603-Data_Science_Project-G20\\fall_venv\\Lib\\site-packages\\sklearn\\utils\\validation.py:2739: UserWarning: X does not have valid feature names, but StandardScaler was fitted with feature names\n",
      "  warnings.warn(\n"
     ]
    },
    {
     "name": "stdout",
     "output_type": "stream",
     "text": [
      "[21:11:08] Camera(0) Gyro(1) SpO2(0) → Prediction: ✅ Non-Fall\n",
      "[21:11:08] Camera(0) Gyro(0) SpO2(0) → Prediction: ✅ Non-Fall\n",
      "[21:11:08] Camera(0) Gyro(0) SpO2(0) → Prediction: ✅ Non-Fall\n"
     ]
    },
    {
     "name": "stderr",
     "output_type": "stream",
     "text": [
      "c:\\Users\\HP\\Documents\\DSGP\\CM2603-Data_Science_Project-G20\\fall_venv\\Lib\\site-packages\\sklearn\\utils\\validation.py:2739: UserWarning: X does not have valid feature names, but StandardScaler was fitted with feature names\n",
      "  warnings.warn(\n",
      "c:\\Users\\HP\\Documents\\DSGP\\CM2603-Data_Science_Project-G20\\fall_venv\\Lib\\site-packages\\sklearn\\utils\\validation.py:2739: UserWarning: X does not have valid feature names, but StandardScaler was fitted with feature names\n",
      "  warnings.warn(\n",
      "c:\\Users\\HP\\Documents\\DSGP\\CM2603-Data_Science_Project-G20\\fall_venv\\Lib\\site-packages\\sklearn\\utils\\validation.py:2739: UserWarning: X does not have valid feature names, but StandardScaler was fitted with feature names\n",
      "  warnings.warn(\n",
      "c:\\Users\\HP\\Documents\\DSGP\\CM2603-Data_Science_Project-G20\\fall_venv\\Lib\\site-packages\\sklearn\\utils\\validation.py:2739: UserWarning: X does not have valid feature names, but StandardScaler was fitted with feature names\n",
      "  warnings.warn(\n",
      "c:\\Users\\HP\\Documents\\DSGP\\CM2603-Data_Science_Project-G20\\fall_venv\\Lib\\site-packages\\sklearn\\utils\\validation.py:2739: UserWarning: X does not have valid feature names, but StandardScaler was fitted with feature names\n",
      "  warnings.warn(\n",
      "c:\\Users\\HP\\Documents\\DSGP\\CM2603-Data_Science_Project-G20\\fall_venv\\Lib\\site-packages\\sklearn\\utils\\validation.py:2739: UserWarning: X does not have valid feature names, but StandardScaler was fitted with feature names\n",
      "  warnings.warn(\n",
      "c:\\Users\\HP\\Documents\\DSGP\\CM2603-Data_Science_Project-G20\\fall_venv\\Lib\\site-packages\\sklearn\\utils\\validation.py:2739: UserWarning: X does not have valid feature names, but StandardScaler was fitted with feature names\n",
      "  warnings.warn(\n"
     ]
    },
    {
     "name": "stdout",
     "output_type": "stream",
     "text": [
      "[21:11:08] Camera(0) Gyro(0) SpO2(0) → Prediction: ✅ Non-Fall\n",
      "[21:11:08] Camera(0) Gyro(0) SpO2(0) → Prediction: ✅ Non-Fall\n",
      "[21:11:09] Camera(0) Gyro(0) SpO2(0) → Prediction: ✅ Non-Fall\n"
     ]
    },
    {
     "name": "stderr",
     "output_type": "stream",
     "text": [
      "c:\\Users\\HP\\Documents\\DSGP\\CM2603-Data_Science_Project-G20\\fall_venv\\Lib\\site-packages\\sklearn\\utils\\validation.py:2739: UserWarning: X does not have valid feature names, but StandardScaler was fitted with feature names\n",
      "  warnings.warn(\n",
      "c:\\Users\\HP\\Documents\\DSGP\\CM2603-Data_Science_Project-G20\\fall_venv\\Lib\\site-packages\\sklearn\\utils\\validation.py:2739: UserWarning: X does not have valid feature names, but StandardScaler was fitted with feature names\n",
      "  warnings.warn(\n",
      "c:\\Users\\HP\\Documents\\DSGP\\CM2603-Data_Science_Project-G20\\fall_venv\\Lib\\site-packages\\sklearn\\utils\\validation.py:2739: UserWarning: X does not have valid feature names, but StandardScaler was fitted with feature names\n",
      "  warnings.warn(\n",
      "c:\\Users\\HP\\Documents\\DSGP\\CM2603-Data_Science_Project-G20\\fall_venv\\Lib\\site-packages\\sklearn\\utils\\validation.py:2739: UserWarning: X does not have valid feature names, but StandardScaler was fitted with feature names\n",
      "  warnings.warn(\n"
     ]
    },
    {
     "name": "stdout",
     "output_type": "stream",
     "text": [
      "[21:11:09] Camera(0) Gyro(0) SpO2(0) → Prediction: ✅ Non-Fall\n",
      "[21:11:09] Camera(0) Gyro(0) SpO2(0) → Prediction: ✅ Non-Fall\n",
      "[21:11:09] Camera(0) Gyro(0) SpO2(0) → Prediction: ✅ Non-Fall\n"
     ]
    },
    {
     "name": "stderr",
     "output_type": "stream",
     "text": [
      "c:\\Users\\HP\\Documents\\DSGP\\CM2603-Data_Science_Project-G20\\fall_venv\\Lib\\site-packages\\sklearn\\utils\\validation.py:2739: UserWarning: X does not have valid feature names, but StandardScaler was fitted with feature names\n",
      "  warnings.warn(\n",
      "c:\\Users\\HP\\Documents\\DSGP\\CM2603-Data_Science_Project-G20\\fall_venv\\Lib\\site-packages\\sklearn\\utils\\validation.py:2739: UserWarning: X does not have valid feature names, but StandardScaler was fitted with feature names\n",
      "  warnings.warn(\n",
      "c:\\Users\\HP\\Documents\\DSGP\\CM2603-Data_Science_Project-G20\\fall_venv\\Lib\\site-packages\\sklearn\\utils\\validation.py:2739: UserWarning: X does not have valid feature names, but StandardScaler was fitted with feature names\n",
      "  warnings.warn(\n"
     ]
    },
    {
     "name": "stdout",
     "output_type": "stream",
     "text": [
      "[21:11:09] Camera(0) Gyro(0) SpO2(0) → Prediction: ✅ Non-Fall\n",
      "[21:11:09] Camera(0) Gyro(0) SpO2(0) → Prediction: ✅ Non-Fall\n",
      "[21:11:09] Camera(0) Gyro(0) SpO2(0) → Prediction: ✅ Non-Fall\n"
     ]
    },
    {
     "name": "stderr",
     "output_type": "stream",
     "text": [
      "c:\\Users\\HP\\Documents\\DSGP\\CM2603-Data_Science_Project-G20\\fall_venv\\Lib\\site-packages\\sklearn\\utils\\validation.py:2739: UserWarning: X does not have valid feature names, but StandardScaler was fitted with feature names\n",
      "  warnings.warn(\n",
      "c:\\Users\\HP\\Documents\\DSGP\\CM2603-Data_Science_Project-G20\\fall_venv\\Lib\\site-packages\\sklearn\\utils\\validation.py:2739: UserWarning: X does not have valid feature names, but StandardScaler was fitted with feature names\n",
      "  warnings.warn(\n",
      "c:\\Users\\HP\\Documents\\DSGP\\CM2603-Data_Science_Project-G20\\fall_venv\\Lib\\site-packages\\sklearn\\utils\\validation.py:2739: UserWarning: X does not have valid feature names, but StandardScaler was fitted with feature names\n",
      "  warnings.warn(\n"
     ]
    },
    {
     "name": "stdout",
     "output_type": "stream",
     "text": [
      "[21:11:09] Camera(0) Gyro(0) SpO2(0) → Prediction: ✅ Non-Fall\n",
      "[21:11:09] Camera(0) Gyro(0) SpO2(0) → Prediction: ✅ Non-Fall\n",
      "[21:11:09] Camera(0) Gyro(0) SpO2(0) → Prediction: ✅ Non-Fall\n"
     ]
    },
    {
     "name": "stderr",
     "output_type": "stream",
     "text": [
      "c:\\Users\\HP\\Documents\\DSGP\\CM2603-Data_Science_Project-G20\\fall_venv\\Lib\\site-packages\\sklearn\\utils\\validation.py:2739: UserWarning: X does not have valid feature names, but StandardScaler was fitted with feature names\n",
      "  warnings.warn(\n",
      "c:\\Users\\HP\\Documents\\DSGP\\CM2603-Data_Science_Project-G20\\fall_venv\\Lib\\site-packages\\sklearn\\utils\\validation.py:2739: UserWarning: X does not have valid feature names, but StandardScaler was fitted with feature names\n",
      "  warnings.warn(\n"
     ]
    },
    {
     "name": "stdout",
     "output_type": "stream",
     "text": [
      "[21:11:10] Camera(0) Gyro(0) SpO2(0) → Prediction: ✅ Non-Fall\n",
      "[21:11:10] Camera(0) Gyro(0) SpO2(0) → Prediction: ✅ Non-Fall\n",
      "[21:11:10] Camera(0) Gyro(0) SpO2(0) → Prediction: ✅ Non-Fall\n"
     ]
    },
    {
     "name": "stderr",
     "output_type": "stream",
     "text": [
      "c:\\Users\\HP\\Documents\\DSGP\\CM2603-Data_Science_Project-G20\\fall_venv\\Lib\\site-packages\\sklearn\\utils\\validation.py:2739: UserWarning: X does not have valid feature names, but StandardScaler was fitted with feature names\n",
      "  warnings.warn(\n",
      "c:\\Users\\HP\\Documents\\DSGP\\CM2603-Data_Science_Project-G20\\fall_venv\\Lib\\site-packages\\sklearn\\utils\\validation.py:2739: UserWarning: X does not have valid feature names, but StandardScaler was fitted with feature names\n",
      "  warnings.warn(\n",
      "c:\\Users\\HP\\Documents\\DSGP\\CM2603-Data_Science_Project-G20\\fall_venv\\Lib\\site-packages\\sklearn\\utils\\validation.py:2739: UserWarning: X does not have valid feature names, but StandardScaler was fitted with feature names\n",
      "  warnings.warn(\n",
      "c:\\Users\\HP\\Documents\\DSGP\\CM2603-Data_Science_Project-G20\\fall_venv\\Lib\\site-packages\\sklearn\\utils\\validation.py:2739: UserWarning: X does not have valid feature names, but StandardScaler was fitted with feature names\n",
      "  warnings.warn(\n",
      "c:\\Users\\HP\\Documents\\DSGP\\CM2603-Data_Science_Project-G20\\fall_venv\\Lib\\site-packages\\sklearn\\utils\\validation.py:2739: UserWarning: X does not have valid feature names, but StandardScaler was fitted with feature names\n",
      "  warnings.warn(\n",
      "c:\\Users\\HP\\Documents\\DSGP\\CM2603-Data_Science_Project-G20\\fall_venv\\Lib\\site-packages\\sklearn\\utils\\validation.py:2739: UserWarning: X does not have valid feature names, but StandardScaler was fitted with feature names\n",
      "  warnings.warn(\n"
     ]
    },
    {
     "name": "stdout",
     "output_type": "stream",
     "text": [
      "[21:11:10] Camera(0) Gyro(0) SpO2(0) → Prediction: ✅ Non-Fall\n",
      "[21:11:10] Camera(0) Gyro(0) SpO2(0) → Prediction: ✅ Non-Fall\n"
     ]
    },
    {
     "name": "stderr",
     "output_type": "stream",
     "text": [
      "c:\\Users\\HP\\Documents\\DSGP\\CM2603-Data_Science_Project-G20\\fall_venv\\Lib\\site-packages\\sklearn\\utils\\validation.py:2739: UserWarning: X does not have valid feature names, but StandardScaler was fitted with feature names\n",
      "  warnings.warn(\n",
      "c:\\Users\\HP\\Documents\\DSGP\\CM2603-Data_Science_Project-G20\\fall_venv\\Lib\\site-packages\\sklearn\\utils\\validation.py:2739: UserWarning: X does not have valid feature names, but StandardScaler was fitted with feature names\n",
      "  warnings.warn(\n",
      "c:\\Users\\HP\\Documents\\DSGP\\CM2603-Data_Science_Project-G20\\fall_venv\\Lib\\site-packages\\sklearn\\utils\\validation.py:2739: UserWarning: X does not have valid feature names, but StandardScaler was fitted with feature names\n",
      "  warnings.warn(\n",
      "c:\\Users\\HP\\Documents\\DSGP\\CM2603-Data_Science_Project-G20\\fall_venv\\Lib\\site-packages\\sklearn\\utils\\validation.py:2739: UserWarning: X does not have valid feature names, but StandardScaler was fitted with feature names\n",
      "  warnings.warn(\n"
     ]
    },
    {
     "name": "stdout",
     "output_type": "stream",
     "text": [
      "[21:11:10] Camera(0) Gyro(0) SpO2(0) → Prediction: ✅ Non-Fall\n",
      "[21:11:10] Camera(0) Gyro(0) SpO2(0) → Prediction: ✅ Non-Fall\n",
      "[21:11:10] Camera(0) Gyro(0) SpO2(0) → Prediction: ✅ Non-Fall\n",
      "[21:11:10] Camera(0) Gyro(0) SpO2(0) → Prediction: ✅ Non-Fall\n",
      "[21:11:11] Camera(0) Gyro(0) SpO2(0) → Prediction: ✅ Non-Fall\n"
     ]
    },
    {
     "name": "stderr",
     "output_type": "stream",
     "text": [
      "c:\\Users\\HP\\Documents\\DSGP\\CM2603-Data_Science_Project-G20\\fall_venv\\Lib\\site-packages\\sklearn\\utils\\validation.py:2739: UserWarning: X does not have valid feature names, but StandardScaler was fitted with feature names\n",
      "  warnings.warn(\n",
      "c:\\Users\\HP\\Documents\\DSGP\\CM2603-Data_Science_Project-G20\\fall_venv\\Lib\\site-packages\\sklearn\\utils\\validation.py:2739: UserWarning: X does not have valid feature names, but StandardScaler was fitted with feature names\n",
      "  warnings.warn(\n",
      "c:\\Users\\HP\\Documents\\DSGP\\CM2603-Data_Science_Project-G20\\fall_venv\\Lib\\site-packages\\sklearn\\utils\\validation.py:2739: UserWarning: X does not have valid feature names, but StandardScaler was fitted with feature names\n",
      "  warnings.warn(\n"
     ]
    },
    {
     "name": "stdout",
     "output_type": "stream",
     "text": [
      "[21:11:11] Camera(0) Gyro(0) SpO2(0) → Prediction: ✅ Non-Fall\n",
      "[21:11:11] Camera(0) Gyro(0) SpO2(0) → Prediction: ✅ Non-Fall\n"
     ]
    },
    {
     "name": "stderr",
     "output_type": "stream",
     "text": [
      "c:\\Users\\HP\\Documents\\DSGP\\CM2603-Data_Science_Project-G20\\fall_venv\\Lib\\site-packages\\sklearn\\utils\\validation.py:2739: UserWarning: X does not have valid feature names, but StandardScaler was fitted with feature names\n",
      "  warnings.warn(\n",
      "c:\\Users\\HP\\Documents\\DSGP\\CM2603-Data_Science_Project-G20\\fall_venv\\Lib\\site-packages\\sklearn\\utils\\validation.py:2739: UserWarning: X does not have valid feature names, but StandardScaler was fitted with feature names\n",
      "  warnings.warn(\n",
      "c:\\Users\\HP\\Documents\\DSGP\\CM2603-Data_Science_Project-G20\\fall_venv\\Lib\\site-packages\\sklearn\\utils\\validation.py:2739: UserWarning: X does not have valid feature names, but StandardScaler was fitted with feature names\n",
      "  warnings.warn(\n"
     ]
    },
    {
     "name": "stdout",
     "output_type": "stream",
     "text": [
      "[21:11:11] Camera(0) Gyro(0) SpO2(0) → Prediction: ✅ Non-Fall\n",
      "[21:11:11] Camera(0) Gyro(1) SpO2(0) → Prediction: ✅ Non-Fall\n"
     ]
    },
    {
     "name": "stderr",
     "output_type": "stream",
     "text": [
      "c:\\Users\\HP\\Documents\\DSGP\\CM2603-Data_Science_Project-G20\\fall_venv\\Lib\\site-packages\\sklearn\\utils\\validation.py:2739: UserWarning: X does not have valid feature names, but StandardScaler was fitted with feature names\n",
      "  warnings.warn(\n",
      "c:\\Users\\HP\\Documents\\DSGP\\CM2603-Data_Science_Project-G20\\fall_venv\\Lib\\site-packages\\sklearn\\utils\\validation.py:2739: UserWarning: X does not have valid feature names, but StandardScaler was fitted with feature names\n",
      "  warnings.warn(\n",
      "c:\\Users\\HP\\Documents\\DSGP\\CM2603-Data_Science_Project-G20\\fall_venv\\Lib\\site-packages\\sklearn\\utils\\validation.py:2739: UserWarning: X does not have valid feature names, but StandardScaler was fitted with feature names\n",
      "  warnings.warn(\n"
     ]
    },
    {
     "name": "stdout",
     "output_type": "stream",
     "text": [
      "[21:11:11] Camera(0) Gyro(0) SpO2(0) → Prediction: ✅ Non-Fall\n",
      "[21:11:11] Camera(0) Gyro(0) SpO2(0) → Prediction: ✅ Non-Fall\n",
      "[21:11:11] Camera(0) Gyro(0) SpO2(0) → Prediction: ✅ Non-Fall\n"
     ]
    },
    {
     "name": "stderr",
     "output_type": "stream",
     "text": [
      "c:\\Users\\HP\\Documents\\DSGP\\CM2603-Data_Science_Project-G20\\fall_venv\\Lib\\site-packages\\sklearn\\utils\\validation.py:2739: UserWarning: X does not have valid feature names, but StandardScaler was fitted with feature names\n",
      "  warnings.warn(\n",
      "c:\\Users\\HP\\Documents\\DSGP\\CM2603-Data_Science_Project-G20\\fall_venv\\Lib\\site-packages\\sklearn\\utils\\validation.py:2739: UserWarning: X does not have valid feature names, but StandardScaler was fitted with feature names\n",
      "  warnings.warn(\n",
      "c:\\Users\\HP\\Documents\\DSGP\\CM2603-Data_Science_Project-G20\\fall_venv\\Lib\\site-packages\\sklearn\\utils\\validation.py:2739: UserWarning: X does not have valid feature names, but StandardScaler was fitted with feature names\n",
      "  warnings.warn(\n"
     ]
    },
    {
     "name": "stdout",
     "output_type": "stream",
     "text": [
      "[21:11:11] Camera(0) Gyro(0) SpO2(0) → Prediction: ✅ Non-Fall\n",
      "[21:11:11] Camera(0) Gyro(1) SpO2(0) → Prediction: ✅ Non-Fall\n",
      "[21:11:12] Camera(0) Gyro(0) SpO2(0) → Prediction: ✅ Non-Fall\n"
     ]
    },
    {
     "name": "stderr",
     "output_type": "stream",
     "text": [
      "c:\\Users\\HP\\Documents\\DSGP\\CM2603-Data_Science_Project-G20\\fall_venv\\Lib\\site-packages\\sklearn\\utils\\validation.py:2739: UserWarning: X does not have valid feature names, but StandardScaler was fitted with feature names\n",
      "  warnings.warn(\n",
      "c:\\Users\\HP\\Documents\\DSGP\\CM2603-Data_Science_Project-G20\\fall_venv\\Lib\\site-packages\\sklearn\\utils\\validation.py:2739: UserWarning: X does not have valid feature names, but StandardScaler was fitted with feature names\n",
      "  warnings.warn(\n",
      "c:\\Users\\HP\\Documents\\DSGP\\CM2603-Data_Science_Project-G20\\fall_venv\\Lib\\site-packages\\sklearn\\utils\\validation.py:2739: UserWarning: X does not have valid feature names, but StandardScaler was fitted with feature names\n",
      "  warnings.warn(\n"
     ]
    },
    {
     "name": "stdout",
     "output_type": "stream",
     "text": [
      "[21:11:12] Camera(0) Gyro(0) SpO2(0) → Prediction: ✅ Non-Fall\n",
      "[21:11:12] Camera(0) Gyro(1) SpO2(0) → Prediction: ✅ Non-Fall\n",
      "[21:11:12] Camera(0) Gyro(1) SpO2(0) → Prediction: ✅ Non-Fall\n"
     ]
    },
    {
     "name": "stderr",
     "output_type": "stream",
     "text": [
      "c:\\Users\\HP\\Documents\\DSGP\\CM2603-Data_Science_Project-G20\\fall_venv\\Lib\\site-packages\\sklearn\\utils\\validation.py:2739: UserWarning: X does not have valid feature names, but StandardScaler was fitted with feature names\n",
      "  warnings.warn(\n",
      "c:\\Users\\HP\\Documents\\DSGP\\CM2603-Data_Science_Project-G20\\fall_venv\\Lib\\site-packages\\sklearn\\utils\\validation.py:2739: UserWarning: X does not have valid feature names, but StandardScaler was fitted with feature names\n",
      "  warnings.warn(\n",
      "c:\\Users\\HP\\Documents\\DSGP\\CM2603-Data_Science_Project-G20\\fall_venv\\Lib\\site-packages\\sklearn\\utils\\validation.py:2739: UserWarning: X does not have valid feature names, but StandardScaler was fitted with feature names\n",
      "  warnings.warn(\n",
      "c:\\Users\\HP\\Documents\\DSGP\\CM2603-Data_Science_Project-G20\\fall_venv\\Lib\\site-packages\\sklearn\\utils\\validation.py:2739: UserWarning: X does not have valid feature names, but StandardScaler was fitted with feature names\n",
      "  warnings.warn(\n",
      "c:\\Users\\HP\\Documents\\DSGP\\CM2603-Data_Science_Project-G20\\fall_venv\\Lib\\site-packages\\sklearn\\utils\\validation.py:2739: UserWarning: X does not have valid feature names, but StandardScaler was fitted with feature names\n",
      "  warnings.warn(\n",
      "c:\\Users\\HP\\Documents\\DSGP\\CM2603-Data_Science_Project-G20\\fall_venv\\Lib\\site-packages\\sklearn\\utils\\validation.py:2739: UserWarning: X does not have valid feature names, but StandardScaler was fitted with feature names\n",
      "  warnings.warn(\n"
     ]
    },
    {
     "name": "stdout",
     "output_type": "stream",
     "text": [
      "[21:11:12] Camera(0) Gyro(0) SpO2(0) → Prediction: ✅ Non-Fall\n",
      "[21:11:12] Camera(0) Gyro(1) SpO2(0) → Prediction: ✅ Non-Fall\n"
     ]
    },
    {
     "name": "stderr",
     "output_type": "stream",
     "text": [
      "c:\\Users\\HP\\Documents\\DSGP\\CM2603-Data_Science_Project-G20\\fall_venv\\Lib\\site-packages\\sklearn\\utils\\validation.py:2739: UserWarning: X does not have valid feature names, but StandardScaler was fitted with feature names\n",
      "  warnings.warn(\n",
      "c:\\Users\\HP\\Documents\\DSGP\\CM2603-Data_Science_Project-G20\\fall_venv\\Lib\\site-packages\\sklearn\\utils\\validation.py:2739: UserWarning: X does not have valid feature names, but StandardScaler was fitted with feature names\n",
      "  warnings.warn(\n",
      "c:\\Users\\HP\\Documents\\DSGP\\CM2603-Data_Science_Project-G20\\fall_venv\\Lib\\site-packages\\sklearn\\utils\\validation.py:2739: UserWarning: X does not have valid feature names, but StandardScaler was fitted with feature names\n",
      "  warnings.warn(\n"
     ]
    },
    {
     "name": "stdout",
     "output_type": "stream",
     "text": [
      "[21:11:12] Camera(0) Gyro(0) SpO2(0) → Prediction: ✅ Non-Fall\n",
      "[21:11:12] Camera(0) Gyro(0) SpO2(0) → Prediction: ✅ Non-Fall\n",
      "[21:11:12] Camera(0) Gyro(0) SpO2(0) → Prediction: ✅ Non-Fall\n"
     ]
    },
    {
     "name": "stderr",
     "output_type": "stream",
     "text": [
      "c:\\Users\\HP\\Documents\\DSGP\\CM2603-Data_Science_Project-G20\\fall_venv\\Lib\\site-packages\\sklearn\\utils\\validation.py:2739: UserWarning: X does not have valid feature names, but StandardScaler was fitted with feature names\n",
      "  warnings.warn(\n",
      "c:\\Users\\HP\\Documents\\DSGP\\CM2603-Data_Science_Project-G20\\fall_venv\\Lib\\site-packages\\sklearn\\utils\\validation.py:2739: UserWarning: X does not have valid feature names, but StandardScaler was fitted with feature names\n",
      "  warnings.warn(\n",
      "c:\\Users\\HP\\Documents\\DSGP\\CM2603-Data_Science_Project-G20\\fall_venv\\Lib\\site-packages\\sklearn\\utils\\validation.py:2739: UserWarning: X does not have valid feature names, but StandardScaler was fitted with feature names\n",
      "  warnings.warn(\n",
      "c:\\Users\\HP\\Documents\\DSGP\\CM2603-Data_Science_Project-G20\\fall_venv\\Lib\\site-packages\\sklearn\\utils\\validation.py:2739: UserWarning: X does not have valid feature names, but StandardScaler was fitted with feature names\n",
      "  warnings.warn(\n"
     ]
    },
    {
     "name": "stdout",
     "output_type": "stream",
     "text": [
      "[21:11:12] Camera(0) Gyro(0) SpO2(0) → Prediction: ✅ Non-Fall\n",
      "[21:11:13] Camera(0) Gyro(0) SpO2(0) → Prediction: ✅ Non-Fall\n",
      "[21:11:13] Camera(0) Gyro(0) SpO2(0) → Prediction: ✅ Non-Fall\n"
     ]
    },
    {
     "name": "stderr",
     "output_type": "stream",
     "text": [
      "c:\\Users\\HP\\Documents\\DSGP\\CM2603-Data_Science_Project-G20\\fall_venv\\Lib\\site-packages\\sklearn\\utils\\validation.py:2739: UserWarning: X does not have valid feature names, but StandardScaler was fitted with feature names\n",
      "  warnings.warn(\n",
      "c:\\Users\\HP\\Documents\\DSGP\\CM2603-Data_Science_Project-G20\\fall_venv\\Lib\\site-packages\\sklearn\\utils\\validation.py:2739: UserWarning: X does not have valid feature names, but StandardScaler was fitted with feature names\n",
      "  warnings.warn(\n",
      "c:\\Users\\HP\\Documents\\DSGP\\CM2603-Data_Science_Project-G20\\fall_venv\\Lib\\site-packages\\sklearn\\utils\\validation.py:2739: UserWarning: X does not have valid feature names, but StandardScaler was fitted with feature names\n",
      "  warnings.warn(\n"
     ]
    },
    {
     "name": "stdout",
     "output_type": "stream",
     "text": [
      "[21:11:13] Camera(0) Gyro(0) SpO2(0) → Prediction: ✅ Non-Fall\n",
      "[21:11:13] Camera(0) Gyro(0) SpO2(0) → Prediction: ✅ Non-Fall\n"
     ]
    },
    {
     "name": "stderr",
     "output_type": "stream",
     "text": [
      "c:\\Users\\HP\\Documents\\DSGP\\CM2603-Data_Science_Project-G20\\fall_venv\\Lib\\site-packages\\sklearn\\utils\\validation.py:2739: UserWarning: X does not have valid feature names, but StandardScaler was fitted with feature names\n",
      "  warnings.warn(\n",
      "c:\\Users\\HP\\Documents\\DSGP\\CM2603-Data_Science_Project-G20\\fall_venv\\Lib\\site-packages\\sklearn\\utils\\validation.py:2739: UserWarning: X does not have valid feature names, but StandardScaler was fitted with feature names\n",
      "  warnings.warn(\n",
      "c:\\Users\\HP\\Documents\\DSGP\\CM2603-Data_Science_Project-G20\\fall_venv\\Lib\\site-packages\\sklearn\\utils\\validation.py:2739: UserWarning: X does not have valid feature names, but StandardScaler was fitted with feature names\n",
      "  warnings.warn(\n"
     ]
    },
    {
     "name": "stdout",
     "output_type": "stream",
     "text": [
      "[21:11:13] Camera(0) Gyro(0) SpO2(0) → Prediction: ✅ Non-Fall\n",
      "[21:11:13] Camera(0) Gyro(0) SpO2(0) → Prediction: ✅ Non-Fall\n",
      "[21:11:13] Camera(0) Gyro(0) SpO2(0) → Prediction: ✅ Non-Fall\n",
      "[21:11:13] Camera(0) Gyro(0) SpO2(0) → Prediction: ✅ Non-Fall\n",
      "[21:11:13] Camera(0) Gyro(0) SpO2(0) → Prediction: ✅ Non-Fall\n"
     ]
    },
    {
     "name": "stderr",
     "output_type": "stream",
     "text": [
      "c:\\Users\\HP\\Documents\\DSGP\\CM2603-Data_Science_Project-G20\\fall_venv\\Lib\\site-packages\\sklearn\\utils\\validation.py:2739: UserWarning: X does not have valid feature names, but StandardScaler was fitted with feature names\n",
      "  warnings.warn(\n",
      "c:\\Users\\HP\\Documents\\DSGP\\CM2603-Data_Science_Project-G20\\fall_venv\\Lib\\site-packages\\sklearn\\utils\\validation.py:2739: UserWarning: X does not have valid feature names, but StandardScaler was fitted with feature names\n",
      "  warnings.warn(\n",
      "c:\\Users\\HP\\Documents\\DSGP\\CM2603-Data_Science_Project-G20\\fall_venv\\Lib\\site-packages\\sklearn\\utils\\validation.py:2739: UserWarning: X does not have valid feature names, but StandardScaler was fitted with feature names\n",
      "  warnings.warn(\n",
      "c:\\Users\\HP\\Documents\\DSGP\\CM2603-Data_Science_Project-G20\\fall_venv\\Lib\\site-packages\\sklearn\\utils\\validation.py:2739: UserWarning: X does not have valid feature names, but StandardScaler was fitted with feature names\n",
      "  warnings.warn(\n",
      "c:\\Users\\HP\\Documents\\DSGP\\CM2603-Data_Science_Project-G20\\fall_venv\\Lib\\site-packages\\sklearn\\utils\\validation.py:2739: UserWarning: X does not have valid feature names, but StandardScaler was fitted with feature names\n",
      "  warnings.warn(\n",
      "c:\\Users\\HP\\Documents\\DSGP\\CM2603-Data_Science_Project-G20\\fall_venv\\Lib\\site-packages\\sklearn\\utils\\validation.py:2739: UserWarning: X does not have valid feature names, but StandardScaler was fitted with feature names\n",
      "  warnings.warn(\n"
     ]
    },
    {
     "name": "stdout",
     "output_type": "stream",
     "text": [
      "[21:11:13] Camera(0) Gyro(0) SpO2(0) → Prediction: ✅ Non-Fall\n",
      "[21:11:14] Camera(0) Gyro(0) SpO2(0) → Prediction: ✅ Non-Fall\n",
      "[21:11:14] Camera(0) Gyro(0) SpO2(0) → Prediction: ✅ Non-Fall\n"
     ]
    },
    {
     "name": "stderr",
     "output_type": "stream",
     "text": [
      "c:\\Users\\HP\\Documents\\DSGP\\CM2603-Data_Science_Project-G20\\fall_venv\\Lib\\site-packages\\sklearn\\utils\\validation.py:2739: UserWarning: X does not have valid feature names, but StandardScaler was fitted with feature names\n",
      "  warnings.warn(\n",
      "c:\\Users\\HP\\Documents\\DSGP\\CM2603-Data_Science_Project-G20\\fall_venv\\Lib\\site-packages\\sklearn\\utils\\validation.py:2739: UserWarning: X does not have valid feature names, but StandardScaler was fitted with feature names\n",
      "  warnings.warn(\n"
     ]
    },
    {
     "name": "stdout",
     "output_type": "stream",
     "text": [
      "[21:11:14] Camera(0) Gyro(0) SpO2(0) → Prediction: ✅ Non-Fall\n",
      "[21:11:14] Camera(0) Gyro(0) SpO2(0) → Prediction: ✅ Non-Fall\n",
      "[21:11:14] Camera(0) Gyro(0) SpO2(0) → Prediction: ✅ Non-Fall\n"
     ]
    },
    {
     "name": "stderr",
     "output_type": "stream",
     "text": [
      "c:\\Users\\HP\\Documents\\DSGP\\CM2603-Data_Science_Project-G20\\fall_venv\\Lib\\site-packages\\sklearn\\utils\\validation.py:2739: UserWarning: X does not have valid feature names, but StandardScaler was fitted with feature names\n",
      "  warnings.warn(\n",
      "c:\\Users\\HP\\Documents\\DSGP\\CM2603-Data_Science_Project-G20\\fall_venv\\Lib\\site-packages\\sklearn\\utils\\validation.py:2739: UserWarning: X does not have valid feature names, but StandardScaler was fitted with feature names\n",
      "  warnings.warn(\n",
      "c:\\Users\\HP\\Documents\\DSGP\\CM2603-Data_Science_Project-G20\\fall_venv\\Lib\\site-packages\\sklearn\\utils\\validation.py:2739: UserWarning: X does not have valid feature names, but StandardScaler was fitted with feature names\n",
      "  warnings.warn(\n"
     ]
    },
    {
     "name": "stdout",
     "output_type": "stream",
     "text": [
      "[21:11:14] Camera(0) Gyro(0) SpO2(0) → Prediction: ✅ Non-Fall\n",
      "[21:11:14] Camera(0) Gyro(0) SpO2(0) → Prediction: ✅ Non-Fall\n",
      "[21:11:14] Camera(0) Gyro(0) SpO2(0) → Prediction: ✅ Non-Fall\n"
     ]
    },
    {
     "name": "stderr",
     "output_type": "stream",
     "text": [
      "c:\\Users\\HP\\Documents\\DSGP\\CM2603-Data_Science_Project-G20\\fall_venv\\Lib\\site-packages\\sklearn\\utils\\validation.py:2739: UserWarning: X does not have valid feature names, but StandardScaler was fitted with feature names\n",
      "  warnings.warn(\n",
      "c:\\Users\\HP\\Documents\\DSGP\\CM2603-Data_Science_Project-G20\\fall_venv\\Lib\\site-packages\\sklearn\\utils\\validation.py:2739: UserWarning: X does not have valid feature names, but StandardScaler was fitted with feature names\n",
      "  warnings.warn(\n",
      "c:\\Users\\HP\\Documents\\DSGP\\CM2603-Data_Science_Project-G20\\fall_venv\\Lib\\site-packages\\sklearn\\utils\\validation.py:2739: UserWarning: X does not have valid feature names, but StandardScaler was fitted with feature names\n",
      "  warnings.warn(\n"
     ]
    },
    {
     "name": "stdout",
     "output_type": "stream",
     "text": [
      "[21:11:14] Camera(0) Gyro(0) SpO2(0) → Prediction: ✅ Non-Fall\n",
      "[21:11:14] Camera(0) Gyro(0) SpO2(0) → Prediction: ✅ Non-Fall\n"
     ]
    },
    {
     "name": "stderr",
     "output_type": "stream",
     "text": [
      "c:\\Users\\HP\\Documents\\DSGP\\CM2603-Data_Science_Project-G20\\fall_venv\\Lib\\site-packages\\sklearn\\utils\\validation.py:2739: UserWarning: X does not have valid feature names, but StandardScaler was fitted with feature names\n",
      "  warnings.warn(\n",
      "c:\\Users\\HP\\Documents\\DSGP\\CM2603-Data_Science_Project-G20\\fall_venv\\Lib\\site-packages\\sklearn\\utils\\validation.py:2739: UserWarning: X does not have valid feature names, but StandardScaler was fitted with feature names\n",
      "  warnings.warn(\n",
      "c:\\Users\\HP\\Documents\\DSGP\\CM2603-Data_Science_Project-G20\\fall_venv\\Lib\\site-packages\\sklearn\\utils\\validation.py:2739: UserWarning: X does not have valid feature names, but StandardScaler was fitted with feature names\n",
      "  warnings.warn(\n"
     ]
    },
    {
     "name": "stdout",
     "output_type": "stream",
     "text": [
      "[21:11:15] Camera(0) Gyro(0) SpO2(0) → Prediction: ✅ Non-Fall\n",
      "[21:11:15] Camera(0) Gyro(0) SpO2(0) → Prediction: ✅ Non-Fall\n"
     ]
    },
    {
     "name": "stderr",
     "output_type": "stream",
     "text": [
      "c:\\Users\\HP\\Documents\\DSGP\\CM2603-Data_Science_Project-G20\\fall_venv\\Lib\\site-packages\\sklearn\\utils\\validation.py:2739: UserWarning: X does not have valid feature names, but StandardScaler was fitted with feature names\n",
      "  warnings.warn(\n",
      "c:\\Users\\HP\\Documents\\DSGP\\CM2603-Data_Science_Project-G20\\fall_venv\\Lib\\site-packages\\sklearn\\utils\\validation.py:2739: UserWarning: X does not have valid feature names, but StandardScaler was fitted with feature names\n",
      "  warnings.warn(\n",
      "c:\\Users\\HP\\Documents\\DSGP\\CM2603-Data_Science_Project-G20\\fall_venv\\Lib\\site-packages\\sklearn\\utils\\validation.py:2739: UserWarning: X does not have valid feature names, but StandardScaler was fitted with feature names\n",
      "  warnings.warn(\n"
     ]
    },
    {
     "name": "stdout",
     "output_type": "stream",
     "text": [
      "[21:11:15] Camera(0) Gyro(0) SpO2(0) → Prediction: ✅ Non-Fall\n",
      "[21:11:15] Camera(0) Gyro(0) SpO2(0) → Prediction: ✅ Non-Fall\n",
      "[21:11:15] Camera(0) Gyro(0) SpO2(0) → Prediction: ✅ Non-Fall\n",
      "[21:11:15] Camera(0) Gyro(0) SpO2(1) → Prediction: ✅ Non-Fall\n",
      "[21:11:15] Camera(0) Gyro(0) SpO2(1) → Prediction: ✅ Non-Fall\n"
     ]
    },
    {
     "name": "stderr",
     "output_type": "stream",
     "text": [
      "c:\\Users\\HP\\Documents\\DSGP\\CM2603-Data_Science_Project-G20\\fall_venv\\Lib\\site-packages\\sklearn\\utils\\validation.py:2739: UserWarning: X does not have valid feature names, but StandardScaler was fitted with feature names\n",
      "  warnings.warn(\n",
      "c:\\Users\\HP\\Documents\\DSGP\\CM2603-Data_Science_Project-G20\\fall_venv\\Lib\\site-packages\\sklearn\\utils\\validation.py:2739: UserWarning: X does not have valid feature names, but StandardScaler was fitted with feature names\n",
      "  warnings.warn(\n",
      "c:\\Users\\HP\\Documents\\DSGP\\CM2603-Data_Science_Project-G20\\fall_venv\\Lib\\site-packages\\sklearn\\utils\\validation.py:2739: UserWarning: X does not have valid feature names, but StandardScaler was fitted with feature names\n",
      "  warnings.warn(\n",
      "c:\\Users\\HP\\Documents\\DSGP\\CM2603-Data_Science_Project-G20\\fall_venv\\Lib\\site-packages\\sklearn\\utils\\validation.py:2739: UserWarning: X does not have valid feature names, but StandardScaler was fitted with feature names\n",
      "  warnings.warn(\n",
      "c:\\Users\\HP\\Documents\\DSGP\\CM2603-Data_Science_Project-G20\\fall_venv\\Lib\\site-packages\\sklearn\\utils\\validation.py:2739: UserWarning: X does not have valid feature names, but StandardScaler was fitted with feature names\n",
      "  warnings.warn(\n",
      "c:\\Users\\HP\\Documents\\DSGP\\CM2603-Data_Science_Project-G20\\fall_venv\\Lib\\site-packages\\sklearn\\utils\\validation.py:2739: UserWarning: X does not have valid feature names, but StandardScaler was fitted with feature names\n",
      "  warnings.warn(\n"
     ]
    },
    {
     "name": "stdout",
     "output_type": "stream",
     "text": [
      "[21:11:15] Camera(0) Gyro(0) SpO2(1) → Prediction: ✅ Non-Fall\n",
      "[21:11:15] Camera(0) Gyro(0) SpO2(1) → Prediction: ✅ Non-Fall\n"
     ]
    },
    {
     "name": "stderr",
     "output_type": "stream",
     "text": [
      "c:\\Users\\HP\\Documents\\DSGP\\CM2603-Data_Science_Project-G20\\fall_venv\\Lib\\site-packages\\sklearn\\utils\\validation.py:2739: UserWarning: X does not have valid feature names, but StandardScaler was fitted with feature names\n",
      "  warnings.warn(\n",
      "c:\\Users\\HP\\Documents\\DSGP\\CM2603-Data_Science_Project-G20\\fall_venv\\Lib\\site-packages\\sklearn\\utils\\validation.py:2739: UserWarning: X does not have valid feature names, but StandardScaler was fitted with feature names\n",
      "  warnings.warn(\n",
      "c:\\Users\\HP\\Documents\\DSGP\\CM2603-Data_Science_Project-G20\\fall_venv\\Lib\\site-packages\\sklearn\\utils\\validation.py:2739: UserWarning: X does not have valid feature names, but StandardScaler was fitted with feature names\n",
      "  warnings.warn(\n",
      "c:\\Users\\HP\\Documents\\DSGP\\CM2603-Data_Science_Project-G20\\fall_venv\\Lib\\site-packages\\sklearn\\utils\\validation.py:2739: UserWarning: X does not have valid feature names, but StandardScaler was fitted with feature names\n",
      "  warnings.warn(\n"
     ]
    },
    {
     "name": "stdout",
     "output_type": "stream",
     "text": [
      "[21:11:15] Camera(0) Gyro(0) SpO2(1) → Prediction: ✅ Non-Fall\n",
      "[21:11:16] Camera(0) Gyro(0) SpO2(1) → Prediction: ✅ Non-Fall\n",
      "[21:11:16] Camera(0) Gyro(0) SpO2(1) → Prediction: ✅ Non-Fall\n"
     ]
    },
    {
     "name": "stderr",
     "output_type": "stream",
     "text": [
      "c:\\Users\\HP\\Documents\\DSGP\\CM2603-Data_Science_Project-G20\\fall_venv\\Lib\\site-packages\\sklearn\\utils\\validation.py:2739: UserWarning: X does not have valid feature names, but StandardScaler was fitted with feature names\n",
      "  warnings.warn(\n",
      "c:\\Users\\HP\\Documents\\DSGP\\CM2603-Data_Science_Project-G20\\fall_venv\\Lib\\site-packages\\sklearn\\utils\\validation.py:2739: UserWarning: X does not have valid feature names, but StandardScaler was fitted with feature names\n",
      "  warnings.warn(\n",
      "c:\\Users\\HP\\Documents\\DSGP\\CM2603-Data_Science_Project-G20\\fall_venv\\Lib\\site-packages\\sklearn\\utils\\validation.py:2739: UserWarning: X does not have valid feature names, but StandardScaler was fitted with feature names\n",
      "  warnings.warn(\n"
     ]
    },
    {
     "name": "stdout",
     "output_type": "stream",
     "text": [
      "[21:11:16] Camera(0) Gyro(0) SpO2(1) → Prediction: ✅ Non-Fall\n",
      "[21:11:16] Camera(0) Gyro(0) SpO2(1) → Prediction: ✅ Non-Fall\n",
      "[21:11:16] Camera(0) Gyro(0) SpO2(1) → Prediction: ✅ Non-Fall\n"
     ]
    },
    {
     "name": "stderr",
     "output_type": "stream",
     "text": [
      "c:\\Users\\HP\\Documents\\DSGP\\CM2603-Data_Science_Project-G20\\fall_venv\\Lib\\site-packages\\sklearn\\utils\\validation.py:2739: UserWarning: X does not have valid feature names, but StandardScaler was fitted with feature names\n",
      "  warnings.warn(\n",
      "c:\\Users\\HP\\Documents\\DSGP\\CM2603-Data_Science_Project-G20\\fall_venv\\Lib\\site-packages\\sklearn\\utils\\validation.py:2739: UserWarning: X does not have valid feature names, but StandardScaler was fitted with feature names\n",
      "  warnings.warn(\n",
      "c:\\Users\\HP\\Documents\\DSGP\\CM2603-Data_Science_Project-G20\\fall_venv\\Lib\\site-packages\\sklearn\\utils\\validation.py:2739: UserWarning: X does not have valid feature names, but StandardScaler was fitted with feature names\n",
      "  warnings.warn(\n"
     ]
    },
    {
     "name": "stdout",
     "output_type": "stream",
     "text": [
      "[21:11:16] Camera(0) Gyro(0) SpO2(0) → Prediction: ✅ Non-Fall\n",
      "[21:11:16] Camera(0) Gyro(0) SpO2(0) → Prediction: ✅ Non-Fall\n",
      "[21:11:16] Camera(0) Gyro(0) SpO2(0) → Prediction: ✅ Non-Fall\n"
     ]
    },
    {
     "name": "stderr",
     "output_type": "stream",
     "text": [
      "c:\\Users\\HP\\Documents\\DSGP\\CM2603-Data_Science_Project-G20\\fall_venv\\Lib\\site-packages\\sklearn\\utils\\validation.py:2739: UserWarning: X does not have valid feature names, but StandardScaler was fitted with feature names\n",
      "  warnings.warn(\n",
      "c:\\Users\\HP\\Documents\\DSGP\\CM2603-Data_Science_Project-G20\\fall_venv\\Lib\\site-packages\\sklearn\\utils\\validation.py:2739: UserWarning: X does not have valid feature names, but StandardScaler was fitted with feature names\n",
      "  warnings.warn(\n",
      "c:\\Users\\HP\\Documents\\DSGP\\CM2603-Data_Science_Project-G20\\fall_venv\\Lib\\site-packages\\sklearn\\utils\\validation.py:2739: UserWarning: X does not have valid feature names, but StandardScaler was fitted with feature names\n",
      "  warnings.warn(\n"
     ]
    },
    {
     "name": "stdout",
     "output_type": "stream",
     "text": [
      "[21:11:16] Camera(0) Gyro(0) SpO2(0) → Prediction: ✅ Non-Fall\n",
      "[21:11:17] Camera(0) Gyro(0) SpO2(0) → Prediction: ✅ Non-Fall\n",
      "[21:11:17] Camera(0) Gyro(0) SpO2(0) → Prediction: ✅ Non-Fall\n"
     ]
    },
    {
     "name": "stderr",
     "output_type": "stream",
     "text": [
      "c:\\Users\\HP\\Documents\\DSGP\\CM2603-Data_Science_Project-G20\\fall_venv\\Lib\\site-packages\\sklearn\\utils\\validation.py:2739: UserWarning: X does not have valid feature names, but StandardScaler was fitted with feature names\n",
      "  warnings.warn(\n",
      "c:\\Users\\HP\\Documents\\DSGP\\CM2603-Data_Science_Project-G20\\fall_venv\\Lib\\site-packages\\sklearn\\utils\\validation.py:2739: UserWarning: X does not have valid feature names, but StandardScaler was fitted with feature names\n",
      "  warnings.warn(\n",
      "c:\\Users\\HP\\Documents\\DSGP\\CM2603-Data_Science_Project-G20\\fall_venv\\Lib\\site-packages\\sklearn\\utils\\validation.py:2739: UserWarning: X does not have valid feature names, but StandardScaler was fitted with feature names\n",
      "  warnings.warn(\n"
     ]
    },
    {
     "name": "stdout",
     "output_type": "stream",
     "text": [
      "[21:11:17] Camera(0) Gyro(0) SpO2(0) → Prediction: ✅ Non-Fall\n",
      "[21:11:17] Camera(0) Gyro(0) SpO2(0) → Prediction: ✅ Non-Fall\n",
      "[21:11:17] Camera(0) Gyro(0) SpO2(0) → Prediction: ✅ Non-Fall\n"
     ]
    },
    {
     "name": "stderr",
     "output_type": "stream",
     "text": [
      "c:\\Users\\HP\\Documents\\DSGP\\CM2603-Data_Science_Project-G20\\fall_venv\\Lib\\site-packages\\sklearn\\utils\\validation.py:2739: UserWarning: X does not have valid feature names, but StandardScaler was fitted with feature names\n",
      "  warnings.warn(\n",
      "c:\\Users\\HP\\Documents\\DSGP\\CM2603-Data_Science_Project-G20\\fall_venv\\Lib\\site-packages\\sklearn\\utils\\validation.py:2739: UserWarning: X does not have valid feature names, but StandardScaler was fitted with feature names\n",
      "  warnings.warn(\n",
      "c:\\Users\\HP\\Documents\\DSGP\\CM2603-Data_Science_Project-G20\\fall_venv\\Lib\\site-packages\\sklearn\\utils\\validation.py:2739: UserWarning: X does not have valid feature names, but StandardScaler was fitted with feature names\n",
      "  warnings.warn(\n",
      "c:\\Users\\HP\\Documents\\DSGP\\CM2603-Data_Science_Project-G20\\fall_venv\\Lib\\site-packages\\sklearn\\utils\\validation.py:2739: UserWarning: X does not have valid feature names, but StandardScaler was fitted with feature names\n",
      "  warnings.warn(\n",
      "c:\\Users\\HP\\Documents\\DSGP\\CM2603-Data_Science_Project-G20\\fall_venv\\Lib\\site-packages\\sklearn\\utils\\validation.py:2739: UserWarning: X does not have valid feature names, but StandardScaler was fitted with feature names\n",
      "  warnings.warn(\n",
      "c:\\Users\\HP\\Documents\\DSGP\\CM2603-Data_Science_Project-G20\\fall_venv\\Lib\\site-packages\\sklearn\\utils\\validation.py:2739: UserWarning: X does not have valid feature names, but StandardScaler was fitted with feature names\n",
      "  warnings.warn(\n"
     ]
    },
    {
     "name": "stdout",
     "output_type": "stream",
     "text": [
      "[21:11:17] Camera(0) Gyro(0) SpO2(0) → Prediction: ✅ Non-Fall\n",
      "[21:11:17] Camera(0) Gyro(0) SpO2(0) → Prediction: ✅ Non-Fall\n"
     ]
    },
    {
     "name": "stderr",
     "output_type": "stream",
     "text": [
      "c:\\Users\\HP\\Documents\\DSGP\\CM2603-Data_Science_Project-G20\\fall_venv\\Lib\\site-packages\\sklearn\\utils\\validation.py:2739: UserWarning: X does not have valid feature names, but StandardScaler was fitted with feature names\n",
      "  warnings.warn(\n",
      "c:\\Users\\HP\\Documents\\DSGP\\CM2603-Data_Science_Project-G20\\fall_venv\\Lib\\site-packages\\sklearn\\utils\\validation.py:2739: UserWarning: X does not have valid feature names, but StandardScaler was fitted with feature names\n",
      "  warnings.warn(\n",
      "c:\\Users\\HP\\Documents\\DSGP\\CM2603-Data_Science_Project-G20\\fall_venv\\Lib\\site-packages\\sklearn\\utils\\validation.py:2739: UserWarning: X does not have valid feature names, but StandardScaler was fitted with feature names\n",
      "  warnings.warn(\n"
     ]
    },
    {
     "name": "stdout",
     "output_type": "stream",
     "text": [
      "[21:11:17] Camera(0) Gyro(1) SpO2(0) → Prediction: ✅ Non-Fall\n",
      "[21:11:17] Camera(0) Gyro(0) SpO2(0) → Prediction: ✅ Non-Fall\n",
      "[21:11:17] Camera(0) Gyro(0) SpO2(0) → Prediction: ✅ Non-Fall\n",
      "[21:11:18] Camera(0) Gyro(0) SpO2(0) → Prediction: ✅ Non-Fall\n"
     ]
    },
    {
     "name": "stderr",
     "output_type": "stream",
     "text": [
      "c:\\Users\\HP\\Documents\\DSGP\\CM2603-Data_Science_Project-G20\\fall_venv\\Lib\\site-packages\\sklearn\\utils\\validation.py:2739: UserWarning: X does not have valid feature names, but StandardScaler was fitted with feature names\n",
      "  warnings.warn(\n",
      "c:\\Users\\HP\\Documents\\DSGP\\CM2603-Data_Science_Project-G20\\fall_venv\\Lib\\site-packages\\sklearn\\utils\\validation.py:2739: UserWarning: X does not have valid feature names, but StandardScaler was fitted with feature names\n",
      "  warnings.warn(\n",
      "c:\\Users\\HP\\Documents\\DSGP\\CM2603-Data_Science_Project-G20\\fall_venv\\Lib\\site-packages\\sklearn\\utils\\validation.py:2739: UserWarning: X does not have valid feature names, but StandardScaler was fitted with feature names\n",
      "  warnings.warn(\n"
     ]
    },
    {
     "name": "stdout",
     "output_type": "stream",
     "text": [
      "[21:11:18] Camera(0) Gyro(0) SpO2(0) → Prediction: ✅ Non-Fall\n",
      "[21:11:18] Camera(0) Gyro(0) SpO2(0) → Prediction: ✅ Non-Fall\n"
     ]
    },
    {
     "name": "stderr",
     "output_type": "stream",
     "text": [
      "c:\\Users\\HP\\Documents\\DSGP\\CM2603-Data_Science_Project-G20\\fall_venv\\Lib\\site-packages\\sklearn\\utils\\validation.py:2739: UserWarning: X does not have valid feature names, but StandardScaler was fitted with feature names\n",
      "  warnings.warn(\n",
      "c:\\Users\\HP\\Documents\\DSGP\\CM2603-Data_Science_Project-G20\\fall_venv\\Lib\\site-packages\\sklearn\\utils\\validation.py:2739: UserWarning: X does not have valid feature names, but StandardScaler was fitted with feature names\n",
      "  warnings.warn(\n",
      "c:\\Users\\HP\\Documents\\DSGP\\CM2603-Data_Science_Project-G20\\fall_venv\\Lib\\site-packages\\sklearn\\utils\\validation.py:2739: UserWarning: X does not have valid feature names, but StandardScaler was fitted with feature names\n",
      "  warnings.warn(\n"
     ]
    },
    {
     "name": "stdout",
     "output_type": "stream",
     "text": [
      "[21:11:18] Camera(0) Gyro(0) SpO2(0) → Prediction: ✅ Non-Fall\n",
      "[21:11:18] Camera(0) Gyro(0) SpO2(0) → Prediction: ✅ Non-Fall\n"
     ]
    },
    {
     "name": "stderr",
     "output_type": "stream",
     "text": [
      "c:\\Users\\HP\\Documents\\DSGP\\CM2603-Data_Science_Project-G20\\fall_venv\\Lib\\site-packages\\sklearn\\utils\\validation.py:2739: UserWarning: X does not have valid feature names, but StandardScaler was fitted with feature names\n",
      "  warnings.warn(\n",
      "c:\\Users\\HP\\Documents\\DSGP\\CM2603-Data_Science_Project-G20\\fall_venv\\Lib\\site-packages\\sklearn\\utils\\validation.py:2739: UserWarning: X does not have valid feature names, but StandardScaler was fitted with feature names\n",
      "  warnings.warn(\n",
      "c:\\Users\\HP\\Documents\\DSGP\\CM2603-Data_Science_Project-G20\\fall_venv\\Lib\\site-packages\\sklearn\\utils\\validation.py:2739: UserWarning: X does not have valid feature names, but StandardScaler was fitted with feature names\n",
      "  warnings.warn(\n",
      "c:\\Users\\HP\\Documents\\DSGP\\CM2603-Data_Science_Project-G20\\fall_venv\\Lib\\site-packages\\sklearn\\utils\\validation.py:2739: UserWarning: X does not have valid feature names, but StandardScaler was fitted with feature names\n",
      "  warnings.warn(\n"
     ]
    },
    {
     "name": "stdout",
     "output_type": "stream",
     "text": [
      "[21:11:18] Camera(0) Gyro(0) SpO2(0) → Prediction: ✅ Non-Fall\n",
      "[21:11:18] Camera(0) Gyro(0) SpO2(0) → Prediction: ✅ Non-Fall\n",
      "[21:11:18] Camera(0) Gyro(0) SpO2(0) → Prediction: ✅ Non-Fall\n",
      "[21:11:18] Camera(0) Gyro(0) SpO2(0) → Prediction: ✅ Non-Fall\n",
      "[21:11:18] Camera(0) Gyro(0) SpO2(0) → Prediction: ✅ Non-Fall\n"
     ]
    },
    {
     "name": "stderr",
     "output_type": "stream",
     "text": [
      "c:\\Users\\HP\\Documents\\DSGP\\CM2603-Data_Science_Project-G20\\fall_venv\\Lib\\site-packages\\sklearn\\utils\\validation.py:2739: UserWarning: X does not have valid feature names, but StandardScaler was fitted with feature names\n",
      "  warnings.warn(\n",
      "c:\\Users\\HP\\Documents\\DSGP\\CM2603-Data_Science_Project-G20\\fall_venv\\Lib\\site-packages\\sklearn\\utils\\validation.py:2739: UserWarning: X does not have valid feature names, but StandardScaler was fitted with feature names\n",
      "  warnings.warn(\n",
      "c:\\Users\\HP\\Documents\\DSGP\\CM2603-Data_Science_Project-G20\\fall_venv\\Lib\\site-packages\\sklearn\\utils\\validation.py:2739: UserWarning: X does not have valid feature names, but StandardScaler was fitted with feature names\n",
      "  warnings.warn(\n",
      "c:\\Users\\HP\\Documents\\DSGP\\CM2603-Data_Science_Project-G20\\fall_venv\\Lib\\site-packages\\sklearn\\utils\\validation.py:2739: UserWarning: X does not have valid feature names, but StandardScaler was fitted with feature names\n",
      "  warnings.warn(\n",
      "c:\\Users\\HP\\Documents\\DSGP\\CM2603-Data_Science_Project-G20\\fall_venv\\Lib\\site-packages\\sklearn\\utils\\validation.py:2739: UserWarning: X does not have valid feature names, but StandardScaler was fitted with feature names\n",
      "  warnings.warn(\n",
      "c:\\Users\\HP\\Documents\\DSGP\\CM2603-Data_Science_Project-G20\\fall_venv\\Lib\\site-packages\\sklearn\\utils\\validation.py:2739: UserWarning: X does not have valid feature names, but StandardScaler was fitted with feature names\n",
      "  warnings.warn(\n"
     ]
    },
    {
     "name": "stdout",
     "output_type": "stream",
     "text": [
      "[21:11:19] Camera(0) Gyro(0) SpO2(0) → Prediction: ✅ Non-Fall\n",
      "[21:11:19] Camera(0) Gyro(0) SpO2(0) → Prediction: ✅ Non-Fall\n",
      "[21:11:19] Camera(0) Gyro(0) SpO2(0) → Prediction: ✅ Non-Fall\n"
     ]
    },
    {
     "name": "stderr",
     "output_type": "stream",
     "text": [
      "c:\\Users\\HP\\Documents\\DSGP\\CM2603-Data_Science_Project-G20\\fall_venv\\Lib\\site-packages\\sklearn\\utils\\validation.py:2739: UserWarning: X does not have valid feature names, but StandardScaler was fitted with feature names\n",
      "  warnings.warn(\n",
      "c:\\Users\\HP\\Documents\\DSGP\\CM2603-Data_Science_Project-G20\\fall_venv\\Lib\\site-packages\\sklearn\\utils\\validation.py:2739: UserWarning: X does not have valid feature names, but StandardScaler was fitted with feature names\n",
      "  warnings.warn(\n",
      "c:\\Users\\HP\\Documents\\DSGP\\CM2603-Data_Science_Project-G20\\fall_venv\\Lib\\site-packages\\sklearn\\utils\\validation.py:2739: UserWarning: X does not have valid feature names, but StandardScaler was fitted with feature names\n",
      "  warnings.warn(\n"
     ]
    },
    {
     "name": "stdout",
     "output_type": "stream",
     "text": [
      "[21:11:19] Camera(0) Gyro(0) SpO2(0) → Prediction: ✅ Non-Fall\n",
      "[21:11:19] Camera(0) Gyro(0) SpO2(0) → Prediction: ✅ Non-Fall\n",
      "[21:11:19] Camera(0) Gyro(0) SpO2(0) → Prediction: ✅ Non-Fall\n"
     ]
    },
    {
     "name": "stderr",
     "output_type": "stream",
     "text": [
      "c:\\Users\\HP\\Documents\\DSGP\\CM2603-Data_Science_Project-G20\\fall_venv\\Lib\\site-packages\\sklearn\\utils\\validation.py:2739: UserWarning: X does not have valid feature names, but StandardScaler was fitted with feature names\n",
      "  warnings.warn(\n",
      "c:\\Users\\HP\\Documents\\DSGP\\CM2603-Data_Science_Project-G20\\fall_venv\\Lib\\site-packages\\sklearn\\utils\\validation.py:2739: UserWarning: X does not have valid feature names, but StandardScaler was fitted with feature names\n",
      "  warnings.warn(\n",
      "c:\\Users\\HP\\Documents\\DSGP\\CM2603-Data_Science_Project-G20\\fall_venv\\Lib\\site-packages\\sklearn\\utils\\validation.py:2739: UserWarning: X does not have valid feature names, but StandardScaler was fitted with feature names\n",
      "  warnings.warn(\n",
      "c:\\Users\\HP\\Documents\\DSGP\\CM2603-Data_Science_Project-G20\\fall_venv\\Lib\\site-packages\\sklearn\\utils\\validation.py:2739: UserWarning: X does not have valid feature names, but StandardScaler was fitted with feature names\n",
      "  warnings.warn(\n"
     ]
    },
    {
     "name": "stdout",
     "output_type": "stream",
     "text": [
      "[21:11:19] Camera(0) Gyro(0) SpO2(0) → Prediction: ✅ Non-Fall\n",
      "[21:11:19] Camera(0) Gyro(0) SpO2(0) → Prediction: ✅ Non-Fall\n",
      "[21:11:19] Camera(0) Gyro(0) SpO2(0) → Prediction: ✅ Non-Fall\n"
     ]
    },
    {
     "name": "stderr",
     "output_type": "stream",
     "text": [
      "c:\\Users\\HP\\Documents\\DSGP\\CM2603-Data_Science_Project-G20\\fall_venv\\Lib\\site-packages\\sklearn\\utils\\validation.py:2739: UserWarning: X does not have valid feature names, but StandardScaler was fitted with feature names\n",
      "  warnings.warn(\n",
      "c:\\Users\\HP\\Documents\\DSGP\\CM2603-Data_Science_Project-G20\\fall_venv\\Lib\\site-packages\\sklearn\\utils\\validation.py:2739: UserWarning: X does not have valid feature names, but StandardScaler was fitted with feature names\n",
      "  warnings.warn(\n",
      "c:\\Users\\HP\\Documents\\DSGP\\CM2603-Data_Science_Project-G20\\fall_venv\\Lib\\site-packages\\sklearn\\utils\\validation.py:2739: UserWarning: X does not have valid feature names, but StandardScaler was fitted with feature names\n",
      "  warnings.warn(\n"
     ]
    },
    {
     "name": "stdout",
     "output_type": "stream",
     "text": [
      "[21:11:19] Camera(0) Gyro(0) SpO2(0) → Prediction: ✅ Non-Fall\n",
      "[21:11:20] Camera(0) Gyro(0) SpO2(0) → Prediction: ✅ Non-Fall\n"
     ]
    },
    {
     "name": "stderr",
     "output_type": "stream",
     "text": [
      "c:\\Users\\HP\\Documents\\DSGP\\CM2603-Data_Science_Project-G20\\fall_venv\\Lib\\site-packages\\sklearn\\utils\\validation.py:2739: UserWarning: X does not have valid feature names, but StandardScaler was fitted with feature names\n",
      "  warnings.warn(\n",
      "c:\\Users\\HP\\Documents\\DSGP\\CM2603-Data_Science_Project-G20\\fall_venv\\Lib\\site-packages\\sklearn\\utils\\validation.py:2739: UserWarning: X does not have valid feature names, but StandardScaler was fitted with feature names\n",
      "  warnings.warn(\n",
      "c:\\Users\\HP\\Documents\\DSGP\\CM2603-Data_Science_Project-G20\\fall_venv\\Lib\\site-packages\\sklearn\\utils\\validation.py:2739: UserWarning: X does not have valid feature names, but StandardScaler was fitted with feature names\n",
      "  warnings.warn(\n"
     ]
    },
    {
     "name": "stdout",
     "output_type": "stream",
     "text": [
      "[21:11:20] Camera(0) Gyro(0) SpO2(0) → Prediction: ✅ Non-Fall\n",
      "[21:11:20] Camera(0) Gyro(0) SpO2(0) → Prediction: ✅ Non-Fall\n",
      "[21:11:20] Camera(0) Gyro(0) SpO2(0) → Prediction: ✅ Non-Fall\n"
     ]
    },
    {
     "name": "stderr",
     "output_type": "stream",
     "text": [
      "c:\\Users\\HP\\Documents\\DSGP\\CM2603-Data_Science_Project-G20\\fall_venv\\Lib\\site-packages\\sklearn\\utils\\validation.py:2739: UserWarning: X does not have valid feature names, but StandardScaler was fitted with feature names\n",
      "  warnings.warn(\n",
      "c:\\Users\\HP\\Documents\\DSGP\\CM2603-Data_Science_Project-G20\\fall_venv\\Lib\\site-packages\\sklearn\\utils\\validation.py:2739: UserWarning: X does not have valid feature names, but StandardScaler was fitted with feature names\n",
      "  warnings.warn(\n",
      "c:\\Users\\HP\\Documents\\DSGP\\CM2603-Data_Science_Project-G20\\fall_venv\\Lib\\site-packages\\sklearn\\utils\\validation.py:2739: UserWarning: X does not have valid feature names, but StandardScaler was fitted with feature names\n",
      "  warnings.warn(\n"
     ]
    },
    {
     "name": "stdout",
     "output_type": "stream",
     "text": [
      "[21:11:20] Camera(0) Gyro(1) SpO2(0) → Prediction: ✅ Non-Fall\n",
      "[21:11:20] Camera(0) Gyro(0) SpO2(0) → Prediction: ✅ Non-Fall\n",
      "[21:11:20] Camera(0) Gyro(0) SpO2(0) → Prediction: ✅ Non-Fall\n"
     ]
    },
    {
     "name": "stderr",
     "output_type": "stream",
     "text": [
      "c:\\Users\\HP\\Documents\\DSGP\\CM2603-Data_Science_Project-G20\\fall_venv\\Lib\\site-packages\\sklearn\\utils\\validation.py:2739: UserWarning: X does not have valid feature names, but StandardScaler was fitted with feature names\n",
      "  warnings.warn(\n",
      "c:\\Users\\HP\\Documents\\DSGP\\CM2603-Data_Science_Project-G20\\fall_venv\\Lib\\site-packages\\sklearn\\utils\\validation.py:2739: UserWarning: X does not have valid feature names, but StandardScaler was fitted with feature names\n",
      "  warnings.warn(\n",
      "c:\\Users\\HP\\Documents\\DSGP\\CM2603-Data_Science_Project-G20\\fall_venv\\Lib\\site-packages\\sklearn\\utils\\validation.py:2739: UserWarning: X does not have valid feature names, but StandardScaler was fitted with feature names\n",
      "  warnings.warn(\n",
      "c:\\Users\\HP\\Documents\\DSGP\\CM2603-Data_Science_Project-G20\\fall_venv\\Lib\\site-packages\\sklearn\\utils\\validation.py:2739: UserWarning: X does not have valid feature names, but StandardScaler was fitted with feature names\n",
      "  warnings.warn(\n",
      "c:\\Users\\HP\\Documents\\DSGP\\CM2603-Data_Science_Project-G20\\fall_venv\\Lib\\site-packages\\sklearn\\utils\\validation.py:2739: UserWarning: X does not have valid feature names, but StandardScaler was fitted with feature names\n",
      "  warnings.warn(\n",
      "c:\\Users\\HP\\Documents\\DSGP\\CM2603-Data_Science_Project-G20\\fall_venv\\Lib\\site-packages\\sklearn\\utils\\validation.py:2739: UserWarning: X does not have valid feature names, but StandardScaler was fitted with feature names\n",
      "  warnings.warn(\n"
     ]
    },
    {
     "name": "stdout",
     "output_type": "stream",
     "text": [
      "[21:11:20] Camera(0) Gyro(0) SpO2(0) → Prediction: ✅ Non-Fall\n",
      "[21:11:20] Camera(0) Gyro(1) SpO2(0) → Prediction: ✅ Non-Fall\n",
      "[21:11:21] Camera(0) Gyro(0) SpO2(0) → Prediction: ✅ Non-Fall\n",
      "[21:11:21] Camera(0) Gyro(0) SpO2(0) → Prediction: ✅ Non-Fall\n",
      "[21:11:21] Camera(0) Gyro(0) SpO2(0) → Prediction: ✅ Non-Fall\n"
     ]
    },
    {
     "name": "stderr",
     "output_type": "stream",
     "text": [
      "c:\\Users\\HP\\Documents\\DSGP\\CM2603-Data_Science_Project-G20\\fall_venv\\Lib\\site-packages\\sklearn\\utils\\validation.py:2739: UserWarning: X does not have valid feature names, but StandardScaler was fitted with feature names\n",
      "  warnings.warn(\n",
      "c:\\Users\\HP\\Documents\\DSGP\\CM2603-Data_Science_Project-G20\\fall_venv\\Lib\\site-packages\\sklearn\\utils\\validation.py:2739: UserWarning: X does not have valid feature names, but StandardScaler was fitted with feature names\n",
      "  warnings.warn(\n",
      "c:\\Users\\HP\\Documents\\DSGP\\CM2603-Data_Science_Project-G20\\fall_venv\\Lib\\site-packages\\sklearn\\utils\\validation.py:2739: UserWarning: X does not have valid feature names, but StandardScaler was fitted with feature names\n",
      "  warnings.warn(\n",
      "c:\\Users\\HP\\Documents\\DSGP\\CM2603-Data_Science_Project-G20\\fall_venv\\Lib\\site-packages\\sklearn\\utils\\validation.py:2739: UserWarning: X does not have valid feature names, but StandardScaler was fitted with feature names\n",
      "  warnings.warn(\n",
      "c:\\Users\\HP\\Documents\\DSGP\\CM2603-Data_Science_Project-G20\\fall_venv\\Lib\\site-packages\\sklearn\\utils\\validation.py:2739: UserWarning: X does not have valid feature names, but StandardScaler was fitted with feature names\n",
      "  warnings.warn(\n",
      "c:\\Users\\HP\\Documents\\DSGP\\CM2603-Data_Science_Project-G20\\fall_venv\\Lib\\site-packages\\sklearn\\utils\\validation.py:2739: UserWarning: X does not have valid feature names, but StandardScaler was fitted with feature names\n",
      "  warnings.warn(\n",
      "c:\\Users\\HP\\Documents\\DSGP\\CM2603-Data_Science_Project-G20\\fall_venv\\Lib\\site-packages\\sklearn\\utils\\validation.py:2739: UserWarning: X does not have valid feature names, but StandardScaler was fitted with feature names\n",
      "  warnings.warn(\n"
     ]
    },
    {
     "name": "stdout",
     "output_type": "stream",
     "text": [
      "[21:11:21] Camera(0) Gyro(0) SpO2(0) → Prediction: ✅ Non-Fall\n",
      "[21:11:21] Camera(0) Gyro(0) SpO2(0) → Prediction: ✅ Non-Fall\n",
      "[21:11:21] Camera(0) Gyro(0) SpO2(0) → Prediction: ✅ Non-Fall\n",
      "[21:11:21] Camera(0) Gyro(0) SpO2(0) → Prediction: ✅ Non-Fall\n",
      "[21:11:21] Camera(0) Gyro(0) SpO2(0) → Prediction: ✅ Non-Fall\n"
     ]
    },
    {
     "name": "stderr",
     "output_type": "stream",
     "text": [
      "c:\\Users\\HP\\Documents\\DSGP\\CM2603-Data_Science_Project-G20\\fall_venv\\Lib\\site-packages\\sklearn\\utils\\validation.py:2739: UserWarning: X does not have valid feature names, but StandardScaler was fitted with feature names\n",
      "  warnings.warn(\n",
      "c:\\Users\\HP\\Documents\\DSGP\\CM2603-Data_Science_Project-G20\\fall_venv\\Lib\\site-packages\\sklearn\\utils\\validation.py:2739: UserWarning: X does not have valid feature names, but StandardScaler was fitted with feature names\n",
      "  warnings.warn(\n",
      "c:\\Users\\HP\\Documents\\DSGP\\CM2603-Data_Science_Project-G20\\fall_venv\\Lib\\site-packages\\sklearn\\utils\\validation.py:2739: UserWarning: X does not have valid feature names, but StandardScaler was fitted with feature names\n",
      "  warnings.warn(\n",
      "c:\\Users\\HP\\Documents\\DSGP\\CM2603-Data_Science_Project-G20\\fall_venv\\Lib\\site-packages\\sklearn\\utils\\validation.py:2739: UserWarning: X does not have valid feature names, but StandardScaler was fitted with feature names\n",
      "  warnings.warn(\n",
      "c:\\Users\\HP\\Documents\\DSGP\\CM2603-Data_Science_Project-G20\\fall_venv\\Lib\\site-packages\\sklearn\\utils\\validation.py:2739: UserWarning: X does not have valid feature names, but StandardScaler was fitted with feature names\n",
      "  warnings.warn(\n",
      "c:\\Users\\HP\\Documents\\DSGP\\CM2603-Data_Science_Project-G20\\fall_venv\\Lib\\site-packages\\sklearn\\utils\\validation.py:2739: UserWarning: X does not have valid feature names, but StandardScaler was fitted with feature names\n",
      "  warnings.warn(\n"
     ]
    },
    {
     "name": "stdout",
     "output_type": "stream",
     "text": [
      "[21:11:21] Camera(0) Gyro(0) SpO2(0) → Prediction: ✅ Non-Fall\n",
      "[21:11:21] Camera(0) Gyro(0) SpO2(0) → Prediction: ✅ Non-Fall\n",
      "[21:11:22] Camera(0) Gyro(0) SpO2(0) → Prediction: ✅ Non-Fall\n",
      "[21:11:22] Camera(0) Gyro(0) SpO2(0) → Prediction: ✅ Non-Fall\n"
     ]
    },
    {
     "name": "stderr",
     "output_type": "stream",
     "text": [
      "c:\\Users\\HP\\Documents\\DSGP\\CM2603-Data_Science_Project-G20\\fall_venv\\Lib\\site-packages\\sklearn\\utils\\validation.py:2739: UserWarning: X does not have valid feature names, but StandardScaler was fitted with feature names\n",
      "  warnings.warn(\n",
      "c:\\Users\\HP\\Documents\\DSGP\\CM2603-Data_Science_Project-G20\\fall_venv\\Lib\\site-packages\\sklearn\\utils\\validation.py:2739: UserWarning: X does not have valid feature names, but StandardScaler was fitted with feature names\n",
      "  warnings.warn(\n",
      "c:\\Users\\HP\\Documents\\DSGP\\CM2603-Data_Science_Project-G20\\fall_venv\\Lib\\site-packages\\sklearn\\utils\\validation.py:2739: UserWarning: X does not have valid feature names, but StandardScaler was fitted with feature names\n",
      "  warnings.warn(\n",
      "c:\\Users\\HP\\Documents\\DSGP\\CM2603-Data_Science_Project-G20\\fall_venv\\Lib\\site-packages\\sklearn\\utils\\validation.py:2739: UserWarning: X does not have valid feature names, but StandardScaler was fitted with feature names\n",
      "  warnings.warn(\n"
     ]
    },
    {
     "name": "stdout",
     "output_type": "stream",
     "text": [
      "[21:11:22] Camera(0) Gyro(0) SpO2(0) → Prediction: ✅ Non-Fall\n",
      "[21:11:22] Camera(0) Gyro(0) SpO2(0) → Prediction: ✅ Non-Fall\n",
      "[21:11:22] Camera(0) Gyro(0) SpO2(0) → Prediction: ✅ Non-Fall\n"
     ]
    },
    {
     "name": "stderr",
     "output_type": "stream",
     "text": [
      "c:\\Users\\HP\\Documents\\DSGP\\CM2603-Data_Science_Project-G20\\fall_venv\\Lib\\site-packages\\sklearn\\utils\\validation.py:2739: UserWarning: X does not have valid feature names, but StandardScaler was fitted with feature names\n",
      "  warnings.warn(\n",
      "c:\\Users\\HP\\Documents\\DSGP\\CM2603-Data_Science_Project-G20\\fall_venv\\Lib\\site-packages\\sklearn\\utils\\validation.py:2739: UserWarning: X does not have valid feature names, but StandardScaler was fitted with feature names\n",
      "  warnings.warn(\n",
      "c:\\Users\\HP\\Documents\\DSGP\\CM2603-Data_Science_Project-G20\\fall_venv\\Lib\\site-packages\\sklearn\\utils\\validation.py:2739: UserWarning: X does not have valid feature names, but StandardScaler was fitted with feature names\n",
      "  warnings.warn(\n"
     ]
    },
    {
     "name": "stdout",
     "output_type": "stream",
     "text": [
      "[21:11:22] Camera(0) Gyro(0) SpO2(0) → Prediction: ✅ Non-Fall\n",
      "[21:11:22] Camera(0) Gyro(0) SpO2(0) → Prediction: ✅ Non-Fall\n"
     ]
    },
    {
     "name": "stderr",
     "output_type": "stream",
     "text": [
      "c:\\Users\\HP\\Documents\\DSGP\\CM2603-Data_Science_Project-G20\\fall_venv\\Lib\\site-packages\\sklearn\\utils\\validation.py:2739: UserWarning: X does not have valid feature names, but StandardScaler was fitted with feature names\n",
      "  warnings.warn(\n",
      "c:\\Users\\HP\\Documents\\DSGP\\CM2603-Data_Science_Project-G20\\fall_venv\\Lib\\site-packages\\sklearn\\utils\\validation.py:2739: UserWarning: X does not have valid feature names, but StandardScaler was fitted with feature names\n",
      "  warnings.warn(\n",
      "c:\\Users\\HP\\Documents\\DSGP\\CM2603-Data_Science_Project-G20\\fall_venv\\Lib\\site-packages\\sklearn\\utils\\validation.py:2739: UserWarning: X does not have valid feature names, but StandardScaler was fitted with feature names\n",
      "  warnings.warn(\n"
     ]
    },
    {
     "name": "stdout",
     "output_type": "stream",
     "text": [
      "[21:11:22] Camera(0) Gyro(0) SpO2(0) → Prediction: ✅ Non-Fall\n",
      "[21:11:22] Camera(0) Gyro(0) SpO2(0) → Prediction: ✅ Non-Fall\n",
      "[21:11:22] Camera(0) Gyro(0) SpO2(0) → Prediction: ✅ Non-Fall\n"
     ]
    },
    {
     "name": "stderr",
     "output_type": "stream",
     "text": [
      "c:\\Users\\HP\\Documents\\DSGP\\CM2603-Data_Science_Project-G20\\fall_venv\\Lib\\site-packages\\sklearn\\utils\\validation.py:2739: UserWarning: X does not have valid feature names, but StandardScaler was fitted with feature names\n",
      "  warnings.warn(\n",
      "c:\\Users\\HP\\Documents\\DSGP\\CM2603-Data_Science_Project-G20\\fall_venv\\Lib\\site-packages\\sklearn\\utils\\validation.py:2739: UserWarning: X does not have valid feature names, but StandardScaler was fitted with feature names\n",
      "  warnings.warn(\n",
      "c:\\Users\\HP\\Documents\\DSGP\\CM2603-Data_Science_Project-G20\\fall_venv\\Lib\\site-packages\\sklearn\\utils\\validation.py:2739: UserWarning: X does not have valid feature names, but StandardScaler was fitted with feature names\n",
      "  warnings.warn(\n",
      "c:\\Users\\HP\\Documents\\DSGP\\CM2603-Data_Science_Project-G20\\fall_venv\\Lib\\site-packages\\sklearn\\utils\\validation.py:2739: UserWarning: X does not have valid feature names, but StandardScaler was fitted with feature names\n",
      "  warnings.warn(\n",
      "c:\\Users\\HP\\Documents\\DSGP\\CM2603-Data_Science_Project-G20\\fall_venv\\Lib\\site-packages\\sklearn\\utils\\validation.py:2739: UserWarning: X does not have valid feature names, but StandardScaler was fitted with feature names\n",
      "  warnings.warn(\n",
      "c:\\Users\\HP\\Documents\\DSGP\\CM2603-Data_Science_Project-G20\\fall_venv\\Lib\\site-packages\\sklearn\\utils\\validation.py:2739: UserWarning: X does not have valid feature names, but StandardScaler was fitted with feature names\n",
      "  warnings.warn(\n",
      "c:\\Users\\HP\\Documents\\DSGP\\CM2603-Data_Science_Project-G20\\fall_venv\\Lib\\site-packages\\sklearn\\utils\\validation.py:2739: UserWarning: X does not have valid feature names, but StandardScaler was fitted with feature names\n",
      "  warnings.warn(\n"
     ]
    },
    {
     "name": "stdout",
     "output_type": "stream",
     "text": [
      "[21:11:23] Camera(0) Gyro(0) SpO2(0) → Prediction: ✅ Non-Fall\n",
      "[21:11:23] Camera(0) Gyro(0) SpO2(0) → Prediction: ✅ Non-Fall\n",
      "[21:11:23] Camera(0) Gyro(0) SpO2(0) → Prediction: ✅ Non-Fall\n",
      "[21:11:23] Camera(0) Gyro(0) SpO2(0) → Prediction: ✅ Non-Fall\n",
      "[21:11:23] Camera(0) Gyro(0) SpO2(0) → Prediction: ✅ Non-Fall\n"
     ]
    },
    {
     "name": "stderr",
     "output_type": "stream",
     "text": [
      "c:\\Users\\HP\\Documents\\DSGP\\CM2603-Data_Science_Project-G20\\fall_venv\\Lib\\site-packages\\sklearn\\utils\\validation.py:2739: UserWarning: X does not have valid feature names, but StandardScaler was fitted with feature names\n",
      "  warnings.warn(\n",
      "c:\\Users\\HP\\Documents\\DSGP\\CM2603-Data_Science_Project-G20\\fall_venv\\Lib\\site-packages\\sklearn\\utils\\validation.py:2739: UserWarning: X does not have valid feature names, but StandardScaler was fitted with feature names\n",
      "  warnings.warn(\n",
      "c:\\Users\\HP\\Documents\\DSGP\\CM2603-Data_Science_Project-G20\\fall_venv\\Lib\\site-packages\\sklearn\\utils\\validation.py:2739: UserWarning: X does not have valid feature names, but StandardScaler was fitted with feature names\n",
      "  warnings.warn(\n"
     ]
    },
    {
     "name": "stdout",
     "output_type": "stream",
     "text": [
      "[21:11:23] Camera(0) Gyro(0) SpO2(0) → Prediction: ✅ Non-Fall\n",
      "[21:11:23] Camera(0) Gyro(0) SpO2(0) → Prediction: ✅ Non-Fall\n",
      "[21:11:23] Camera(0) Gyro(0) SpO2(0) → Prediction: ✅ Non-Fall\n"
     ]
    },
    {
     "name": "stderr",
     "output_type": "stream",
     "text": [
      "c:\\Users\\HP\\Documents\\DSGP\\CM2603-Data_Science_Project-G20\\fall_venv\\Lib\\site-packages\\sklearn\\utils\\validation.py:2739: UserWarning: X does not have valid feature names, but StandardScaler was fitted with feature names\n",
      "  warnings.warn(\n",
      "c:\\Users\\HP\\Documents\\DSGP\\CM2603-Data_Science_Project-G20\\fall_venv\\Lib\\site-packages\\sklearn\\utils\\validation.py:2739: UserWarning: X does not have valid feature names, but StandardScaler was fitted with feature names\n",
      "  warnings.warn(\n",
      "c:\\Users\\HP\\Documents\\DSGP\\CM2603-Data_Science_Project-G20\\fall_venv\\Lib\\site-packages\\sklearn\\utils\\validation.py:2739: UserWarning: X does not have valid feature names, but StandardScaler was fitted with feature names\n",
      "  warnings.warn(\n",
      "c:\\Users\\HP\\Documents\\DSGP\\CM2603-Data_Science_Project-G20\\fall_venv\\Lib\\site-packages\\sklearn\\utils\\validation.py:2739: UserWarning: X does not have valid feature names, but StandardScaler was fitted with feature names\n",
      "  warnings.warn(\n",
      "c:\\Users\\HP\\Documents\\DSGP\\CM2603-Data_Science_Project-G20\\fall_venv\\Lib\\site-packages\\sklearn\\utils\\validation.py:2739: UserWarning: X does not have valid feature names, but StandardScaler was fitted with feature names\n",
      "  warnings.warn(\n",
      "c:\\Users\\HP\\Documents\\DSGP\\CM2603-Data_Science_Project-G20\\fall_venv\\Lib\\site-packages\\sklearn\\utils\\validation.py:2739: UserWarning: X does not have valid feature names, but StandardScaler was fitted with feature names\n",
      "  warnings.warn(\n"
     ]
    },
    {
     "name": "stdout",
     "output_type": "stream",
     "text": [
      "[21:11:23] Camera(0) Gyro(0) SpO2(0) → Prediction: ✅ Non-Fall\n",
      "[21:11:23] Camera(0) Gyro(0) SpO2(0) → Prediction: ✅ Non-Fall\n",
      "[21:11:24] Camera(0) Gyro(0) SpO2(0) → Prediction: ✅ Non-Fall\n"
     ]
    },
    {
     "name": "stderr",
     "output_type": "stream",
     "text": [
      "c:\\Users\\HP\\Documents\\DSGP\\CM2603-Data_Science_Project-G20\\fall_venv\\Lib\\site-packages\\sklearn\\utils\\validation.py:2739: UserWarning: X does not have valid feature names, but StandardScaler was fitted with feature names\n",
      "  warnings.warn(\n",
      "c:\\Users\\HP\\Documents\\DSGP\\CM2603-Data_Science_Project-G20\\fall_venv\\Lib\\site-packages\\sklearn\\utils\\validation.py:2739: UserWarning: X does not have valid feature names, but StandardScaler was fitted with feature names\n",
      "  warnings.warn(\n",
      "c:\\Users\\HP\\Documents\\DSGP\\CM2603-Data_Science_Project-G20\\fall_venv\\Lib\\site-packages\\sklearn\\utils\\validation.py:2739: UserWarning: X does not have valid feature names, but StandardScaler was fitted with feature names\n",
      "  warnings.warn(\n"
     ]
    },
    {
     "name": "stdout",
     "output_type": "stream",
     "text": [
      "[21:11:24] Camera(0) Gyro(0) SpO2(0) → Prediction: ✅ Non-Fall\n",
      "[21:11:24] Camera(0) Gyro(0) SpO2(0) → Prediction: ✅ Non-Fall\n",
      "[21:11:24] Camera(0) Gyro(0) SpO2(0) → Prediction: ✅ Non-Fall\n"
     ]
    },
    {
     "name": "stderr",
     "output_type": "stream",
     "text": [
      "c:\\Users\\HP\\Documents\\DSGP\\CM2603-Data_Science_Project-G20\\fall_venv\\Lib\\site-packages\\sklearn\\utils\\validation.py:2739: UserWarning: X does not have valid feature names, but StandardScaler was fitted with feature names\n",
      "  warnings.warn(\n",
      "c:\\Users\\HP\\Documents\\DSGP\\CM2603-Data_Science_Project-G20\\fall_venv\\Lib\\site-packages\\sklearn\\utils\\validation.py:2739: UserWarning: X does not have valid feature names, but StandardScaler was fitted with feature names\n",
      "  warnings.warn(\n"
     ]
    },
    {
     "name": "stdout",
     "output_type": "stream",
     "text": [
      "[21:11:24] Camera(0) Gyro(0) SpO2(0) → Prediction: ✅ Non-Fall\n",
      "[21:11:24] Camera(0) Gyro(0) SpO2(0) → Prediction: ✅ Non-Fall\n"
     ]
    },
    {
     "name": "stderr",
     "output_type": "stream",
     "text": [
      "c:\\Users\\HP\\Documents\\DSGP\\CM2603-Data_Science_Project-G20\\fall_venv\\Lib\\site-packages\\sklearn\\utils\\validation.py:2739: UserWarning: X does not have valid feature names, but StandardScaler was fitted with feature names\n",
      "  warnings.warn(\n",
      "c:\\Users\\HP\\Documents\\DSGP\\CM2603-Data_Science_Project-G20\\fall_venv\\Lib\\site-packages\\sklearn\\utils\\validation.py:2739: UserWarning: X does not have valid feature names, but StandardScaler was fitted with feature names\n",
      "  warnings.warn(\n",
      "c:\\Users\\HP\\Documents\\DSGP\\CM2603-Data_Science_Project-G20\\fall_venv\\Lib\\site-packages\\sklearn\\utils\\validation.py:2739: UserWarning: X does not have valid feature names, but StandardScaler was fitted with feature names\n",
      "  warnings.warn(\n"
     ]
    },
    {
     "name": "stdout",
     "output_type": "stream",
     "text": [
      "[21:11:24] Camera(0) Gyro(0) SpO2(0) → Prediction: ✅ Non-Fall\n",
      "[21:11:24] Camera(0) Gyro(0) SpO2(0) → Prediction: ✅ Non-Fall\n",
      "[21:11:24] Camera(0) Gyro(0) SpO2(0) → Prediction: ✅ Non-Fall\n"
     ]
    },
    {
     "name": "stderr",
     "output_type": "stream",
     "text": [
      "c:\\Users\\HP\\Documents\\DSGP\\CM2603-Data_Science_Project-G20\\fall_venv\\Lib\\site-packages\\sklearn\\utils\\validation.py:2739: UserWarning: X does not have valid feature names, but StandardScaler was fitted with feature names\n",
      "  warnings.warn(\n",
      "c:\\Users\\HP\\Documents\\DSGP\\CM2603-Data_Science_Project-G20\\fall_venv\\Lib\\site-packages\\sklearn\\utils\\validation.py:2739: UserWarning: X does not have valid feature names, but StandardScaler was fitted with feature names\n",
      "  warnings.warn(\n",
      "c:\\Users\\HP\\Documents\\DSGP\\CM2603-Data_Science_Project-G20\\fall_venv\\Lib\\site-packages\\sklearn\\utils\\validation.py:2739: UserWarning: X does not have valid feature names, but StandardScaler was fitted with feature names\n",
      "  warnings.warn(\n"
     ]
    },
    {
     "name": "stdout",
     "output_type": "stream",
     "text": [
      "[21:11:25] Camera(0) Gyro(0) SpO2(0) → Prediction: ✅ Non-Fall\n",
      "[21:11:25] Camera(0) Gyro(0) SpO2(0) → Prediction: ✅ Non-Fall\n",
      "[21:11:25] Camera(0) Gyro(0) SpO2(0) → Prediction: ✅ Non-Fall\n"
     ]
    },
    {
     "name": "stderr",
     "output_type": "stream",
     "text": [
      "c:\\Users\\HP\\Documents\\DSGP\\CM2603-Data_Science_Project-G20\\fall_venv\\Lib\\site-packages\\sklearn\\utils\\validation.py:2739: UserWarning: X does not have valid feature names, but StandardScaler was fitted with feature names\n",
      "  warnings.warn(\n",
      "c:\\Users\\HP\\Documents\\DSGP\\CM2603-Data_Science_Project-G20\\fall_venv\\Lib\\site-packages\\sklearn\\utils\\validation.py:2739: UserWarning: X does not have valid feature names, but StandardScaler was fitted with feature names\n",
      "  warnings.warn(\n",
      "c:\\Users\\HP\\Documents\\DSGP\\CM2603-Data_Science_Project-G20\\fall_venv\\Lib\\site-packages\\sklearn\\utils\\validation.py:2739: UserWarning: X does not have valid feature names, but StandardScaler was fitted with feature names\n",
      "  warnings.warn(\n"
     ]
    },
    {
     "name": "stdout",
     "output_type": "stream",
     "text": [
      "[21:11:25] Camera(0) Gyro(0) SpO2(0) → Prediction: ✅ Non-Fall\n",
      "[21:11:25] Camera(0) Gyro(1) SpO2(0) → Prediction: ✅ Non-Fall\n"
     ]
    },
    {
     "name": "stderr",
     "output_type": "stream",
     "text": [
      "c:\\Users\\HP\\Documents\\DSGP\\CM2603-Data_Science_Project-G20\\fall_venv\\Lib\\site-packages\\sklearn\\utils\\validation.py:2739: UserWarning: X does not have valid feature names, but StandardScaler was fitted with feature names\n",
      "  warnings.warn(\n",
      "c:\\Users\\HP\\Documents\\DSGP\\CM2603-Data_Science_Project-G20\\fall_venv\\Lib\\site-packages\\sklearn\\utils\\validation.py:2739: UserWarning: X does not have valid feature names, but StandardScaler was fitted with feature names\n",
      "  warnings.warn(\n",
      "c:\\Users\\HP\\Documents\\DSGP\\CM2603-Data_Science_Project-G20\\fall_venv\\Lib\\site-packages\\sklearn\\utils\\validation.py:2739: UserWarning: X does not have valid feature names, but StandardScaler was fitted with feature names\n",
      "  warnings.warn(\n"
     ]
    },
    {
     "name": "stdout",
     "output_type": "stream",
     "text": [
      "[21:11:25] Camera(0) Gyro(0) SpO2(0) → Prediction: ✅ Non-Fall\n",
      "[21:11:25] Camera(0) Gyro(0) SpO2(0) → Prediction: ✅ Non-Fall\n"
     ]
    },
    {
     "name": "stderr",
     "output_type": "stream",
     "text": [
      "c:\\Users\\HP\\Documents\\DSGP\\CM2603-Data_Science_Project-G20\\fall_venv\\Lib\\site-packages\\sklearn\\utils\\validation.py:2739: UserWarning: X does not have valid feature names, but StandardScaler was fitted with feature names\n",
      "  warnings.warn(\n",
      "c:\\Users\\HP\\Documents\\DSGP\\CM2603-Data_Science_Project-G20\\fall_venv\\Lib\\site-packages\\sklearn\\utils\\validation.py:2739: UserWarning: X does not have valid feature names, but StandardScaler was fitted with feature names\n",
      "  warnings.warn(\n",
      "c:\\Users\\HP\\Documents\\DSGP\\CM2603-Data_Science_Project-G20\\fall_venv\\Lib\\site-packages\\sklearn\\utils\\validation.py:2739: UserWarning: X does not have valid feature names, but StandardScaler was fitted with feature names\n",
      "  warnings.warn(\n"
     ]
    },
    {
     "name": "stdout",
     "output_type": "stream",
     "text": [
      "[21:11:25] Camera(0) Gyro(0) SpO2(0) → Prediction: ✅ Non-Fall\n",
      "[21:11:25] Camera(0) Gyro(0) SpO2(0) → Prediction: ✅ Non-Fall\n",
      "[21:11:25] Camera(0) Gyro(0) SpO2(0) → Prediction: ✅ Non-Fall\n",
      "[21:11:26] Camera(0) Gyro(0) SpO2(0) → Prediction: ✅ Non-Fall\n",
      "[21:11:26] Camera(0) Gyro(0) SpO2(0) → Prediction: ✅ Non-Fall\n"
     ]
    },
    {
     "name": "stderr",
     "output_type": "stream",
     "text": [
      "c:\\Users\\HP\\Documents\\DSGP\\CM2603-Data_Science_Project-G20\\fall_venv\\Lib\\site-packages\\sklearn\\utils\\validation.py:2739: UserWarning: X does not have valid feature names, but StandardScaler was fitted with feature names\n",
      "  warnings.warn(\n",
      "c:\\Users\\HP\\Documents\\DSGP\\CM2603-Data_Science_Project-G20\\fall_venv\\Lib\\site-packages\\sklearn\\utils\\validation.py:2739: UserWarning: X does not have valid feature names, but StandardScaler was fitted with feature names\n",
      "  warnings.warn(\n",
      "c:\\Users\\HP\\Documents\\DSGP\\CM2603-Data_Science_Project-G20\\fall_venv\\Lib\\site-packages\\sklearn\\utils\\validation.py:2739: UserWarning: X does not have valid feature names, but StandardScaler was fitted with feature names\n",
      "  warnings.warn(\n",
      "c:\\Users\\HP\\Documents\\DSGP\\CM2603-Data_Science_Project-G20\\fall_venv\\Lib\\site-packages\\sklearn\\utils\\validation.py:2739: UserWarning: X does not have valid feature names, but StandardScaler was fitted with feature names\n",
      "  warnings.warn(\n",
      "c:\\Users\\HP\\Documents\\DSGP\\CM2603-Data_Science_Project-G20\\fall_venv\\Lib\\site-packages\\sklearn\\utils\\validation.py:2739: UserWarning: X does not have valid feature names, but StandardScaler was fitted with feature names\n",
      "  warnings.warn(\n"
     ]
    },
    {
     "name": "stdout",
     "output_type": "stream",
     "text": [
      "[21:11:26] Camera(0) Gyro(0) SpO2(0) → Prediction: ✅ Non-Fall\n",
      "[21:11:26] Camera(0) Gyro(0) SpO2(0) → Prediction: ✅ Non-Fall\n",
      "[21:11:26] Camera(0) Gyro(0) SpO2(0) → Prediction: ✅ Non-Fall\n"
     ]
    },
    {
     "name": "stderr",
     "output_type": "stream",
     "text": [
      "c:\\Users\\HP\\Documents\\DSGP\\CM2603-Data_Science_Project-G20\\fall_venv\\Lib\\site-packages\\sklearn\\utils\\validation.py:2739: UserWarning: X does not have valid feature names, but StandardScaler was fitted with feature names\n",
      "  warnings.warn(\n",
      "c:\\Users\\HP\\Documents\\DSGP\\CM2603-Data_Science_Project-G20\\fall_venv\\Lib\\site-packages\\sklearn\\utils\\validation.py:2739: UserWarning: X does not have valid feature names, but StandardScaler was fitted with feature names\n",
      "  warnings.warn(\n",
      "c:\\Users\\HP\\Documents\\DSGP\\CM2603-Data_Science_Project-G20\\fall_venv\\Lib\\site-packages\\sklearn\\utils\\validation.py:2739: UserWarning: X does not have valid feature names, but StandardScaler was fitted with feature names\n",
      "  warnings.warn(\n"
     ]
    },
    {
     "name": "stdout",
     "output_type": "stream",
     "text": [
      "[21:11:26] Camera(0) Gyro(0) SpO2(0) → Prediction: ✅ Non-Fall\n",
      "[21:11:26] Camera(0) Gyro(0) SpO2(0) → Prediction: ✅ Non-Fall\n",
      "[21:11:26] Camera(0) Gyro(1) SpO2(0) → Prediction: ✅ Non-Fall\n"
     ]
    },
    {
     "name": "stderr",
     "output_type": "stream",
     "text": [
      "c:\\Users\\HP\\Documents\\DSGP\\CM2603-Data_Science_Project-G20\\fall_venv\\Lib\\site-packages\\sklearn\\utils\\validation.py:2739: UserWarning: X does not have valid feature names, but StandardScaler was fitted with feature names\n",
      "  warnings.warn(\n",
      "c:\\Users\\HP\\Documents\\DSGP\\CM2603-Data_Science_Project-G20\\fall_venv\\Lib\\site-packages\\sklearn\\utils\\validation.py:2739: UserWarning: X does not have valid feature names, but StandardScaler was fitted with feature names\n",
      "  warnings.warn(\n",
      "c:\\Users\\HP\\Documents\\DSGP\\CM2603-Data_Science_Project-G20\\fall_venv\\Lib\\site-packages\\sklearn\\utils\\validation.py:2739: UserWarning: X does not have valid feature names, but StandardScaler was fitted with feature names\n",
      "  warnings.warn(\n"
     ]
    },
    {
     "name": "stdout",
     "output_type": "stream",
     "text": [
      "[21:11:26] Camera(0) Gyro(0) SpO2(0) → Prediction: ✅ Non-Fall\n",
      "[21:11:26] Camera(0) Gyro(0) SpO2(0) → Prediction: ✅ Non-Fall\n"
     ]
    },
    {
     "name": "stderr",
     "output_type": "stream",
     "text": [
      "c:\\Users\\HP\\Documents\\DSGP\\CM2603-Data_Science_Project-G20\\fall_venv\\Lib\\site-packages\\sklearn\\utils\\validation.py:2739: UserWarning: X does not have valid feature names, but StandardScaler was fitted with feature names\n",
      "  warnings.warn(\n",
      "c:\\Users\\HP\\Documents\\DSGP\\CM2603-Data_Science_Project-G20\\fall_venv\\Lib\\site-packages\\sklearn\\utils\\validation.py:2739: UserWarning: X does not have valid feature names, but StandardScaler was fitted with feature names\n",
      "  warnings.warn(\n",
      "c:\\Users\\HP\\Documents\\DSGP\\CM2603-Data_Science_Project-G20\\fall_venv\\Lib\\site-packages\\sklearn\\utils\\validation.py:2739: UserWarning: X does not have valid feature names, but StandardScaler was fitted with feature names\n",
      "  warnings.warn(\n",
      "c:\\Users\\HP\\Documents\\DSGP\\CM2603-Data_Science_Project-G20\\fall_venv\\Lib\\site-packages\\sklearn\\utils\\validation.py:2739: UserWarning: X does not have valid feature names, but StandardScaler was fitted with feature names\n",
      "  warnings.warn(\n"
     ]
    },
    {
     "name": "stdout",
     "output_type": "stream",
     "text": [
      "[21:11:27] Camera(0) Gyro(1) SpO2(0) → Prediction: ✅ Non-Fall\n",
      "[21:11:27] Camera(0) Gyro(0) SpO2(0) → Prediction: ✅ Non-Fall\n",
      "[21:11:27] Camera(0) Gyro(0) SpO2(0) → Prediction: ✅ Non-Fall\n",
      "[21:11:27] Camera(0) Gyro(0) SpO2(0) → Prediction: ✅ Non-Fall\n",
      "[21:11:27] Camera(0) Gyro(0) SpO2(0) → Prediction: ✅ Non-Fall\n"
     ]
    },
    {
     "name": "stderr",
     "output_type": "stream",
     "text": [
      "c:\\Users\\HP\\Documents\\DSGP\\CM2603-Data_Science_Project-G20\\fall_venv\\Lib\\site-packages\\sklearn\\utils\\validation.py:2739: UserWarning: X does not have valid feature names, but StandardScaler was fitted with feature names\n",
      "  warnings.warn(\n",
      "c:\\Users\\HP\\Documents\\DSGP\\CM2603-Data_Science_Project-G20\\fall_venv\\Lib\\site-packages\\sklearn\\utils\\validation.py:2739: UserWarning: X does not have valid feature names, but StandardScaler was fitted with feature names\n",
      "  warnings.warn(\n",
      "c:\\Users\\HP\\Documents\\DSGP\\CM2603-Data_Science_Project-G20\\fall_venv\\Lib\\site-packages\\sklearn\\utils\\validation.py:2739: UserWarning: X does not have valid feature names, but StandardScaler was fitted with feature names\n",
      "  warnings.warn(\n",
      "c:\\Users\\HP\\Documents\\DSGP\\CM2603-Data_Science_Project-G20\\fall_venv\\Lib\\site-packages\\sklearn\\utils\\validation.py:2739: UserWarning: X does not have valid feature names, but StandardScaler was fitted with feature names\n",
      "  warnings.warn(\n",
      "c:\\Users\\HP\\Documents\\DSGP\\CM2603-Data_Science_Project-G20\\fall_venv\\Lib\\site-packages\\sklearn\\utils\\validation.py:2739: UserWarning: X does not have valid feature names, but StandardScaler was fitted with feature names\n",
      "  warnings.warn(\n"
     ]
    },
    {
     "name": "stdout",
     "output_type": "stream",
     "text": [
      "[21:11:27] Camera(0) Gyro(0) SpO2(0) → Prediction: ✅ Non-Fall\n",
      "[21:11:27] Camera(0) Gyro(0) SpO2(0) → Prediction: ✅ Non-Fall\n",
      "[21:11:27] Camera(0) Gyro(0) SpO2(0) → Prediction: ✅ Non-Fall\n"
     ]
    },
    {
     "name": "stderr",
     "output_type": "stream",
     "text": [
      "c:\\Users\\HP\\Documents\\DSGP\\CM2603-Data_Science_Project-G20\\fall_venv\\Lib\\site-packages\\sklearn\\utils\\validation.py:2739: UserWarning: X does not have valid feature names, but StandardScaler was fitted with feature names\n",
      "  warnings.warn(\n",
      "c:\\Users\\HP\\Documents\\DSGP\\CM2603-Data_Science_Project-G20\\fall_venv\\Lib\\site-packages\\sklearn\\utils\\validation.py:2739: UserWarning: X does not have valid feature names, but StandardScaler was fitted with feature names\n",
      "  warnings.warn(\n",
      "c:\\Users\\HP\\Documents\\DSGP\\CM2603-Data_Science_Project-G20\\fall_venv\\Lib\\site-packages\\sklearn\\utils\\validation.py:2739: UserWarning: X does not have valid feature names, but StandardScaler was fitted with feature names\n",
      "  warnings.warn(\n"
     ]
    },
    {
     "name": "stdout",
     "output_type": "stream",
     "text": [
      "[21:11:27] Camera(0) Gyro(0) SpO2(0) → Prediction: ✅ Non-Fall\n",
      "[21:11:27] Camera(0) Gyro(0) SpO2(0) → Prediction: ✅ Non-Fall\n",
      "[21:11:28] Camera(0) Gyro(0) SpO2(0) → Prediction: ✅ Non-Fall\n"
     ]
    },
    {
     "name": "stderr",
     "output_type": "stream",
     "text": [
      "c:\\Users\\HP\\Documents\\DSGP\\CM2603-Data_Science_Project-G20\\fall_venv\\Lib\\site-packages\\sklearn\\utils\\validation.py:2739: UserWarning: X does not have valid feature names, but StandardScaler was fitted with feature names\n",
      "  warnings.warn(\n",
      "c:\\Users\\HP\\Documents\\DSGP\\CM2603-Data_Science_Project-G20\\fall_venv\\Lib\\site-packages\\sklearn\\utils\\validation.py:2739: UserWarning: X does not have valid feature names, but StandardScaler was fitted with feature names\n",
      "  warnings.warn(\n",
      "c:\\Users\\HP\\Documents\\DSGP\\CM2603-Data_Science_Project-G20\\fall_venv\\Lib\\site-packages\\sklearn\\utils\\validation.py:2739: UserWarning: X does not have valid feature names, but StandardScaler was fitted with feature names\n",
      "  warnings.warn(\n"
     ]
    },
    {
     "name": "stdout",
     "output_type": "stream",
     "text": [
      "[21:11:28] Camera(0) Gyro(0) SpO2(0) → Prediction: ✅ Non-Fall\n",
      "[21:11:28] Camera(0) Gyro(0) SpO2(0) → Prediction: ✅ Non-Fall\n",
      "[21:11:28] Camera(0) Gyro(1) SpO2(0) → Prediction: ✅ Non-Fall\n"
     ]
    },
    {
     "name": "stderr",
     "output_type": "stream",
     "text": [
      "c:\\Users\\HP\\Documents\\DSGP\\CM2603-Data_Science_Project-G20\\fall_venv\\Lib\\site-packages\\sklearn\\utils\\validation.py:2739: UserWarning: X does not have valid feature names, but StandardScaler was fitted with feature names\n",
      "  warnings.warn(\n",
      "c:\\Users\\HP\\Documents\\DSGP\\CM2603-Data_Science_Project-G20\\fall_venv\\Lib\\site-packages\\sklearn\\utils\\validation.py:2739: UserWarning: X does not have valid feature names, but StandardScaler was fitted with feature names\n",
      "  warnings.warn(\n",
      "c:\\Users\\HP\\Documents\\DSGP\\CM2603-Data_Science_Project-G20\\fall_venv\\Lib\\site-packages\\sklearn\\utils\\validation.py:2739: UserWarning: X does not have valid feature names, but StandardScaler was fitted with feature names\n",
      "  warnings.warn(\n"
     ]
    },
    {
     "name": "stdout",
     "output_type": "stream",
     "text": [
      "[21:11:28] Camera(0) Gyro(0) SpO2(0) → Prediction: ✅ Non-Fall\n",
      "[21:11:28] Camera(0) Gyro(0) SpO2(0) → Prediction: ✅ Non-Fall\n",
      "[21:11:28] Camera(0) Gyro(0) SpO2(0) → Prediction: ✅ Non-Fall\n"
     ]
    },
    {
     "name": "stderr",
     "output_type": "stream",
     "text": [
      "c:\\Users\\HP\\Documents\\DSGP\\CM2603-Data_Science_Project-G20\\fall_venv\\Lib\\site-packages\\sklearn\\utils\\validation.py:2739: UserWarning: X does not have valid feature names, but StandardScaler was fitted with feature names\n",
      "  warnings.warn(\n",
      "c:\\Users\\HP\\Documents\\DSGP\\CM2603-Data_Science_Project-G20\\fall_venv\\Lib\\site-packages\\sklearn\\utils\\validation.py:2739: UserWarning: X does not have valid feature names, but StandardScaler was fitted with feature names\n",
      "  warnings.warn(\n",
      "c:\\Users\\HP\\Documents\\DSGP\\CM2603-Data_Science_Project-G20\\fall_venv\\Lib\\site-packages\\sklearn\\utils\\validation.py:2739: UserWarning: X does not have valid feature names, but StandardScaler was fitted with feature names\n",
      "  warnings.warn(\n",
      "c:\\Users\\HP\\Documents\\DSGP\\CM2603-Data_Science_Project-G20\\fall_venv\\Lib\\site-packages\\sklearn\\utils\\validation.py:2739: UserWarning: X does not have valid feature names, but StandardScaler was fitted with feature names\n",
      "  warnings.warn(\n",
      "c:\\Users\\HP\\Documents\\DSGP\\CM2603-Data_Science_Project-G20\\fall_venv\\Lib\\site-packages\\sklearn\\utils\\validation.py:2739: UserWarning: X does not have valid feature names, but StandardScaler was fitted with feature names\n",
      "  warnings.warn(\n",
      "c:\\Users\\HP\\Documents\\DSGP\\CM2603-Data_Science_Project-G20\\fall_venv\\Lib\\site-packages\\sklearn\\utils\\validation.py:2739: UserWarning: X does not have valid feature names, but StandardScaler was fitted with feature names\n",
      "  warnings.warn(\n",
      "c:\\Users\\HP\\Documents\\DSGP\\CM2603-Data_Science_Project-G20\\fall_venv\\Lib\\site-packages\\sklearn\\utils\\validation.py:2739: UserWarning: X does not have valid feature names, but StandardScaler was fitted with feature names\n",
      "  warnings.warn(\n"
     ]
    },
    {
     "name": "stdout",
     "output_type": "stream",
     "text": [
      "[21:11:28] Camera(0) Gyro(0) SpO2(0) → Prediction: ✅ Non-Fall\n",
      "[21:11:28] Camera(0) Gyro(0) SpO2(0) → Prediction: ✅ Non-Fall\n",
      "[21:11:28] Camera(0) Gyro(0) SpO2(0) → Prediction: ✅ Non-Fall\n"
     ]
    },
    {
     "name": "stderr",
     "output_type": "stream",
     "text": [
      "c:\\Users\\HP\\Documents\\DSGP\\CM2603-Data_Science_Project-G20\\fall_venv\\Lib\\site-packages\\sklearn\\utils\\validation.py:2739: UserWarning: X does not have valid feature names, but StandardScaler was fitted with feature names\n",
      "  warnings.warn(\n",
      "c:\\Users\\HP\\Documents\\DSGP\\CM2603-Data_Science_Project-G20\\fall_venv\\Lib\\site-packages\\sklearn\\utils\\validation.py:2739: UserWarning: X does not have valid feature names, but StandardScaler was fitted with feature names\n",
      "  warnings.warn(\n",
      "c:\\Users\\HP\\Documents\\DSGP\\CM2603-Data_Science_Project-G20\\fall_venv\\Lib\\site-packages\\sklearn\\utils\\validation.py:2739: UserWarning: X does not have valid feature names, but StandardScaler was fitted with feature names\n",
      "  warnings.warn(\n"
     ]
    },
    {
     "name": "stdout",
     "output_type": "stream",
     "text": [
      "[21:11:29] Camera(0) Gyro(0) SpO2(0) → Prediction: ✅ Non-Fall\n",
      "[21:11:29] Camera(0) Gyro(0) SpO2(0) → Prediction: ✅ Non-Fall\n",
      "[21:11:29] Camera(0) Gyro(0) SpO2(0) → Prediction: ✅ Non-Fall\n"
     ]
    },
    {
     "name": "stderr",
     "output_type": "stream",
     "text": [
      "c:\\Users\\HP\\Documents\\DSGP\\CM2603-Data_Science_Project-G20\\fall_venv\\Lib\\site-packages\\sklearn\\utils\\validation.py:2739: UserWarning: X does not have valid feature names, but StandardScaler was fitted with feature names\n",
      "  warnings.warn(\n",
      "c:\\Users\\HP\\Documents\\DSGP\\CM2603-Data_Science_Project-G20\\fall_venv\\Lib\\site-packages\\sklearn\\utils\\validation.py:2739: UserWarning: X does not have valid feature names, but StandardScaler was fitted with feature names\n",
      "  warnings.warn(\n"
     ]
    },
    {
     "name": "stdout",
     "output_type": "stream",
     "text": [
      "[21:11:29] Camera(0) Gyro(0) SpO2(0) → Prediction: ✅ Non-Fall\n",
      "[21:11:29] Camera(0) Gyro(0) SpO2(0) → Prediction: ✅ Non-Fall\n"
     ]
    },
    {
     "name": "stderr",
     "output_type": "stream",
     "text": [
      "c:\\Users\\HP\\Documents\\DSGP\\CM2603-Data_Science_Project-G20\\fall_venv\\Lib\\site-packages\\sklearn\\utils\\validation.py:2739: UserWarning: X does not have valid feature names, but StandardScaler was fitted with feature names\n",
      "  warnings.warn(\n",
      "c:\\Users\\HP\\Documents\\DSGP\\CM2603-Data_Science_Project-G20\\fall_venv\\Lib\\site-packages\\sklearn\\utils\\validation.py:2739: UserWarning: X does not have valid feature names, but StandardScaler was fitted with feature names\n",
      "  warnings.warn(\n",
      "c:\\Users\\HP\\Documents\\DSGP\\CM2603-Data_Science_Project-G20\\fall_venv\\Lib\\site-packages\\sklearn\\utils\\validation.py:2739: UserWarning: X does not have valid feature names, but StandardScaler was fitted with feature names\n",
      "  warnings.warn(\n"
     ]
    },
    {
     "name": "stdout",
     "output_type": "stream",
     "text": [
      "[21:11:29] Camera(0) Gyro(0) SpO2(0) → Prediction: ✅ Non-Fall\n",
      "[21:11:29] Camera(0) Gyro(0) SpO2(0) → Prediction: ✅ Non-Fall\n",
      "[21:11:29] Camera(0) Gyro(0) SpO2(0) → Prediction: ✅ Non-Fall\n"
     ]
    },
    {
     "name": "stderr",
     "output_type": "stream",
     "text": [
      "c:\\Users\\HP\\Documents\\DSGP\\CM2603-Data_Science_Project-G20\\fall_venv\\Lib\\site-packages\\sklearn\\utils\\validation.py:2739: UserWarning: X does not have valid feature names, but StandardScaler was fitted with feature names\n",
      "  warnings.warn(\n",
      "c:\\Users\\HP\\Documents\\DSGP\\CM2603-Data_Science_Project-G20\\fall_venv\\Lib\\site-packages\\sklearn\\utils\\validation.py:2739: UserWarning: X does not have valid feature names, but StandardScaler was fitted with feature names\n",
      "  warnings.warn(\n",
      "c:\\Users\\HP\\Documents\\DSGP\\CM2603-Data_Science_Project-G20\\fall_venv\\Lib\\site-packages\\sklearn\\utils\\validation.py:2739: UserWarning: X does not have valid feature names, but StandardScaler was fitted with feature names\n",
      "  warnings.warn(\n"
     ]
    },
    {
     "name": "stdout",
     "output_type": "stream",
     "text": [
      "[21:11:29] Camera(0) Gyro(0) SpO2(0) → Prediction: ✅ Non-Fall\n",
      "[21:11:30] Camera(0) Gyro(0) SpO2(0) → Prediction: ✅ Non-Fall\n",
      "[21:11:30] Camera(0) Gyro(0) SpO2(0) → Prediction: ✅ Non-Fall\n"
     ]
    },
    {
     "name": "stderr",
     "output_type": "stream",
     "text": [
      "c:\\Users\\HP\\Documents\\DSGP\\CM2603-Data_Science_Project-G20\\fall_venv\\Lib\\site-packages\\sklearn\\utils\\validation.py:2739: UserWarning: X does not have valid feature names, but StandardScaler was fitted with feature names\n",
      "  warnings.warn(\n",
      "c:\\Users\\HP\\Documents\\DSGP\\CM2603-Data_Science_Project-G20\\fall_venv\\Lib\\site-packages\\sklearn\\utils\\validation.py:2739: UserWarning: X does not have valid feature names, but StandardScaler was fitted with feature names\n",
      "  warnings.warn(\n",
      "c:\\Users\\HP\\Documents\\DSGP\\CM2603-Data_Science_Project-G20\\fall_venv\\Lib\\site-packages\\sklearn\\utils\\validation.py:2739: UserWarning: X does not have valid feature names, but StandardScaler was fitted with feature names\n",
      "  warnings.warn(\n",
      "c:\\Users\\HP\\Documents\\DSGP\\CM2603-Data_Science_Project-G20\\fall_venv\\Lib\\site-packages\\sklearn\\utils\\validation.py:2739: UserWarning: X does not have valid feature names, but StandardScaler was fitted with feature names\n",
      "  warnings.warn(\n",
      "c:\\Users\\HP\\Documents\\DSGP\\CM2603-Data_Science_Project-G20\\fall_venv\\Lib\\site-packages\\sklearn\\utils\\validation.py:2739: UserWarning: X does not have valid feature names, but StandardScaler was fitted with feature names\n",
      "  warnings.warn(\n",
      "c:\\Users\\HP\\Documents\\DSGP\\CM2603-Data_Science_Project-G20\\fall_venv\\Lib\\site-packages\\sklearn\\utils\\validation.py:2739: UserWarning: X does not have valid feature names, but StandardScaler was fitted with feature names\n",
      "  warnings.warn(\n",
      "c:\\Users\\HP\\Documents\\DSGP\\CM2603-Data_Science_Project-G20\\fall_venv\\Lib\\site-packages\\sklearn\\utils\\validation.py:2739: UserWarning: X does not have valid feature names, but StandardScaler was fitted with feature names\n",
      "  warnings.warn(\n"
     ]
    },
    {
     "name": "stdout",
     "output_type": "stream",
     "text": [
      "[21:11:30] Camera(0) Gyro(0) SpO2(0) → Prediction: ✅ Non-Fall\n",
      "[21:11:30] Camera(0) Gyro(0) SpO2(0) → Prediction: ✅ Non-Fall\n"
     ]
    },
    {
     "name": "stderr",
     "output_type": "stream",
     "text": [
      "c:\\Users\\HP\\Documents\\DSGP\\CM2603-Data_Science_Project-G20\\fall_venv\\Lib\\site-packages\\sklearn\\utils\\validation.py:2739: UserWarning: X does not have valid feature names, but StandardScaler was fitted with feature names\n",
      "  warnings.warn(\n",
      "c:\\Users\\HP\\Documents\\DSGP\\CM2603-Data_Science_Project-G20\\fall_venv\\Lib\\site-packages\\sklearn\\utils\\validation.py:2739: UserWarning: X does not have valid feature names, but StandardScaler was fitted with feature names\n",
      "  warnings.warn(\n",
      "c:\\Users\\HP\\Documents\\DSGP\\CM2603-Data_Science_Project-G20\\fall_venv\\Lib\\site-packages\\sklearn\\utils\\validation.py:2739: UserWarning: X does not have valid feature names, but StandardScaler was fitted with feature names\n",
      "  warnings.warn(\n"
     ]
    },
    {
     "name": "stdout",
     "output_type": "stream",
     "text": [
      "[21:11:30] Camera(0) Gyro(0) SpO2(0) → Prediction: ✅ Non-Fall\n",
      "[21:11:30] Camera(0) Gyro(0) SpO2(0) → Prediction: ✅ Non-Fall\n",
      "[21:11:30] Camera(0) Gyro(0) SpO2(0) → Prediction: ✅ Non-Fall\n"
     ]
    },
    {
     "name": "stderr",
     "output_type": "stream",
     "text": [
      "c:\\Users\\HP\\Documents\\DSGP\\CM2603-Data_Science_Project-G20\\fall_venv\\Lib\\site-packages\\sklearn\\utils\\validation.py:2739: UserWarning: X does not have valid feature names, but StandardScaler was fitted with feature names\n",
      "  warnings.warn(\n",
      "c:\\Users\\HP\\Documents\\DSGP\\CM2603-Data_Science_Project-G20\\fall_venv\\Lib\\site-packages\\sklearn\\utils\\validation.py:2739: UserWarning: X does not have valid feature names, but StandardScaler was fitted with feature names\n",
      "  warnings.warn(\n",
      "c:\\Users\\HP\\Documents\\DSGP\\CM2603-Data_Science_Project-G20\\fall_venv\\Lib\\site-packages\\sklearn\\utils\\validation.py:2739: UserWarning: X does not have valid feature names, but StandardScaler was fitted with feature names\n",
      "  warnings.warn(\n"
     ]
    },
    {
     "name": "stdout",
     "output_type": "stream",
     "text": [
      "[21:11:30] Camera(0) Gyro(0) SpO2(0) → Prediction: ✅ Non-Fall\n",
      "[21:11:30] Camera(0) Gyro(0) SpO2(0) → Prediction: ✅ Non-Fall\n",
      "[21:11:30] Camera(0) Gyro(0) SpO2(0) → Prediction: ✅ Non-Fall\n"
     ]
    },
    {
     "name": "stderr",
     "output_type": "stream",
     "text": [
      "c:\\Users\\HP\\Documents\\DSGP\\CM2603-Data_Science_Project-G20\\fall_venv\\Lib\\site-packages\\sklearn\\utils\\validation.py:2739: UserWarning: X does not have valid feature names, but StandardScaler was fitted with feature names\n",
      "  warnings.warn(\n",
      "c:\\Users\\HP\\Documents\\DSGP\\CM2603-Data_Science_Project-G20\\fall_venv\\Lib\\site-packages\\sklearn\\utils\\validation.py:2739: UserWarning: X does not have valid feature names, but StandardScaler was fitted with feature names\n",
      "  warnings.warn(\n",
      "c:\\Users\\HP\\Documents\\DSGP\\CM2603-Data_Science_Project-G20\\fall_venv\\Lib\\site-packages\\sklearn\\utils\\validation.py:2739: UserWarning: X does not have valid feature names, but StandardScaler was fitted with feature names\n",
      "  warnings.warn(\n"
     ]
    },
    {
     "name": "stdout",
     "output_type": "stream",
     "text": [
      "[21:11:31] Camera(0) Gyro(0) SpO2(0) → Prediction: ✅ Non-Fall\n",
      "[21:11:31] Camera(0) Gyro(0) SpO2(0) → Prediction: ✅ Non-Fall\n"
     ]
    },
    {
     "name": "stderr",
     "output_type": "stream",
     "text": [
      "c:\\Users\\HP\\Documents\\DSGP\\CM2603-Data_Science_Project-G20\\fall_venv\\Lib\\site-packages\\sklearn\\utils\\validation.py:2739: UserWarning: X does not have valid feature names, but StandardScaler was fitted with feature names\n",
      "  warnings.warn(\n",
      "c:\\Users\\HP\\Documents\\DSGP\\CM2603-Data_Science_Project-G20\\fall_venv\\Lib\\site-packages\\sklearn\\utils\\validation.py:2739: UserWarning: X does not have valid feature names, but StandardScaler was fitted with feature names\n",
      "  warnings.warn(\n",
      "c:\\Users\\HP\\Documents\\DSGP\\CM2603-Data_Science_Project-G20\\fall_venv\\Lib\\site-packages\\sklearn\\utils\\validation.py:2739: UserWarning: X does not have valid feature names, but StandardScaler was fitted with feature names\n",
      "  warnings.warn(\n"
     ]
    },
    {
     "name": "stdout",
     "output_type": "stream",
     "text": [
      "[21:11:31] Camera(0) Gyro(0) SpO2(0) → Prediction: ✅ Non-Fall\n",
      "[21:11:31] Camera(0) Gyro(0) SpO2(0) → Prediction: ✅ Non-Fall\n"
     ]
    },
    {
     "name": "stderr",
     "output_type": "stream",
     "text": [
      "c:\\Users\\HP\\Documents\\DSGP\\CM2603-Data_Science_Project-G20\\fall_venv\\Lib\\site-packages\\sklearn\\utils\\validation.py:2739: UserWarning: X does not have valid feature names, but StandardScaler was fitted with feature names\n",
      "  warnings.warn(\n",
      "c:\\Users\\HP\\Documents\\DSGP\\CM2603-Data_Science_Project-G20\\fall_venv\\Lib\\site-packages\\sklearn\\utils\\validation.py:2739: UserWarning: X does not have valid feature names, but StandardScaler was fitted with feature names\n",
      "  warnings.warn(\n",
      "c:\\Users\\HP\\Documents\\DSGP\\CM2603-Data_Science_Project-G20\\fall_venv\\Lib\\site-packages\\sklearn\\utils\\validation.py:2739: UserWarning: X does not have valid feature names, but StandardScaler was fitted with feature names\n",
      "  warnings.warn(\n"
     ]
    },
    {
     "name": "stdout",
     "output_type": "stream",
     "text": [
      "[21:11:31] Camera(0) Gyro(0) SpO2(0) → Prediction: ✅ Non-Fall\n",
      "[21:11:31] Camera(0) Gyro(0) SpO2(0) → Prediction: ✅ Non-Fall\n",
      "[21:11:31] Camera(0) Gyro(0) SpO2(0) → Prediction: ✅ Non-Fall\n"
     ]
    },
    {
     "name": "stderr",
     "output_type": "stream",
     "text": [
      "c:\\Users\\HP\\Documents\\DSGP\\CM2603-Data_Science_Project-G20\\fall_venv\\Lib\\site-packages\\sklearn\\utils\\validation.py:2739: UserWarning: X does not have valid feature names, but StandardScaler was fitted with feature names\n",
      "  warnings.warn(\n",
      "c:\\Users\\HP\\Documents\\DSGP\\CM2603-Data_Science_Project-G20\\fall_venv\\Lib\\site-packages\\sklearn\\utils\\validation.py:2739: UserWarning: X does not have valid feature names, but StandardScaler was fitted with feature names\n",
      "  warnings.warn(\n",
      "c:\\Users\\HP\\Documents\\DSGP\\CM2603-Data_Science_Project-G20\\fall_venv\\Lib\\site-packages\\sklearn\\utils\\validation.py:2739: UserWarning: X does not have valid feature names, but StandardScaler was fitted with feature names\n",
      "  warnings.warn(\n"
     ]
    },
    {
     "name": "stdout",
     "output_type": "stream",
     "text": [
      "[21:11:31] Camera(0) Gyro(0) SpO2(0) → Prediction: ✅ Non-Fall\n",
      "[21:11:31] Camera(0) Gyro(0) SpO2(0) → Prediction: ✅ Non-Fall\n",
      "[21:11:31] Camera(0) Gyro(0) SpO2(0) → Prediction: ✅ Non-Fall\n"
     ]
    },
    {
     "name": "stderr",
     "output_type": "stream",
     "text": [
      "c:\\Users\\HP\\Documents\\DSGP\\CM2603-Data_Science_Project-G20\\fall_venv\\Lib\\site-packages\\sklearn\\utils\\validation.py:2739: UserWarning: X does not have valid feature names, but StandardScaler was fitted with feature names\n",
      "  warnings.warn(\n",
      "c:\\Users\\HP\\Documents\\DSGP\\CM2603-Data_Science_Project-G20\\fall_venv\\Lib\\site-packages\\sklearn\\utils\\validation.py:2739: UserWarning: X does not have valid feature names, but StandardScaler was fitted with feature names\n",
      "  warnings.warn(\n",
      "c:\\Users\\HP\\Documents\\DSGP\\CM2603-Data_Science_Project-G20\\fall_venv\\Lib\\site-packages\\sklearn\\utils\\validation.py:2739: UserWarning: X does not have valid feature names, but StandardScaler was fitted with feature names\n",
      "  warnings.warn(\n"
     ]
    },
    {
     "name": "stdout",
     "output_type": "stream",
     "text": [
      "[21:11:32] Camera(0) Gyro(0) SpO2(0) → Prediction: ✅ Non-Fall\n",
      "[21:11:32] Camera(0) Gyro(0) SpO2(0) → Prediction: ✅ Non-Fall\n",
      "[21:11:32] Camera(0) Gyro(0) SpO2(0) → Prediction: ✅ Non-Fall\n"
     ]
    },
    {
     "name": "stderr",
     "output_type": "stream",
     "text": [
      "c:\\Users\\HP\\Documents\\DSGP\\CM2603-Data_Science_Project-G20\\fall_venv\\Lib\\site-packages\\sklearn\\utils\\validation.py:2739: UserWarning: X does not have valid feature names, but StandardScaler was fitted with feature names\n",
      "  warnings.warn(\n",
      "c:\\Users\\HP\\Documents\\DSGP\\CM2603-Data_Science_Project-G20\\fall_venv\\Lib\\site-packages\\sklearn\\utils\\validation.py:2739: UserWarning: X does not have valid feature names, but StandardScaler was fitted with feature names\n",
      "  warnings.warn(\n",
      "c:\\Users\\HP\\Documents\\DSGP\\CM2603-Data_Science_Project-G20\\fall_venv\\Lib\\site-packages\\sklearn\\utils\\validation.py:2739: UserWarning: X does not have valid feature names, but StandardScaler was fitted with feature names\n",
      "  warnings.warn(\n"
     ]
    },
    {
     "name": "stdout",
     "output_type": "stream",
     "text": [
      "[21:11:32] Camera(0) Gyro(0) SpO2(0) → Prediction: ✅ Non-Fall\n",
      "[21:11:32] Camera(0) Gyro(0) SpO2(0) → Prediction: ✅ Non-Fall\n",
      "[21:11:32] Camera(0) Gyro(0) SpO2(0) → Prediction: ✅ Non-Fall\n"
     ]
    },
    {
     "name": "stderr",
     "output_type": "stream",
     "text": [
      "c:\\Users\\HP\\Documents\\DSGP\\CM2603-Data_Science_Project-G20\\fall_venv\\Lib\\site-packages\\sklearn\\utils\\validation.py:2739: UserWarning: X does not have valid feature names, but StandardScaler was fitted with feature names\n",
      "  warnings.warn(\n",
      "c:\\Users\\HP\\Documents\\DSGP\\CM2603-Data_Science_Project-G20\\fall_venv\\Lib\\site-packages\\sklearn\\utils\\validation.py:2739: UserWarning: X does not have valid feature names, but StandardScaler was fitted with feature names\n",
      "  warnings.warn(\n",
      "c:\\Users\\HP\\Documents\\DSGP\\CM2603-Data_Science_Project-G20\\fall_venv\\Lib\\site-packages\\sklearn\\utils\\validation.py:2739: UserWarning: X does not have valid feature names, but StandardScaler was fitted with feature names\n",
      "  warnings.warn(\n",
      "c:\\Users\\HP\\Documents\\DSGP\\CM2603-Data_Science_Project-G20\\fall_venv\\Lib\\site-packages\\sklearn\\utils\\validation.py:2739: UserWarning: X does not have valid feature names, but StandardScaler was fitted with feature names\n",
      "  warnings.warn(\n",
      "c:\\Users\\HP\\Documents\\DSGP\\CM2603-Data_Science_Project-G20\\fall_venv\\Lib\\site-packages\\sklearn\\utils\\validation.py:2739: UserWarning: X does not have valid feature names, but StandardScaler was fitted with feature names\n",
      "  warnings.warn(\n",
      "c:\\Users\\HP\\Documents\\DSGP\\CM2603-Data_Science_Project-G20\\fall_venv\\Lib\\site-packages\\sklearn\\utils\\validation.py:2739: UserWarning: X does not have valid feature names, but StandardScaler was fitted with feature names\n",
      "  warnings.warn(\n"
     ]
    },
    {
     "name": "stdout",
     "output_type": "stream",
     "text": [
      "[21:11:32] Camera(0) Gyro(0) SpO2(0) → Prediction: ✅ Non-Fall\n",
      "[21:11:32] Camera(0) Gyro(0) SpO2(0) → Prediction: ✅ Non-Fall\n"
     ]
    },
    {
     "name": "stderr",
     "output_type": "stream",
     "text": [
      "c:\\Users\\HP\\Documents\\DSGP\\CM2603-Data_Science_Project-G20\\fall_venv\\Lib\\site-packages\\sklearn\\utils\\validation.py:2739: UserWarning: X does not have valid feature names, but StandardScaler was fitted with feature names\n",
      "  warnings.warn(\n",
      "c:\\Users\\HP\\Documents\\DSGP\\CM2603-Data_Science_Project-G20\\fall_venv\\Lib\\site-packages\\sklearn\\utils\\validation.py:2739: UserWarning: X does not have valid feature names, but StandardScaler was fitted with feature names\n",
      "  warnings.warn(\n",
      "c:\\Users\\HP\\Documents\\DSGP\\CM2603-Data_Science_Project-G20\\fall_venv\\Lib\\site-packages\\sklearn\\utils\\validation.py:2739: UserWarning: X does not have valid feature names, but StandardScaler was fitted with feature names\n",
      "  warnings.warn(\n"
     ]
    },
    {
     "name": "stdout",
     "output_type": "stream",
     "text": [
      "[21:11:32] Camera(0) Gyro(0) SpO2(0) → Prediction: ✅ Non-Fall\n",
      "[21:11:32] Camera(0) Gyro(0) SpO2(0) → Prediction: ✅ Non-Fall\n",
      "[21:11:33] Camera(0) Gyro(1) SpO2(0) → Prediction: ✅ Non-Fall\n",
      "[21:11:33] Camera(0) Gyro(0) SpO2(0) → Prediction: ✅ Non-Fall\n",
      "[21:11:33] Camera(0) Gyro(0) SpO2(0) → Prediction: ✅ Non-Fall\n"
     ]
    },
    {
     "name": "stderr",
     "output_type": "stream",
     "text": [
      "c:\\Users\\HP\\Documents\\DSGP\\CM2603-Data_Science_Project-G20\\fall_venv\\Lib\\site-packages\\sklearn\\utils\\validation.py:2739: UserWarning: X does not have valid feature names, but StandardScaler was fitted with feature names\n",
      "  warnings.warn(\n",
      "c:\\Users\\HP\\Documents\\DSGP\\CM2603-Data_Science_Project-G20\\fall_venv\\Lib\\site-packages\\sklearn\\utils\\validation.py:2739: UserWarning: X does not have valid feature names, but StandardScaler was fitted with feature names\n",
      "  warnings.warn(\n",
      "c:\\Users\\HP\\Documents\\DSGP\\CM2603-Data_Science_Project-G20\\fall_venv\\Lib\\site-packages\\sklearn\\utils\\validation.py:2739: UserWarning: X does not have valid feature names, but StandardScaler was fitted with feature names\n",
      "  warnings.warn(\n",
      "c:\\Users\\HP\\Documents\\DSGP\\CM2603-Data_Science_Project-G20\\fall_venv\\Lib\\site-packages\\sklearn\\utils\\validation.py:2739: UserWarning: X does not have valid feature names, but StandardScaler was fitted with feature names\n",
      "  warnings.warn(\n",
      "c:\\Users\\HP\\Documents\\DSGP\\CM2603-Data_Science_Project-G20\\fall_venv\\Lib\\site-packages\\sklearn\\utils\\validation.py:2739: UserWarning: X does not have valid feature names, but StandardScaler was fitted with feature names\n",
      "  warnings.warn(\n",
      "c:\\Users\\HP\\Documents\\DSGP\\CM2603-Data_Science_Project-G20\\fall_venv\\Lib\\site-packages\\sklearn\\utils\\validation.py:2739: UserWarning: X does not have valid feature names, but StandardScaler was fitted with feature names\n",
      "  warnings.warn(\n",
      "c:\\Users\\HP\\Documents\\DSGP\\CM2603-Data_Science_Project-G20\\fall_venv\\Lib\\site-packages\\sklearn\\utils\\validation.py:2739: UserWarning: X does not have valid feature names, but StandardScaler was fitted with feature names\n",
      "  warnings.warn(\n"
     ]
    },
    {
     "name": "stdout",
     "output_type": "stream",
     "text": [
      "[21:11:33] Camera(0) Gyro(0) SpO2(0) → Prediction: ✅ Non-Fall\n",
      "[21:11:33] Camera(0) Gyro(0) SpO2(0) → Prediction: ✅ Non-Fall\n",
      "[21:11:33] Camera(0) Gyro(0) SpO2(0) → Prediction: ✅ Non-Fall\n"
     ]
    },
    {
     "name": "stderr",
     "output_type": "stream",
     "text": [
      "c:\\Users\\HP\\Documents\\DSGP\\CM2603-Data_Science_Project-G20\\fall_venv\\Lib\\site-packages\\sklearn\\utils\\validation.py:2739: UserWarning: X does not have valid feature names, but StandardScaler was fitted with feature names\n",
      "  warnings.warn(\n",
      "c:\\Users\\HP\\Documents\\DSGP\\CM2603-Data_Science_Project-G20\\fall_venv\\Lib\\site-packages\\sklearn\\utils\\validation.py:2739: UserWarning: X does not have valid feature names, but StandardScaler was fitted with feature names\n",
      "  warnings.warn(\n",
      "c:\\Users\\HP\\Documents\\DSGP\\CM2603-Data_Science_Project-G20\\fall_venv\\Lib\\site-packages\\sklearn\\utils\\validation.py:2739: UserWarning: X does not have valid feature names, but StandardScaler was fitted with feature names\n",
      "  warnings.warn(\n"
     ]
    },
    {
     "name": "stdout",
     "output_type": "stream",
     "text": [
      "[21:11:33] Camera(0) Gyro(0) SpO2(0) → Prediction: ✅ Non-Fall\n",
      "[21:11:33] Camera(0) Gyro(0) SpO2(0) → Prediction: ✅ Non-Fall\n",
      "[21:11:33] Camera(0) Gyro(0) SpO2(0) → Prediction: ✅ Non-Fall\n"
     ]
    },
    {
     "name": "stderr",
     "output_type": "stream",
     "text": [
      "c:\\Users\\HP\\Documents\\DSGP\\CM2603-Data_Science_Project-G20\\fall_venv\\Lib\\site-packages\\sklearn\\utils\\validation.py:2739: UserWarning: X does not have valid feature names, but StandardScaler was fitted with feature names\n",
      "  warnings.warn(\n",
      "c:\\Users\\HP\\Documents\\DSGP\\CM2603-Data_Science_Project-G20\\fall_venv\\Lib\\site-packages\\sklearn\\utils\\validation.py:2739: UserWarning: X does not have valid feature names, but StandardScaler was fitted with feature names\n",
      "  warnings.warn(\n",
      "c:\\Users\\HP\\Documents\\DSGP\\CM2603-Data_Science_Project-G20\\fall_venv\\Lib\\site-packages\\sklearn\\utils\\validation.py:2739: UserWarning: X does not have valid feature names, but StandardScaler was fitted with feature names\n",
      "  warnings.warn(\n",
      "c:\\Users\\HP\\Documents\\DSGP\\CM2603-Data_Science_Project-G20\\fall_venv\\Lib\\site-packages\\sklearn\\utils\\validation.py:2739: UserWarning: X does not have valid feature names, but StandardScaler was fitted with feature names\n",
      "  warnings.warn(\n"
     ]
    },
    {
     "name": "stdout",
     "output_type": "stream",
     "text": [
      "[21:11:33] Camera(0) Gyro(0) SpO2(0) → Prediction: ✅ Non-Fall\n",
      "[21:11:34] Camera(0) Gyro(0) SpO2(0) → Prediction: ✅ Non-Fall\n",
      "[21:11:34] Camera(0) Gyro(0) SpO2(0) → Prediction: ✅ Non-Fall\n"
     ]
    },
    {
     "name": "stderr",
     "output_type": "stream",
     "text": [
      "c:\\Users\\HP\\Documents\\DSGP\\CM2603-Data_Science_Project-G20\\fall_venv\\Lib\\site-packages\\sklearn\\utils\\validation.py:2739: UserWarning: X does not have valid feature names, but StandardScaler was fitted with feature names\n",
      "  warnings.warn(\n",
      "c:\\Users\\HP\\Documents\\DSGP\\CM2603-Data_Science_Project-G20\\fall_venv\\Lib\\site-packages\\sklearn\\utils\\validation.py:2739: UserWarning: X does not have valid feature names, but StandardScaler was fitted with feature names\n",
      "  warnings.warn(\n",
      "c:\\Users\\HP\\Documents\\DSGP\\CM2603-Data_Science_Project-G20\\fall_venv\\Lib\\site-packages\\sklearn\\utils\\validation.py:2739: UserWarning: X does not have valid feature names, but StandardScaler was fitted with feature names\n",
      "  warnings.warn(\n"
     ]
    },
    {
     "name": "stdout",
     "output_type": "stream",
     "text": [
      "[21:11:34] Camera(0) Gyro(0) SpO2(0) → Prediction: ✅ Non-Fall\n",
      "[21:11:34] Camera(0) Gyro(0) SpO2(0) → Prediction: ✅ Non-Fall\n",
      "[21:11:34] Camera(0) Gyro(0) SpO2(0) → Prediction: ✅ Non-Fall\n"
     ]
    },
    {
     "name": "stderr",
     "output_type": "stream",
     "text": [
      "c:\\Users\\HP\\Documents\\DSGP\\CM2603-Data_Science_Project-G20\\fall_venv\\Lib\\site-packages\\sklearn\\utils\\validation.py:2739: UserWarning: X does not have valid feature names, but StandardScaler was fitted with feature names\n",
      "  warnings.warn(\n",
      "c:\\Users\\HP\\Documents\\DSGP\\CM2603-Data_Science_Project-G20\\fall_venv\\Lib\\site-packages\\sklearn\\utils\\validation.py:2739: UserWarning: X does not have valid feature names, but StandardScaler was fitted with feature names\n",
      "  warnings.warn(\n",
      "c:\\Users\\HP\\Documents\\DSGP\\CM2603-Data_Science_Project-G20\\fall_venv\\Lib\\site-packages\\sklearn\\utils\\validation.py:2739: UserWarning: X does not have valid feature names, but StandardScaler was fitted with feature names\n",
      "  warnings.warn(\n",
      "c:\\Users\\HP\\Documents\\DSGP\\CM2603-Data_Science_Project-G20\\fall_venv\\Lib\\site-packages\\sklearn\\utils\\validation.py:2739: UserWarning: X does not have valid feature names, but StandardScaler was fitted with feature names\n",
      "  warnings.warn(\n",
      "c:\\Users\\HP\\Documents\\DSGP\\CM2603-Data_Science_Project-G20\\fall_venv\\Lib\\site-packages\\sklearn\\utils\\validation.py:2739: UserWarning: X does not have valid feature names, but StandardScaler was fitted with feature names\n",
      "  warnings.warn(\n",
      "c:\\Users\\HP\\Documents\\DSGP\\CM2603-Data_Science_Project-G20\\fall_venv\\Lib\\site-packages\\sklearn\\utils\\validation.py:2739: UserWarning: X does not have valid feature names, but StandardScaler was fitted with feature names\n",
      "  warnings.warn(\n",
      "c:\\Users\\HP\\Documents\\DSGP\\CM2603-Data_Science_Project-G20\\fall_venv\\Lib\\site-packages\\sklearn\\utils\\validation.py:2739: UserWarning: X does not have valid feature names, but StandardScaler was fitted with feature names\n",
      "  warnings.warn(\n"
     ]
    },
    {
     "name": "stdout",
     "output_type": "stream",
     "text": [
      "[21:11:34] Camera(0) Gyro(0) SpO2(0) → Prediction: ✅ Non-Fall\n",
      "[21:11:34] Camera(0) Gyro(0) SpO2(0) → Prediction: ✅ Non-Fall\n",
      "[21:11:34] Camera(0) Gyro(0) SpO2(0) → Prediction: ✅ Non-Fall\n",
      "[21:11:34] Camera(0) Gyro(0) SpO2(0) → Prediction: ✅ Non-Fall\n",
      "[21:11:34] Camera(0) Gyro(0) SpO2(0) → Prediction: ✅ Non-Fall\n"
     ]
    },
    {
     "name": "stderr",
     "output_type": "stream",
     "text": [
      "c:\\Users\\HP\\Documents\\DSGP\\CM2603-Data_Science_Project-G20\\fall_venv\\Lib\\site-packages\\sklearn\\utils\\validation.py:2739: UserWarning: X does not have valid feature names, but StandardScaler was fitted with feature names\n",
      "  warnings.warn(\n",
      "c:\\Users\\HP\\Documents\\DSGP\\CM2603-Data_Science_Project-G20\\fall_venv\\Lib\\site-packages\\sklearn\\utils\\validation.py:2739: UserWarning: X does not have valid feature names, but StandardScaler was fitted with feature names\n",
      "  warnings.warn(\n",
      "c:\\Users\\HP\\Documents\\DSGP\\CM2603-Data_Science_Project-G20\\fall_venv\\Lib\\site-packages\\sklearn\\utils\\validation.py:2739: UserWarning: X does not have valid feature names, but StandardScaler was fitted with feature names\n",
      "  warnings.warn(\n",
      "c:\\Users\\HP\\Documents\\DSGP\\CM2603-Data_Science_Project-G20\\fall_venv\\Lib\\site-packages\\sklearn\\utils\\validation.py:2739: UserWarning: X does not have valid feature names, but StandardScaler was fitted with feature names\n",
      "  warnings.warn(\n",
      "c:\\Users\\HP\\Documents\\DSGP\\CM2603-Data_Science_Project-G20\\fall_venv\\Lib\\site-packages\\sklearn\\utils\\validation.py:2739: UserWarning: X does not have valid feature names, but StandardScaler was fitted with feature names\n",
      "  warnings.warn(\n",
      "c:\\Users\\HP\\Documents\\DSGP\\CM2603-Data_Science_Project-G20\\fall_venv\\Lib\\site-packages\\sklearn\\utils\\validation.py:2739: UserWarning: X does not have valid feature names, but StandardScaler was fitted with feature names\n",
      "  warnings.warn(\n"
     ]
    },
    {
     "name": "stdout",
     "output_type": "stream",
     "text": [
      "[21:11:35] Camera(0) Gyro(0) SpO2(0) → Prediction: ✅ Non-Fall\n",
      "[21:11:35] Camera(0) Gyro(0) SpO2(0) → Prediction: ✅ Non-Fall\n",
      "[21:11:35] Camera(0) Gyro(0) SpO2(0) → Prediction: ✅ Non-Fall\n"
     ]
    },
    {
     "name": "stderr",
     "output_type": "stream",
     "text": [
      "c:\\Users\\HP\\Documents\\DSGP\\CM2603-Data_Science_Project-G20\\fall_venv\\Lib\\site-packages\\sklearn\\utils\\validation.py:2739: UserWarning: X does not have valid feature names, but StandardScaler was fitted with feature names\n",
      "  warnings.warn(\n",
      "c:\\Users\\HP\\Documents\\DSGP\\CM2603-Data_Science_Project-G20\\fall_venv\\Lib\\site-packages\\sklearn\\utils\\validation.py:2739: UserWarning: X does not have valid feature names, but StandardScaler was fitted with feature names\n",
      "  warnings.warn(\n",
      "c:\\Users\\HP\\Documents\\DSGP\\CM2603-Data_Science_Project-G20\\fall_venv\\Lib\\site-packages\\sklearn\\utils\\validation.py:2739: UserWarning: X does not have valid feature names, but StandardScaler was fitted with feature names\n",
      "  warnings.warn(\n",
      "c:\\Users\\HP\\Documents\\DSGP\\CM2603-Data_Science_Project-G20\\fall_venv\\Lib\\site-packages\\sklearn\\utils\\validation.py:2739: UserWarning: X does not have valid feature names, but StandardScaler was fitted with feature names\n",
      "  warnings.warn(\n"
     ]
    },
    {
     "name": "stdout",
     "output_type": "stream",
     "text": [
      "[21:11:35] Camera(0) Gyro(0) SpO2(0) → Prediction: ✅ Non-Fall\n",
      "[21:11:35] Camera(0) Gyro(1) SpO2(0) → Prediction: ✅ Non-Fall\n",
      "[21:11:35] Camera(0) Gyro(0) SpO2(0) → Prediction: ✅ Non-Fall\n",
      "[21:11:35] Camera(0) Gyro(0) SpO2(0) → Prediction: ✅ Non-Fall\n",
      "[21:11:35] Camera(0) Gyro(0) SpO2(0) → Prediction: ✅ Non-Fall\n"
     ]
    },
    {
     "name": "stderr",
     "output_type": "stream",
     "text": [
      "c:\\Users\\HP\\Documents\\DSGP\\CM2603-Data_Science_Project-G20\\fall_venv\\Lib\\site-packages\\sklearn\\utils\\validation.py:2739: UserWarning: X does not have valid feature names, but StandardScaler was fitted with feature names\n",
      "  warnings.warn(\n",
      "c:\\Users\\HP\\Documents\\DSGP\\CM2603-Data_Science_Project-G20\\fall_venv\\Lib\\site-packages\\sklearn\\utils\\validation.py:2739: UserWarning: X does not have valid feature names, but StandardScaler was fitted with feature names\n",
      "  warnings.warn(\n",
      "c:\\Users\\HP\\Documents\\DSGP\\CM2603-Data_Science_Project-G20\\fall_venv\\Lib\\site-packages\\sklearn\\utils\\validation.py:2739: UserWarning: X does not have valid feature names, but StandardScaler was fitted with feature names\n",
      "  warnings.warn(\n"
     ]
    }
   ],
   "source": [
    "if __name__ == \"__main__\":\n",
    "    try:\n",
    "        # Create threads for each sensor\n",
    "        camera_thread = threading.Thread(target=process_camera)\n",
    "        gyro_thread = threading.Thread(target=process_gyro)\n",
    "        spo2_thread = threading.Thread(target=process_spo2)\n",
    "        fusion_thread = threading.Thread(target=fusion_algorithm)\n",
    "\n",
    "        # Start all threads\n",
    "        camera_thread.start()\n",
    "        gyro_thread.start()\n",
    "        spo2_thread.start()\n",
    "        fusion_thread.start()\n",
    "\n",
    "        # Wait for user to exit\n",
    "        while True:\n",
    "            time.sleep(1)\n",
    "\n",
    "    except KeyboardInterrupt:\n",
    "        print(\"\\n[INFO] Stopping all threads...\")\n",
    "\n",
    "        # Set stop event to signal all threads to stop\n",
    "        stop_event.set()\n",
    "\n",
    "        # Wait for threads to finish\n",
    "        camera_thread.join()\n",
    "        gyro_thread.join()\n",
    "        spo2_thread.join()\n",
    "        fusion_thread.join()\n",
    "\n",
    "        print(\"[INFO] All threads stopped. Exiting.\")\n",
    "\n",
    "        # Exit cleanly\n",
    "        sys.exit(0)"
   ]
  }
 ],
 "metadata": {
  "kernelspec": {
   "display_name": "fall_venv",
   "language": "python",
   "name": "python3"
  },
  "language_info": {
   "codemirror_mode": {
    "name": "ipython",
    "version": 3
   },
   "file_extension": ".py",
   "mimetype": "text/x-python",
   "name": "python",
   "nbconvert_exporter": "python",
   "pygments_lexer": "ipython3",
   "version": "3.12.0"
  }
 },
 "nbformat": 4,
 "nbformat_minor": 2
}
