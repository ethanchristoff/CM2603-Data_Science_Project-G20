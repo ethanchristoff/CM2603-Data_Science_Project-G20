{
 "cells": [
  {
   "cell_type": "code",
   "id": "initial_id",
   "metadata": {
    "collapsed": true,
    "ExecuteTime": {
     "end_time": "2025-01-27T07:13:15.525849Z",
     "start_time": "2025-01-27T07:13:06.699157Z"
    }
   },
   "source": [
    "from sklearn.model_selection import ParameterGrid\n",
    "import time\n",
    "import numpy as np\n",
    "import keras\n",
    "from sklearn.metrics import classification_report"
   ],
   "outputs": [],
   "execution_count": 1
  },
  {
   "metadata": {
    "ExecuteTime": {
     "end_time": "2025-01-27T07:13:15.794290Z",
     "start_time": "2025-01-27T07:13:15.528217Z"
    }
   },
   "cell_type": "code",
   "source": [
    "X_train = np.load('X_train.npy')  # Load your preprocessed training data\n",
    "y_train = np.load('y_train.npy')\n",
    "X_val = np.load('X_val.npy')  # Load your validation data\n",
    "y_val = np.load('y_val.npy')\n",
    "X_test = np.load('X_test.npy')  # Load your test data\n",
    "y_test = np.load('y_test.npy')"
   ],
   "id": "fdbbd7b87668d8d2",
   "outputs": [],
   "execution_count": 2
  },
  {
   "metadata": {
    "ExecuteTime": {
     "end_time": "2025-01-27T07:13:15.965288Z",
     "start_time": "2025-01-27T07:13:15.958763Z"
    }
   },
   "cell_type": "code",
   "source": [
    "# Define the parameter grid\n",
    "param_grid = {\n",
    "    \"filters\": [32, 64],\n",
    "    \"kernel_size\": [3, 5],\n",
    "    \"dropout_rate\": [0.2, 0.4],\n",
    "    \"batch_size\": [16, 32],\n",
    "    \"learning_rate\": [0.001, 0.0005]\n",
    "}"
   ],
   "id": "e87ded49060937af",
   "outputs": [],
   "execution_count": 3
  },
  {
   "metadata": {
    "ExecuteTime": {
     "end_time": "2025-01-27T07:13:15.988408Z",
     "start_time": "2025-01-27T07:13:15.980499Z"
    }
   },
   "cell_type": "code",
   "source": [
    "# Create a list of all parameter combinations\n",
    "param_combinations = list(ParameterGrid(param_grid))\n",
    "print(f\"Total combinations to try: {len(param_combinations)}\")"
   ],
   "id": "5c4a4756a168b4eb",
   "outputs": [
    {
     "name": "stdout",
     "output_type": "stream",
     "text": [
      "Total combinations to try: 32\n"
     ]
    }
   ],
   "execution_count": 4
  },
  {
   "metadata": {
    "ExecuteTime": {
     "end_time": "2025-01-27T07:13:16.094856Z",
     "start_time": "2025-01-27T07:13:16.090837Z"
    }
   },
   "cell_type": "code",
   "source": [
    "# Limit the number of combinations to try\n",
    "max_combinations = 10\n",
    "param_combinations = param_combinations[:max_combinations]\n",
    "\n",
    "# Results storage\n",
    "results = []"
   ],
   "id": "be63b3ae828e2f56",
   "outputs": [],
   "execution_count": 5
  },
  {
   "metadata": {
    "ExecuteTime": {
     "end_time": "2025-01-27T07:13:32.764587Z",
     "start_time": "2025-01-27T07:13:32.754496Z"
    }
   },
   "cell_type": "code",
   "source": [
    "num_classes = len(np.unique(y_train))\n",
    "\n",
    "def make_model(input_shape, filters, kernel_size, dropout_rate):\n",
    "    input_layer = keras.layers.Input(input_shape)\n",
    "    x = keras.layers.Conv1D(filters=filters, kernel_size=kernel_size, padding=\"same\")(input_layer)\n",
    "    x = keras.layers.BatchNormalization()(x)\n",
    "    x = keras.layers.ReLU()(x)\n",
    "    x = keras.layers.Dropout(dropout_rate)(x)\n",
    "\n",
    "    x = keras.layers.GlobalAveragePooling1D()(x)\n",
    "    output_layer = keras.layers.Dense(num_classes, activation=\"softmax\")(x)\n",
    "\n",
    "    model = keras.models.Model(inputs=input_layer, outputs=output_layer)\n",
    "    return model"
   ],
   "id": "91745537f5846151",
   "outputs": [],
   "execution_count": 6
  },
  {
   "metadata": {
    "ExecuteTime": {
     "end_time": "2025-01-27T07:17:04.338844Z",
     "start_time": "2025-01-27T07:13:41.193341Z"
    }
   },
   "cell_type": "code",
   "source": [
    "best_val_acc = 0\n",
    "best_model_path = \"Saved Models/best_cnn.keras\"\n",
    "\n",
    "for params in param_combinations:\n",
    "    print(f\"\\nTraining with parameters: {params}\")\n",
    "    start_time = time.time()\n",
    "\n",
    "    # Create model\n",
    "    model = make_model(\n",
    "        input_shape=(X_train.shape[1], X_train.shape[2]),\n",
    "        filters=params[\"filters\"],\n",
    "        kernel_size=params[\"kernel_size\"],\n",
    "        dropout_rate=params[\"dropout_rate\"]\n",
    "    )\n",
    "\n",
    "    # Compile the model\n",
    "    optimizer = keras.optimizers.Adam(learning_rate=params[\"learning_rate\"])\n",
    "    model.compile(\n",
    "        optimizer=optimizer,\n",
    "        loss=\"sparse_categorical_crossentropy\",\n",
    "        metrics=[\"sparse_categorical_accuracy\"]\n",
    "    )\n",
    "\n",
    "    # Train the model (fewer epochs for grid search)\n",
    "    history = model.fit(\n",
    "        X_train, y_train,\n",
    "        validation_data=(X_val, y_val),\n",
    "        epochs=8,  # Use fewer epochs for speed\n",
    "        batch_size=params[\"batch_size\"],\n",
    "        verbose=1\n",
    "    )\n",
    "\n",
    "    # Evaluate on the validation set\n",
    "    val_loss, val_acc = model.evaluate(X_val, y_val, verbose=0)\n",
    "    elapsed_time = time.time() - start_time\n",
    "\n",
    "    # Check if this is the best model\n",
    "    if val_acc > best_val_acc:\n",
    "        best_val_acc = val_acc\n",
    "        print(f\"New best model found with validation accuracy: {val_acc:.4f}\")\n",
    "        model.save(best_model_path)  # Save the best model\n",
    "\n",
    "    # Store the results\n",
    "    results.append({\n",
    "        \"params\": params,\n",
    "        \"val_loss\": val_loss,\n",
    "        \"val_acc\": val_acc,\n",
    "        \"time\": elapsed_time\n",
    "    })\n",
    "\n",
    "    print(f\"Validation Accuracy: {val_acc:.4f} | Time: {elapsed_time:.2f}s\")"
   ],
   "id": "ee44fc538c9e9c5d",
   "outputs": [
    {
     "name": "stdout",
     "output_type": "stream",
     "text": [
      "\n",
      "Training with parameters: {'batch_size': 16, 'dropout_rate': 0.2, 'filters': 32, 'kernel_size': 3, 'learning_rate': 0.001}\n",
      "Epoch 1/8\n",
      "\u001B[1m164/164\u001B[0m \u001B[32m━━━━━━━━━━━━━━━━━━━━\u001B[0m\u001B[37m\u001B[0m \u001B[1m3s\u001B[0m 12ms/step - loss: 0.6185 - sparse_categorical_accuracy: 0.6981 - val_loss: 0.4836 - val_sparse_categorical_accuracy: 0.7579\n",
      "Epoch 2/8\n",
      "\u001B[1m164/164\u001B[0m \u001B[32m━━━━━━━━━━━━━━━━━━━━\u001B[0m\u001B[37m\u001B[0m \u001B[1m2s\u001B[0m 12ms/step - loss: 0.4429 - sparse_categorical_accuracy: 0.8484 - val_loss: 0.4070 - val_sparse_categorical_accuracy: 0.8684\n",
      "Epoch 3/8\n",
      "\u001B[1m164/164\u001B[0m \u001B[32m━━━━━━━━━━━━━━━━━━━━\u001B[0m\u001B[37m\u001B[0m \u001B[1m2s\u001B[0m 11ms/step - loss: 0.4118 - sparse_categorical_accuracy: 0.8432 - val_loss: 0.3869 - val_sparse_categorical_accuracy: 0.8722\n",
      "Epoch 4/8\n",
      "\u001B[1m164/164\u001B[0m \u001B[32m━━━━━━━━━━━━━━━━━━━━\u001B[0m\u001B[37m\u001B[0m \u001B[1m2s\u001B[0m 10ms/step - loss: 0.4126 - sparse_categorical_accuracy: 0.8423 - val_loss: 0.3822 - val_sparse_categorical_accuracy: 0.8732\n",
      "Epoch 5/8\n",
      "\u001B[1m164/164\u001B[0m \u001B[32m━━━━━━━━━━━━━━━━━━━━\u001B[0m\u001B[37m\u001B[0m \u001B[1m2s\u001B[0m 10ms/step - loss: 0.4059 - sparse_categorical_accuracy: 0.8345 - val_loss: 0.3765 - val_sparse_categorical_accuracy: 0.8742\n",
      "Epoch 6/8\n",
      "\u001B[1m164/164\u001B[0m \u001B[32m━━━━━━━━━━━━━━━━━━━━\u001B[0m\u001B[37m\u001B[0m \u001B[1m2s\u001B[0m 10ms/step - loss: 0.4124 - sparse_categorical_accuracy: 0.8361 - val_loss: 0.3667 - val_sparse_categorical_accuracy: 0.8761\n",
      "Epoch 7/8\n",
      "\u001B[1m164/164\u001B[0m \u001B[32m━━━━━━━━━━━━━━━━━━━━\u001B[0m\u001B[37m\u001B[0m \u001B[1m2s\u001B[0m 14ms/step - loss: 0.3851 - sparse_categorical_accuracy: 0.8543 - val_loss: 0.3618 - val_sparse_categorical_accuracy: 0.8722\n",
      "Epoch 8/8\n",
      "\u001B[1m164/164\u001B[0m \u001B[32m━━━━━━━━━━━━━━━━━━━━\u001B[0m\u001B[37m\u001B[0m \u001B[1m2s\u001B[0m 11ms/step - loss: 0.3810 - sparse_categorical_accuracy: 0.8506 - val_loss: 0.3627 - val_sparse_categorical_accuracy: 0.8780\n",
      "New best model found with validation accuracy: 0.8780\n",
      "Validation Accuracy: 0.8780 | Time: 16.53s\n",
      "\n",
      "Training with parameters: {'batch_size': 16, 'dropout_rate': 0.2, 'filters': 32, 'kernel_size': 3, 'learning_rate': 0.0005}\n",
      "Epoch 1/8\n",
      "\u001B[1m164/164\u001B[0m \u001B[32m━━━━━━━━━━━━━━━━━━━━\u001B[0m\u001B[37m\u001B[0m \u001B[1m3s\u001B[0m 11ms/step - loss: 0.7205 - sparse_categorical_accuracy: 0.5961 - val_loss: 0.5652 - val_sparse_categorical_accuracy: 0.6532\n",
      "Epoch 2/8\n",
      "\u001B[1m164/164\u001B[0m \u001B[32m━━━━━━━━━━━━━━━━━━━━\u001B[0m\u001B[37m\u001B[0m \u001B[1m2s\u001B[0m 11ms/step - loss: 0.5122 - sparse_categorical_accuracy: 0.8214 - val_loss: 0.4527 - val_sparse_categorical_accuracy: 0.8425\n",
      "Epoch 3/8\n",
      "\u001B[1m164/164\u001B[0m \u001B[32m━━━━━━━━━━━━━━━━━━━━\u001B[0m\u001B[37m\u001B[0m \u001B[1m2s\u001B[0m 11ms/step - loss: 0.4644 - sparse_categorical_accuracy: 0.8293 - val_loss: 0.4221 - val_sparse_categorical_accuracy: 0.8636\n",
      "Epoch 4/8\n",
      "\u001B[1m164/164\u001B[0m \u001B[32m━━━━━━━━━━━━━━━━━━━━\u001B[0m\u001B[37m\u001B[0m \u001B[1m2s\u001B[0m 11ms/step - loss: 0.4395 - sparse_categorical_accuracy: 0.8425 - val_loss: 0.4091 - val_sparse_categorical_accuracy: 0.8713\n",
      "Epoch 5/8\n",
      "\u001B[1m164/164\u001B[0m \u001B[32m━━━━━━━━━━━━━━━━━━━━\u001B[0m\u001B[37m\u001B[0m \u001B[1m2s\u001B[0m 11ms/step - loss: 0.4365 - sparse_categorical_accuracy: 0.8283 - val_loss: 0.4011 - val_sparse_categorical_accuracy: 0.8761\n",
      "Epoch 6/8\n",
      "\u001B[1m164/164\u001B[0m \u001B[32m━━━━━━━━━━━━━━━━━━━━\u001B[0m\u001B[37m\u001B[0m \u001B[1m2s\u001B[0m 11ms/step - loss: 0.4267 - sparse_categorical_accuracy: 0.8393 - val_loss: 0.3904 - val_sparse_categorical_accuracy: 0.8742\n",
      "Epoch 7/8\n",
      "\u001B[1m164/164\u001B[0m \u001B[32m━━━━━━━━━━━━━━━━━━━━\u001B[0m\u001B[37m\u001B[0m \u001B[1m2s\u001B[0m 13ms/step - loss: 0.4093 - sparse_categorical_accuracy: 0.8461 - val_loss: 0.3862 - val_sparse_categorical_accuracy: 0.8646\n",
      "Epoch 8/8\n",
      "\u001B[1m164/164\u001B[0m \u001B[32m━━━━━━━━━━━━━━━━━━━━\u001B[0m\u001B[37m\u001B[0m \u001B[1m2s\u001B[0m 10ms/step - loss: 0.3973 - sparse_categorical_accuracy: 0.8496 - val_loss: 0.3799 - val_sparse_categorical_accuracy: 0.8646\n",
      "Validation Accuracy: 0.8646 | Time: 15.92s\n",
      "\n",
      "Training with parameters: {'batch_size': 16, 'dropout_rate': 0.2, 'filters': 32, 'kernel_size': 5, 'learning_rate': 0.001}\n",
      "Epoch 1/8\n",
      "\u001B[1m164/164\u001B[0m \u001B[32m━━━━━━━━━━━━━━━━━━━━\u001B[0m\u001B[37m\u001B[0m \u001B[1m3s\u001B[0m 12ms/step - loss: 0.5520 - sparse_categorical_accuracy: 0.7434 - val_loss: 0.4100 - val_sparse_categorical_accuracy: 0.8521\n",
      "Epoch 2/8\n",
      "\u001B[1m164/164\u001B[0m \u001B[32m━━━━━━━━━━━━━━━━━━━━\u001B[0m\u001B[37m\u001B[0m \u001B[1m2s\u001B[0m 11ms/step - loss: 0.4343 - sparse_categorical_accuracy: 0.8412 - val_loss: 0.3899 - val_sparse_categorical_accuracy: 0.8463\n",
      "Epoch 3/8\n",
      "\u001B[1m164/164\u001B[0m \u001B[32m━━━━━━━━━━━━━━━━━━━━\u001B[0m\u001B[37m\u001B[0m \u001B[1m2s\u001B[0m 11ms/step - loss: 0.4304 - sparse_categorical_accuracy: 0.8247 - val_loss: 0.3885 - val_sparse_categorical_accuracy: 0.8549\n",
      "Epoch 4/8\n",
      "\u001B[1m164/164\u001B[0m \u001B[32m━━━━━━━━━━━━━━━━━━━━\u001B[0m\u001B[37m\u001B[0m \u001B[1m3s\u001B[0m 12ms/step - loss: 0.3949 - sparse_categorical_accuracy: 0.8444 - val_loss: 0.3564 - val_sparse_categorical_accuracy: 0.8703\n",
      "Epoch 5/8\n",
      "\u001B[1m164/164\u001B[0m \u001B[32m━━━━━━━━━━━━━━━━━━━━\u001B[0m\u001B[37m\u001B[0m \u001B[1m2s\u001B[0m 12ms/step - loss: 0.3772 - sparse_categorical_accuracy: 0.8464 - val_loss: 0.3677 - val_sparse_categorical_accuracy: 0.8799\n",
      "Epoch 6/8\n",
      "\u001B[1m164/164\u001B[0m \u001B[32m━━━━━━━━━━━━━━━━━━━━\u001B[0m\u001B[37m\u001B[0m \u001B[1m2s\u001B[0m 10ms/step - loss: 0.3995 - sparse_categorical_accuracy: 0.8466 - val_loss: 0.3532 - val_sparse_categorical_accuracy: 0.8847\n",
      "Epoch 7/8\n",
      "\u001B[1m164/164\u001B[0m \u001B[32m━━━━━━━━━━━━━━━━━━━━\u001B[0m\u001B[37m\u001B[0m \u001B[1m2s\u001B[0m 10ms/step - loss: 0.3667 - sparse_categorical_accuracy: 0.8632 - val_loss: 0.3339 - val_sparse_categorical_accuracy: 0.8828\n",
      "Epoch 8/8\n",
      "\u001B[1m164/164\u001B[0m \u001B[32m━━━━━━━━━━━━━━━━━━━━\u001B[0m\u001B[37m\u001B[0m \u001B[1m2s\u001B[0m 10ms/step - loss: 0.3783 - sparse_categorical_accuracy: 0.8456 - val_loss: 0.3228 - val_sparse_categorical_accuracy: 0.8915\n",
      "New best model found with validation accuracy: 0.8915\n",
      "Validation Accuracy: 0.8915 | Time: 16.77s\n",
      "\n",
      "Training with parameters: {'batch_size': 16, 'dropout_rate': 0.2, 'filters': 32, 'kernel_size': 5, 'learning_rate': 0.0005}\n",
      "Epoch 1/8\n",
      "\u001B[1m164/164\u001B[0m \u001B[32m━━━━━━━━━━━━━━━━━━━━\u001B[0m\u001B[37m\u001B[0m \u001B[1m3s\u001B[0m 11ms/step - loss: 0.6494 - sparse_categorical_accuracy: 0.6698 - val_loss: 0.4918 - val_sparse_categorical_accuracy: 0.7464\n",
      "Epoch 2/8\n",
      "\u001B[1m164/164\u001B[0m \u001B[32m━━━━━━━━━━━━━━━━━━━━\u001B[0m\u001B[37m\u001B[0m \u001B[1m2s\u001B[0m 10ms/step - loss: 0.4944 - sparse_categorical_accuracy: 0.7904 - val_loss: 0.4314 - val_sparse_categorical_accuracy: 0.8184\n",
      "Epoch 3/8\n",
      "\u001B[1m164/164\u001B[0m \u001B[32m━━━━━━━━━━━━━━━━━━━━\u001B[0m\u001B[37m\u001B[0m \u001B[1m2s\u001B[0m 13ms/step - loss: 0.4327 - sparse_categorical_accuracy: 0.8420 - val_loss: 0.3962 - val_sparse_categorical_accuracy: 0.8799\n",
      "Epoch 4/8\n",
      "\u001B[1m164/164\u001B[0m \u001B[32m━━━━━━━━━━━━━━━━━━━━\u001B[0m\u001B[37m\u001B[0m \u001B[1m2s\u001B[0m 11ms/step - loss: 0.4505 - sparse_categorical_accuracy: 0.8206 - val_loss: 0.3841 - val_sparse_categorical_accuracy: 0.8732\n",
      "Epoch 5/8\n",
      "\u001B[1m164/164\u001B[0m \u001B[32m━━━━━━━━━━━━━━━━━━━━\u001B[0m\u001B[37m\u001B[0m \u001B[1m2s\u001B[0m 10ms/step - loss: 0.4217 - sparse_categorical_accuracy: 0.8350 - val_loss: 0.3798 - val_sparse_categorical_accuracy: 0.8626\n",
      "Epoch 6/8\n",
      "\u001B[1m164/164\u001B[0m \u001B[32m━━━━━━━━━━━━━━━━━━━━\u001B[0m\u001B[37m\u001B[0m \u001B[1m2s\u001B[0m 10ms/step - loss: 0.4146 - sparse_categorical_accuracy: 0.8393 - val_loss: 0.3664 - val_sparse_categorical_accuracy: 0.8742\n",
      "Epoch 7/8\n",
      "\u001B[1m164/164\u001B[0m \u001B[32m━━━━━━━━━━━━━━━━━━━━\u001B[0m\u001B[37m\u001B[0m \u001B[1m2s\u001B[0m 11ms/step - loss: 0.4034 - sparse_categorical_accuracy: 0.8419 - val_loss: 0.3645 - val_sparse_categorical_accuracy: 0.8694\n",
      "Epoch 8/8\n",
      "\u001B[1m164/164\u001B[0m \u001B[32m━━━━━━━━━━━━━━━━━━━━\u001B[0m\u001B[37m\u001B[0m \u001B[1m2s\u001B[0m 11ms/step - loss: 0.3919 - sparse_categorical_accuracy: 0.8414 - val_loss: 0.3592 - val_sparse_categorical_accuracy: 0.8838\n",
      "Validation Accuracy: 0.8838 | Time: 16.10s\n",
      "\n",
      "Training with parameters: {'batch_size': 16, 'dropout_rate': 0.2, 'filters': 64, 'kernel_size': 3, 'learning_rate': 0.001}\n",
      "Epoch 1/8\n",
      "\u001B[1m164/164\u001B[0m \u001B[32m━━━━━━━━━━━━━━━━━━━━\u001B[0m\u001B[37m\u001B[0m \u001B[1m4s\u001B[0m 20ms/step - loss: 0.5997 - sparse_categorical_accuracy: 0.7140 - val_loss: 0.4173 - val_sparse_categorical_accuracy: 0.8348\n",
      "Epoch 2/8\n",
      "\u001B[1m164/164\u001B[0m \u001B[32m━━━━━━━━━━━━━━━━━━━━\u001B[0m\u001B[37m\u001B[0m \u001B[1m3s\u001B[0m 18ms/step - loss: 0.4230 - sparse_categorical_accuracy: 0.8417 - val_loss: 0.3764 - val_sparse_categorical_accuracy: 0.8742\n",
      "Epoch 3/8\n",
      "\u001B[1m164/164\u001B[0m \u001B[32m━━━━━━━━━━━━━━━━━━━━\u001B[0m\u001B[37m\u001B[0m \u001B[1m3s\u001B[0m 18ms/step - loss: 0.4087 - sparse_categorical_accuracy: 0.8347 - val_loss: 0.3649 - val_sparse_categorical_accuracy: 0.8732\n",
      "Epoch 4/8\n",
      "\u001B[1m164/164\u001B[0m \u001B[32m━━━━━━━━━━━━━━━━━━━━\u001B[0m\u001B[37m\u001B[0m \u001B[1m3s\u001B[0m 17ms/step - loss: 0.3901 - sparse_categorical_accuracy: 0.8521 - val_loss: 0.3841 - val_sparse_categorical_accuracy: 0.8453\n",
      "Epoch 5/8\n",
      "\u001B[1m164/164\u001B[0m \u001B[32m━━━━━━━━━━━━━━━━━━━━\u001B[0m\u001B[37m\u001B[0m \u001B[1m3s\u001B[0m 21ms/step - loss: 0.3908 - sparse_categorical_accuracy: 0.8404 - val_loss: 0.3519 - val_sparse_categorical_accuracy: 0.8732\n",
      "Epoch 6/8\n",
      "\u001B[1m164/164\u001B[0m \u001B[32m━━━━━━━━━━━━━━━━━━━━\u001B[0m\u001B[37m\u001B[0m \u001B[1m3s\u001B[0m 18ms/step - loss: 0.3700 - sparse_categorical_accuracy: 0.8517 - val_loss: 0.3410 - val_sparse_categorical_accuracy: 0.8684\n",
      "Epoch 7/8\n",
      "\u001B[1m164/164\u001B[0m \u001B[32m━━━━━━━━━━━━━━━━━━━━\u001B[0m\u001B[37m\u001B[0m \u001B[1m3s\u001B[0m 18ms/step - loss: 0.3526 - sparse_categorical_accuracy: 0.8614 - val_loss: 0.3561 - val_sparse_categorical_accuracy: 0.8722\n",
      "Epoch 8/8\n",
      "\u001B[1m164/164\u001B[0m \u001B[32m━━━━━━━━━━━━━━━━━━━━\u001B[0m\u001B[37m\u001B[0m \u001B[1m3s\u001B[0m 18ms/step - loss: 0.3860 - sparse_categorical_accuracy: 0.8561 - val_loss: 0.3393 - val_sparse_categorical_accuracy: 0.8790\n",
      "Validation Accuracy: 0.8790 | Time: 25.82s\n",
      "\n",
      "Training with parameters: {'batch_size': 16, 'dropout_rate': 0.2, 'filters': 64, 'kernel_size': 3, 'learning_rate': 0.0005}\n",
      "Epoch 1/8\n",
      "\u001B[1m164/164\u001B[0m \u001B[32m━━━━━━━━━━━━━━━━━━━━\u001B[0m\u001B[37m\u001B[0m \u001B[1m4s\u001B[0m 21ms/step - loss: 0.5860 - sparse_categorical_accuracy: 0.7155 - val_loss: 0.4454 - val_sparse_categorical_accuracy: 0.7954\n",
      "Epoch 2/8\n",
      "\u001B[1m164/164\u001B[0m \u001B[32m━━━━━━━━━━━━━━━━━━━━\u001B[0m\u001B[37m\u001B[0m \u001B[1m3s\u001B[0m 19ms/step - loss: 0.4504 - sparse_categorical_accuracy: 0.8210 - val_loss: 0.3936 - val_sparse_categorical_accuracy: 0.8386\n",
      "Epoch 3/8\n",
      "\u001B[1m164/164\u001B[0m \u001B[32m━━━━━━━━━━━━━━━━━━━━\u001B[0m\u001B[37m\u001B[0m \u001B[1m3s\u001B[0m 18ms/step - loss: 0.4161 - sparse_categorical_accuracy: 0.8336 - val_loss: 0.3717 - val_sparse_categorical_accuracy: 0.8453\n",
      "Epoch 4/8\n",
      "\u001B[1m164/164\u001B[0m \u001B[32m━━━━━━━━━━━━━━━━━━━━\u001B[0m\u001B[37m\u001B[0m \u001B[1m3s\u001B[0m 18ms/step - loss: 0.3967 - sparse_categorical_accuracy: 0.8336 - val_loss: 0.3607 - val_sparse_categorical_accuracy: 0.8703\n",
      "Epoch 5/8\n",
      "\u001B[1m164/164\u001B[0m \u001B[32m━━━━━━━━━━━━━━━━━━━━\u001B[0m\u001B[37m\u001B[0m \u001B[1m3s\u001B[0m 18ms/step - loss: 0.3858 - sparse_categorical_accuracy: 0.8543 - val_loss: 0.3547 - val_sparse_categorical_accuracy: 0.8694\n",
      "Epoch 6/8\n",
      "\u001B[1m164/164\u001B[0m \u001B[32m━━━━━━━━━━━━━━━━━━━━\u001B[0m\u001B[37m\u001B[0m \u001B[1m3s\u001B[0m 21ms/step - loss: 0.3981 - sparse_categorical_accuracy: 0.8370 - val_loss: 0.3491 - val_sparse_categorical_accuracy: 0.8770\n",
      "Epoch 7/8\n",
      "\u001B[1m164/164\u001B[0m \u001B[32m━━━━━━━━━━━━━━━━━━━━\u001B[0m\u001B[37m\u001B[0m \u001B[1m3s\u001B[0m 17ms/step - loss: 0.3697 - sparse_categorical_accuracy: 0.8569 - val_loss: 0.3506 - val_sparse_categorical_accuracy: 0.8684\n",
      "Epoch 8/8\n",
      "\u001B[1m164/164\u001B[0m \u001B[32m━━━━━━━━━━━━━━━━━━━━\u001B[0m\u001B[37m\u001B[0m \u001B[1m3s\u001B[0m 17ms/step - loss: 0.3699 - sparse_categorical_accuracy: 0.8660 - val_loss: 0.3426 - val_sparse_categorical_accuracy: 0.8770\n",
      "Validation Accuracy: 0.8770 | Time: 25.86s\n",
      "\n",
      "Training with parameters: {'batch_size': 16, 'dropout_rate': 0.2, 'filters': 64, 'kernel_size': 5, 'learning_rate': 0.001}\n",
      "Epoch 1/8\n",
      "\u001B[1m164/164\u001B[0m \u001B[32m━━━━━━━━━━━━━━━━━━━━\u001B[0m\u001B[37m\u001B[0m \u001B[1m4s\u001B[0m 19ms/step - loss: 0.5797 - sparse_categorical_accuracy: 0.7295 - val_loss: 0.4342 - val_sparse_categorical_accuracy: 0.8156\n",
      "Epoch 2/8\n",
      "\u001B[1m164/164\u001B[0m \u001B[32m━━━━━━━━━━━━━━━━━━━━\u001B[0m\u001B[37m\u001B[0m \u001B[1m4s\u001B[0m 22ms/step - loss: 0.4443 - sparse_categorical_accuracy: 0.8238 - val_loss: 0.3826 - val_sparse_categorical_accuracy: 0.8521\n",
      "Epoch 3/8\n",
      "\u001B[1m164/164\u001B[0m \u001B[32m━━━━━━━━━━━━━━━━━━━━\u001B[0m\u001B[37m\u001B[0m \u001B[1m3s\u001B[0m 20ms/step - loss: 0.4150 - sparse_categorical_accuracy: 0.8417 - val_loss: 0.3661 - val_sparse_categorical_accuracy: 0.8799\n",
      "Epoch 4/8\n",
      "\u001B[1m164/164\u001B[0m \u001B[32m━━━━━━━━━━━━━━━━━━━━\u001B[0m\u001B[37m\u001B[0m \u001B[1m3s\u001B[0m 19ms/step - loss: 0.3662 - sparse_categorical_accuracy: 0.8647 - val_loss: 0.3655 - val_sparse_categorical_accuracy: 0.8674\n",
      "Epoch 5/8\n",
      "\u001B[1m164/164\u001B[0m \u001B[32m━━━━━━━━━━━━━━━━━━━━\u001B[0m\u001B[37m\u001B[0m \u001B[1m3s\u001B[0m 19ms/step - loss: 0.4101 - sparse_categorical_accuracy: 0.8363 - val_loss: 0.3519 - val_sparse_categorical_accuracy: 0.8809\n",
      "Epoch 6/8\n",
      "\u001B[1m164/164\u001B[0m \u001B[32m━━━━━━━━━━━━━━━━━━━━\u001B[0m\u001B[37m\u001B[0m \u001B[1m3s\u001B[0m 20ms/step - loss: 0.3911 - sparse_categorical_accuracy: 0.8500 - val_loss: 0.3298 - val_sparse_categorical_accuracy: 0.8866\n",
      "Epoch 7/8\n",
      "\u001B[1m164/164\u001B[0m \u001B[32m━━━━━━━━━━━━━━━━━━━━\u001B[0m\u001B[37m\u001B[0m \u001B[1m4s\u001B[0m 24ms/step - loss: 0.3614 - sparse_categorical_accuracy: 0.8579 - val_loss: 0.3204 - val_sparse_categorical_accuracy: 0.8982\n",
      "Epoch 8/8\n",
      "\u001B[1m164/164\u001B[0m \u001B[32m━━━━━━━━━━━━━━━━━━━━\u001B[0m\u001B[37m\u001B[0m \u001B[1m3s\u001B[0m 18ms/step - loss: 0.3554 - sparse_categorical_accuracy: 0.8702 - val_loss: 0.3100 - val_sparse_categorical_accuracy: 0.9020\n",
      "New best model found with validation accuracy: 0.9020\n",
      "Validation Accuracy: 0.9020 | Time: 28.08s\n",
      "\n",
      "Training with parameters: {'batch_size': 16, 'dropout_rate': 0.2, 'filters': 64, 'kernel_size': 5, 'learning_rate': 0.0005}\n",
      "Epoch 1/8\n",
      "\u001B[1m164/164\u001B[0m \u001B[32m━━━━━━━━━━━━━━━━━━━━\u001B[0m\u001B[37m\u001B[0m \u001B[1m5s\u001B[0m 23ms/step - loss: 0.6189 - sparse_categorical_accuracy: 0.6879 - val_loss: 0.4700 - val_sparse_categorical_accuracy: 0.7618\n",
      "Epoch 2/8\n",
      "\u001B[1m164/164\u001B[0m \u001B[32m━━━━━━━━━━━━━━━━━━━━\u001B[0m\u001B[37m\u001B[0m \u001B[1m3s\u001B[0m 16ms/step - loss: 0.4458 - sparse_categorical_accuracy: 0.8352 - val_loss: 0.3850 - val_sparse_categorical_accuracy: 0.8742\n",
      "Epoch 3/8\n",
      "\u001B[1m164/164\u001B[0m \u001B[32m━━━━━━━━━━━━━━━━━━━━\u001B[0m\u001B[37m\u001B[0m \u001B[1m3s\u001B[0m 18ms/step - loss: 0.4249 - sparse_categorical_accuracy: 0.8461 - val_loss: 0.3711 - val_sparse_categorical_accuracy: 0.8809\n",
      "Epoch 4/8\n",
      "\u001B[1m164/164\u001B[0m \u001B[32m━━━━━━━━━━━━━━━━━━━━\u001B[0m\u001B[37m\u001B[0m \u001B[1m4s\u001B[0m 21ms/step - loss: 0.3920 - sparse_categorical_accuracy: 0.8419 - val_loss: 0.3647 - val_sparse_categorical_accuracy: 0.8838\n",
      "Epoch 5/8\n",
      "\u001B[1m164/164\u001B[0m \u001B[32m━━━━━━━━━━━━━━━━━━━━\u001B[0m\u001B[37m\u001B[0m \u001B[1m3s\u001B[0m 18ms/step - loss: 0.4063 - sparse_categorical_accuracy: 0.8567 - val_loss: 0.3619 - val_sparse_categorical_accuracy: 0.8732\n",
      "Epoch 6/8\n",
      "\u001B[1m164/164\u001B[0m \u001B[32m━━━━━━━━━━━━━━━━━━━━\u001B[0m\u001B[37m\u001B[0m \u001B[1m3s\u001B[0m 18ms/step - loss: 0.3962 - sparse_categorical_accuracy: 0.8452 - val_loss: 0.3551 - val_sparse_categorical_accuracy: 0.8674\n",
      "Epoch 7/8\n",
      "\u001B[1m164/164\u001B[0m \u001B[32m━━━━━━━━━━━━━━━━━━━━\u001B[0m\u001B[37m\u001B[0m \u001B[1m3s\u001B[0m 18ms/step - loss: 0.3628 - sparse_categorical_accuracy: 0.8665 - val_loss: 0.3426 - val_sparse_categorical_accuracy: 0.8818\n",
      "Epoch 8/8\n",
      "\u001B[1m164/164\u001B[0m \u001B[32m━━━━━━━━━━━━━━━━━━━━\u001B[0m\u001B[37m\u001B[0m \u001B[1m3s\u001B[0m 18ms/step - loss: 0.3665 - sparse_categorical_accuracy: 0.8654 - val_loss: 0.3341 - val_sparse_categorical_accuracy: 0.8895\n",
      "Validation Accuracy: 0.8895 | Time: 26.55s\n",
      "\n",
      "Training with parameters: {'batch_size': 16, 'dropout_rate': 0.4, 'filters': 32, 'kernel_size': 3, 'learning_rate': 0.001}\n",
      "Epoch 1/8\n",
      "\u001B[1m164/164\u001B[0m \u001B[32m━━━━━━━━━━━━━━━━━━━━\u001B[0m\u001B[37m\u001B[0m \u001B[1m3s\u001B[0m 11ms/step - loss: 0.6314 - sparse_categorical_accuracy: 0.6741 - val_loss: 0.4616 - val_sparse_categorical_accuracy: 0.7791\n",
      "Epoch 2/8\n",
      "\u001B[1m164/164\u001B[0m \u001B[32m━━━━━━━━━━━━━━━━━━━━\u001B[0m\u001B[37m\u001B[0m \u001B[1m2s\u001B[0m 10ms/step - loss: 0.4559 - sparse_categorical_accuracy: 0.8292 - val_loss: 0.3967 - val_sparse_categorical_accuracy: 0.8684\n",
      "Epoch 3/8\n",
      "\u001B[1m164/164\u001B[0m \u001B[32m━━━━━━━━━━━━━━━━━━━━\u001B[0m\u001B[37m\u001B[0m \u001B[1m2s\u001B[0m 10ms/step - loss: 0.4131 - sparse_categorical_accuracy: 0.8400 - val_loss: 0.3791 - val_sparse_categorical_accuracy: 0.8694\n",
      "Epoch 4/8\n",
      "\u001B[1m164/164\u001B[0m \u001B[32m━━━━━━━━━━━━━━━━━━━━\u001B[0m\u001B[37m\u001B[0m \u001B[1m2s\u001B[0m 11ms/step - loss: 0.4226 - sparse_categorical_accuracy: 0.8286 - val_loss: 0.3668 - val_sparse_categorical_accuracy: 0.8665\n",
      "Epoch 5/8\n",
      "\u001B[1m164/164\u001B[0m \u001B[32m━━━━━━━━━━━━━━━━━━━━\u001B[0m\u001B[37m\u001B[0m \u001B[1m2s\u001B[0m 10ms/step - loss: 0.3980 - sparse_categorical_accuracy: 0.8411 - val_loss: 0.3667 - val_sparse_categorical_accuracy: 0.8761\n",
      "Epoch 6/8\n",
      "\u001B[1m164/164\u001B[0m \u001B[32m━━━━━━━━━━━━━━━━━━━━\u001B[0m\u001B[37m\u001B[0m \u001B[1m2s\u001B[0m 10ms/step - loss: 0.3902 - sparse_categorical_accuracy: 0.8500 - val_loss: 0.3570 - val_sparse_categorical_accuracy: 0.8770\n",
      "Epoch 7/8\n",
      "\u001B[1m164/164\u001B[0m \u001B[32m━━━━━━━━━━━━━━━━━━━━\u001B[0m\u001B[37m\u001B[0m \u001B[1m2s\u001B[0m 14ms/step - loss: 0.3880 - sparse_categorical_accuracy: 0.8426 - val_loss: 0.3539 - val_sparse_categorical_accuracy: 0.8646\n",
      "Epoch 8/8\n",
      "\u001B[1m164/164\u001B[0m \u001B[32m━━━━━━━━━━━━━━━━━━━━\u001B[0m\u001B[37m\u001B[0m \u001B[1m2s\u001B[0m 10ms/step - loss: 0.3699 - sparse_categorical_accuracy: 0.8556 - val_loss: 0.3521 - val_sparse_categorical_accuracy: 0.8828\n",
      "Validation Accuracy: 0.8828 | Time: 16.03s\n",
      "\n",
      "Training with parameters: {'batch_size': 16, 'dropout_rate': 0.4, 'filters': 32, 'kernel_size': 3, 'learning_rate': 0.0005}\n",
      "Epoch 1/8\n",
      "\u001B[1m164/164\u001B[0m \u001B[32m━━━━━━━━━━━━━━━━━━━━\u001B[0m\u001B[37m\u001B[0m \u001B[1m3s\u001B[0m 11ms/step - loss: 0.6511 - sparse_categorical_accuracy: 0.6300 - val_loss: 0.5353 - val_sparse_categorical_accuracy: 0.7550\n",
      "Epoch 2/8\n",
      "\u001B[1m164/164\u001B[0m \u001B[32m━━━━━━━━━━━━━━━━━━━━\u001B[0m\u001B[37m\u001B[0m \u001B[1m2s\u001B[0m 10ms/step - loss: 0.5175 - sparse_categorical_accuracy: 0.8014 - val_loss: 0.4390 - val_sparse_categorical_accuracy: 0.8444\n",
      "Epoch 3/8\n",
      "\u001B[1m164/164\u001B[0m \u001B[32m━━━━━━━━━━━━━━━━━━━━\u001B[0m\u001B[37m\u001B[0m \u001B[1m2s\u001B[0m 10ms/step - loss: 0.4628 - sparse_categorical_accuracy: 0.8285 - val_loss: 0.4086 - val_sparse_categorical_accuracy: 0.8703\n",
      "Epoch 4/8\n",
      "\u001B[1m164/164\u001B[0m \u001B[32m━━━━━━━━━━━━━━━━━━━━\u001B[0m\u001B[37m\u001B[0m \u001B[1m2s\u001B[0m 10ms/step - loss: 0.4276 - sparse_categorical_accuracy: 0.8345 - val_loss: 0.3979 - val_sparse_categorical_accuracy: 0.8713\n",
      "Epoch 5/8\n",
      "\u001B[1m164/164\u001B[0m \u001B[32m━━━━━━━━━━━━━━━━━━━━\u001B[0m\u001B[37m\u001B[0m \u001B[1m2s\u001B[0m 12ms/step - loss: 0.4365 - sparse_categorical_accuracy: 0.8270 - val_loss: 0.3932 - val_sparse_categorical_accuracy: 0.8722\n",
      "Epoch 6/8\n",
      "\u001B[1m164/164\u001B[0m \u001B[32m━━━━━━━━━━━━━━━━━━━━\u001B[0m\u001B[37m\u001B[0m \u001B[1m2s\u001B[0m 12ms/step - loss: 0.4287 - sparse_categorical_accuracy: 0.8252 - val_loss: 0.3931 - val_sparse_categorical_accuracy: 0.8684\n",
      "Epoch 7/8\n",
      "\u001B[1m164/164\u001B[0m \u001B[32m━━━━━━━━━━━━━━━━━━━━\u001B[0m\u001B[37m\u001B[0m \u001B[1m2s\u001B[0m 10ms/step - loss: 0.4128 - sparse_categorical_accuracy: 0.8400 - val_loss: 0.3813 - val_sparse_categorical_accuracy: 0.8703\n",
      "Epoch 8/8\n",
      "\u001B[1m164/164\u001B[0m \u001B[32m━━━━━━━━━━━━━━━━━━━━\u001B[0m\u001B[37m\u001B[0m \u001B[1m2s\u001B[0m 10ms/step - loss: 0.4011 - sparse_categorical_accuracy: 0.8416 - val_loss: 0.3815 - val_sparse_categorical_accuracy: 0.8770\n",
      "Validation Accuracy: 0.8770 | Time: 15.36s\n"
     ]
    }
   ],
   "execution_count": 7
  },
  {
   "metadata": {
    "ExecuteTime": {
     "end_time": "2025-01-27T07:20:56.398575Z",
     "start_time": "2025-01-27T07:20:55.814104Z"
    }
   },
   "cell_type": "code",
   "source": [
    "# Load the saved best model\n",
    "best_model = keras.models.load_model(best_model_path)\n",
    "\n",
    "# Generate predictions on the test set\n",
    "y_pred = np.argmax(best_model.predict(X_test), axis=-1)\n",
    "\n",
    "# Generate and print the classification report\n",
    "print(\"Classification Report:\")\n",
    "print(classification_report(y_test, y_pred))"
   ],
   "id": "1ebb896eaaa1fcea",
   "outputs": [
    {
     "name": "stdout",
     "output_type": "stream",
     "text": [
      "\u001B[1m27/27\u001B[0m \u001B[32m━━━━━━━━━━━━━━━━━━━━\u001B[0m\u001B[37m\u001B[0m \u001B[1m0s\u001B[0m 7ms/step\n",
      "Classification Report:\n",
      "              precision    recall  f1-score   support\n",
      "\n",
      "           0       0.95      0.87      0.91       539\n",
      "           1       0.79      0.92      0.85       298\n",
      "\n",
      "    accuracy                           0.89       837\n",
      "   macro avg       0.87      0.89      0.88       837\n",
      "weighted avg       0.90      0.89      0.89       837\n",
      "\n"
     ]
    }
   ],
   "execution_count": 8
  }
 ],
 "metadata": {
  "kernelspec": {
   "display_name": "Python 3",
   "language": "python",
   "name": "python3"
  },
  "language_info": {
   "codemirror_mode": {
    "name": "ipython",
    "version": 2
   },
   "file_extension": ".py",
   "mimetype": "text/x-python",
   "name": "python",
   "nbconvert_exporter": "python",
   "pygments_lexer": "ipython2",
   "version": "2.7.6"
  }
 },
 "nbformat": 4,
 "nbformat_minor": 5
}
