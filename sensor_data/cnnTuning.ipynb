{
 "cells": [
  {
   "cell_type": "code",
   "id": "initial_id",
   "metadata": {
    "collapsed": true,
    "ExecuteTime": {
     "end_time": "2025-01-25T09:08:03.679630Z",
     "start_time": "2025-01-25T09:07:56.643644Z"
    }
   },
   "source": [
    "from sklearn.model_selection import ParameterGrid\n",
    "import time\n",
    "import numpy as np\n",
    "import keras"
   ],
   "outputs": [],
   "execution_count": 8
  },
  {
   "metadata": {
    "ExecuteTime": {
     "end_time": "2025-01-25T09:07:43.413824Z",
     "start_time": "2025-01-25T09:07:43.083241Z"
    }
   },
   "cell_type": "code",
   "source": [
    "X_train = np.load('X_train.npy')  # Load your preprocessed training data\n",
    "y_train = np.load('y_train.npy')\n",
    "X_val = np.load('X_val.npy')  # Load your validation data\n",
    "y_val = np.load('y_val.npy')\n",
    "X_test = np.load('X_test.npy')  # Load your test data\n",
    "y_test = np.load('y_test.npy')"
   ],
   "id": "fdbbd7b87668d8d2",
   "outputs": [],
   "execution_count": 2
  },
  {
   "metadata": {
    "ExecuteTime": {
     "end_time": "2025-01-25T09:07:44.281893Z",
     "start_time": "2025-01-25T09:07:44.276877Z"
    }
   },
   "cell_type": "code",
   "source": [
    "# Define the parameter grid\n",
    "param_grid = {\n",
    "    \"filters\": [32, 64],\n",
    "    \"kernel_size\": [3, 5],\n",
    "    \"dropout_rate\": [0.2, 0.4],\n",
    "    \"batch_size\": [16, 32],\n",
    "    \"learning_rate\": [0.001, 0.0005]\n",
    "}"
   ],
   "id": "e87ded49060937af",
   "outputs": [],
   "execution_count": 3
  },
  {
   "metadata": {
    "ExecuteTime": {
     "end_time": "2025-01-25T09:07:45.283028Z",
     "start_time": "2025-01-25T09:07:45.278185Z"
    }
   },
   "cell_type": "code",
   "source": [
    "# Create a list of all parameter combinations\n",
    "param_combinations = list(ParameterGrid(param_grid))\n",
    "print(f\"Total combinations to try: {len(param_combinations)}\")"
   ],
   "id": "5c4a4756a168b4eb",
   "outputs": [
    {
     "name": "stdout",
     "output_type": "stream",
     "text": [
      "Total combinations to try: 32\n"
     ]
    }
   ],
   "execution_count": 4
  },
  {
   "metadata": {
    "ExecuteTime": {
     "end_time": "2025-01-25T09:07:46.204879Z",
     "start_time": "2025-01-25T09:07:46.198812Z"
    }
   },
   "cell_type": "code",
   "source": [
    "# Limit the number of combinations to try (adjust based on your PC specs)\n",
    "max_combinations = 5\n",
    "param_combinations = param_combinations[:max_combinations]\n",
    "\n",
    "# Results storage\n",
    "results = []"
   ],
   "id": "be63b3ae828e2f56",
   "outputs": [],
   "execution_count": 5
  },
  {
   "metadata": {
    "ExecuteTime": {
     "end_time": "2025-01-25T09:08:05.123471Z",
     "start_time": "2025-01-25T09:08:05.116650Z"
    }
   },
   "cell_type": "code",
   "source": [
    "def make_model(input_shape, filters, kernel_size, dropout_rate):\n",
    "    input_layer = keras.layers.Input(input_shape)\n",
    "    x = keras.layers.Conv1D(filters=filters, kernel_size=kernel_size, padding=\"same\")(input_layer)\n",
    "    x = keras.layers.BatchNormalization()(x)\n",
    "    x = keras.layers.ReLU()(x)\n",
    "    x = keras.layers.Dropout(dropout_rate)(x)\n",
    "\n",
    "    x = keras.layers.GlobalAveragePooling1D()(x)\n",
    "    output_layer = keras.layers.Dense(num_classes, activation=\"softmax\")(x)\n",
    "\n",
    "    model = keras.models.Model(inputs=input_layer, outputs=output_layer)\n",
    "    return model"
   ],
   "id": "91745537f5846151",
   "outputs": [],
   "execution_count": 9
  },
  {
   "metadata": {
    "ExecuteTime": {
     "end_time": "2025-01-25T09:10:45.810856Z",
     "start_time": "2025-01-25T09:08:41.547522Z"
    }
   },
   "cell_type": "code",
   "source": [
    "num_classes = len(np.unique(y_train))\n",
    "for params in param_combinations:\n",
    "    print(f\"\\nTraining with parameters: {params}\")\n",
    "    start_time = time.time()\n",
    "\n",
    "    # Create model\n",
    "    model = make_model(\n",
    "        input_shape=(X_train.shape[1], X_train.shape[2]),\n",
    "        filters=params[\"filters\"],\n",
    "        kernel_size=params[\"kernel_size\"],\n",
    "        dropout_rate=params[\"dropout_rate\"]\n",
    "    )\n",
    "\n",
    "    # Compile the model\n",
    "    optimizer = keras.optimizers.Adam(learning_rate=params[\"learning_rate\"])\n",
    "    model.compile(\n",
    "        optimizer=optimizer,\n",
    "        loss=\"sparse_categorical_crossentropy\",\n",
    "        metrics=[\"sparse_categorical_accuracy\"]\n",
    "    )\n",
    "\n",
    "    # Train the model (fewer epochs for grid search)\n",
    "    history = model.fit(\n",
    "        X_train, y_train,\n",
    "        validation_data=(X_val, y_val),\n",
    "        epochs=10,  # Use fewer epochs for speed\n",
    "        batch_size=params[\"batch_size\"],\n",
    "        verbose=1\n",
    "    )\n",
    "\n",
    "    # Evaluate on the validation set\n",
    "    val_loss, val_acc = model.evaluate(X_val, y_val, verbose=0)\n",
    "    elapsed_time = time.time() - start_time\n",
    "\n",
    "    # Store the results\n",
    "    results.append({\n",
    "        \"params\": params,\n",
    "        \"val_loss\": val_loss,\n",
    "        \"val_acc\": val_acc,\n",
    "        \"time\": elapsed_time\n",
    "    })\n",
    "\n",
    "    print(f\"Validation Accuracy: {val_acc:.4f} | Time: {elapsed_time:.2f}s\")"
   ],
   "id": "ac7715cbf1dd6e55",
   "outputs": [
    {
     "name": "stdout",
     "output_type": "stream",
     "text": [
      "\n",
      "Training with parameters: {'batch_size': 16, 'dropout_rate': 0.2, 'filters': 32, 'kernel_size': 3, 'learning_rate': 0.001}\n",
      "Epoch 1/10\n",
      "\u001B[1m164/164\u001B[0m \u001B[32m━━━━━━━━━━━━━━━━━━━━\u001B[0m\u001B[37m\u001B[0m \u001B[1m3s\u001B[0m 12ms/step - loss: 0.6698 - sparse_categorical_accuracy: 0.6137 - val_loss: 0.4697 - val_sparse_categorical_accuracy: 0.7570\n",
      "Epoch 2/10\n",
      "\u001B[1m164/164\u001B[0m \u001B[32m━━━━━━━━━━━━━━━━━━━━\u001B[0m\u001B[37m\u001B[0m \u001B[1m2s\u001B[0m 13ms/step - loss: 0.4697 - sparse_categorical_accuracy: 0.8080 - val_loss: 0.3954 - val_sparse_categorical_accuracy: 0.8530\n",
      "Epoch 3/10\n",
      "\u001B[1m164/164\u001B[0m \u001B[32m━━━━━━━━━━━━━━━━━━━━\u001B[0m\u001B[37m\u001B[0m \u001B[1m2s\u001B[0m 12ms/step - loss: 0.4217 - sparse_categorical_accuracy: 0.8378 - val_loss: 0.3840 - val_sparse_categorical_accuracy: 0.8549\n",
      "Epoch 4/10\n",
      "\u001B[1m164/164\u001B[0m \u001B[32m━━━━━━━━━━━━━━━━━━━━\u001B[0m\u001B[37m\u001B[0m \u001B[1m2s\u001B[0m 13ms/step - loss: 0.4166 - sparse_categorical_accuracy: 0.8394 - val_loss: 0.3715 - val_sparse_categorical_accuracy: 0.8722\n",
      "Epoch 5/10\n",
      "\u001B[1m164/164\u001B[0m \u001B[32m━━━━━━━━━━━━━━━━━━━━\u001B[0m\u001B[37m\u001B[0m \u001B[1m2s\u001B[0m 15ms/step - loss: 0.3867 - sparse_categorical_accuracy: 0.8548 - val_loss: 0.3583 - val_sparse_categorical_accuracy: 0.8665\n",
      "Epoch 6/10\n",
      "\u001B[1m164/164\u001B[0m \u001B[32m━━━━━━━━━━━━━━━━━━━━\u001B[0m\u001B[37m\u001B[0m \u001B[1m2s\u001B[0m 14ms/step - loss: 0.4001 - sparse_categorical_accuracy: 0.8374 - val_loss: 0.3619 - val_sparse_categorical_accuracy: 0.8751\n",
      "Epoch 7/10\n",
      "\u001B[1m164/164\u001B[0m \u001B[32m━━━━━━━━━━━━━━━━━━━━\u001B[0m\u001B[37m\u001B[0m \u001B[1m3s\u001B[0m 15ms/step - loss: 0.3760 - sparse_categorical_accuracy: 0.8511 - val_loss: 0.3490 - val_sparse_categorical_accuracy: 0.8790\n",
      "Epoch 8/10\n",
      "\u001B[1m164/164\u001B[0m \u001B[32m━━━━━━━━━━━━━━━━━━━━\u001B[0m\u001B[37m\u001B[0m \u001B[1m3s\u001B[0m 15ms/step - loss: 0.3781 - sparse_categorical_accuracy: 0.8490 - val_loss: 0.3570 - val_sparse_categorical_accuracy: 0.8646\n",
      "Epoch 9/10\n",
      "\u001B[1m164/164\u001B[0m \u001B[32m━━━━━━━━━━━━━━━━━━━━\u001B[0m\u001B[37m\u001B[0m \u001B[1m2s\u001B[0m 12ms/step - loss: 0.3852 - sparse_categorical_accuracy: 0.8439 - val_loss: 0.3459 - val_sparse_categorical_accuracy: 0.8674\n",
      "Epoch 10/10\n",
      "\u001B[1m164/164\u001B[0m \u001B[32m━━━━━━━━━━━━━━━━━━━━\u001B[0m\u001B[37m\u001B[0m \u001B[1m2s\u001B[0m 11ms/step - loss: 0.3696 - sparse_categorical_accuracy: 0.8494 - val_loss: 0.3355 - val_sparse_categorical_accuracy: 0.8857\n",
      "Validation Accuracy: 0.8857 | Time: 24.24s\n",
      "\n",
      "Training with parameters: {'batch_size': 16, 'dropout_rate': 0.2, 'filters': 32, 'kernel_size': 3, 'learning_rate': 0.0005}\n",
      "Epoch 1/10\n",
      "\u001B[1m164/164\u001B[0m \u001B[32m━━━━━━━━━━━━━━━━━━━━\u001B[0m\u001B[37m\u001B[0m \u001B[1m6s\u001B[0m 20ms/step - loss: 0.6989 - sparse_categorical_accuracy: 0.6281 - val_loss: 0.5519 - val_sparse_categorical_accuracy: 0.6647\n",
      "Epoch 2/10\n",
      "\u001B[1m164/164\u001B[0m \u001B[32m━━━━━━━━━━━━━━━━━━━━\u001B[0m\u001B[37m\u001B[0m \u001B[1m4s\u001B[0m 12ms/step - loss: 0.5364 - sparse_categorical_accuracy: 0.7903 - val_loss: 0.4775 - val_sparse_categorical_accuracy: 0.7800\n",
      "Epoch 3/10\n",
      "\u001B[1m164/164\u001B[0m \u001B[32m━━━━━━━━━━━━━━━━━━━━\u001B[0m\u001B[37m\u001B[0m \u001B[1m2s\u001B[0m 14ms/step - loss: 0.4650 - sparse_categorical_accuracy: 0.8240 - val_loss: 0.4279 - val_sparse_categorical_accuracy: 0.8569\n",
      "Epoch 4/10\n",
      "\u001B[1m164/164\u001B[0m \u001B[32m━━━━━━━━━━━━━━━━━━━━\u001B[0m\u001B[37m\u001B[0m \u001B[1m2s\u001B[0m 12ms/step - loss: 0.4675 - sparse_categorical_accuracy: 0.8153 - val_loss: 0.4073 - val_sparse_categorical_accuracy: 0.8722\n",
      "Epoch 5/10\n",
      "\u001B[1m164/164\u001B[0m \u001B[32m━━━━━━━━━━━━━━━━━━━━\u001B[0m\u001B[37m\u001B[0m \u001B[1m2s\u001B[0m 13ms/step - loss: 0.4349 - sparse_categorical_accuracy: 0.8335 - val_loss: 0.3948 - val_sparse_categorical_accuracy: 0.8751\n",
      "Epoch 6/10\n",
      "\u001B[1m164/164\u001B[0m \u001B[32m━━━━━━━━━━━━━━━━━━━━\u001B[0m\u001B[37m\u001B[0m \u001B[1m2s\u001B[0m 13ms/step - loss: 0.4118 - sparse_categorical_accuracy: 0.8402 - val_loss: 0.3922 - val_sparse_categorical_accuracy: 0.8742\n",
      "Epoch 7/10\n",
      "\u001B[1m164/164\u001B[0m \u001B[32m━━━━━━━━━━━━━━━━━━━━\u001B[0m\u001B[37m\u001B[0m \u001B[1m2s\u001B[0m 14ms/step - loss: 0.3915 - sparse_categorical_accuracy: 0.8506 - val_loss: 0.3813 - val_sparse_categorical_accuracy: 0.8732\n",
      "Epoch 8/10\n",
      "\u001B[1m164/164\u001B[0m \u001B[32m━━━━━━━━━━━━━━━━━━━━\u001B[0m\u001B[37m\u001B[0m \u001B[1m2s\u001B[0m 13ms/step - loss: 0.3900 - sparse_categorical_accuracy: 0.8570 - val_loss: 0.3785 - val_sparse_categorical_accuracy: 0.8722\n",
      "Epoch 9/10\n",
      "\u001B[1m164/164\u001B[0m \u001B[32m━━━━━━━━━━━━━━━━━━━━\u001B[0m\u001B[37m\u001B[0m \u001B[1m2s\u001B[0m 12ms/step - loss: 0.4044 - sparse_categorical_accuracy: 0.8433 - val_loss: 0.3784 - val_sparse_categorical_accuracy: 0.8722\n",
      "Epoch 10/10\n",
      "\u001B[1m164/164\u001B[0m \u001B[32m━━━━━━━━━━━━━━━━━━━━\u001B[0m\u001B[37m\u001B[0m \u001B[1m2s\u001B[0m 12ms/step - loss: 0.4044 - sparse_categorical_accuracy: 0.8402 - val_loss: 0.3769 - val_sparse_categorical_accuracy: 0.8617\n",
      "Validation Accuracy: 0.8617 | Time: 27.80s\n",
      "\n",
      "Training with parameters: {'batch_size': 16, 'dropout_rate': 0.2, 'filters': 32, 'kernel_size': 5, 'learning_rate': 0.001}\n",
      "Epoch 1/10\n",
      "\u001B[1m164/164\u001B[0m \u001B[32m━━━━━━━━━━━━━━━━━━━━\u001B[0m\u001B[37m\u001B[0m \u001B[1m3s\u001B[0m 14ms/step - loss: 0.5883 - sparse_categorical_accuracy: 0.7145 - val_loss: 0.4501 - val_sparse_categorical_accuracy: 0.7935\n",
      "Epoch 2/10\n",
      "\u001B[1m164/164\u001B[0m \u001B[32m━━━━━━━━━━━━━━━━━━━━\u001B[0m\u001B[37m\u001B[0m \u001B[1m2s\u001B[0m 11ms/step - loss: 0.4511 - sparse_categorical_accuracy: 0.8181 - val_loss: 0.4022 - val_sparse_categorical_accuracy: 0.8674\n",
      "Epoch 3/10\n",
      "\u001B[1m164/164\u001B[0m \u001B[32m━━━━━━━━━━━━━━━━━━━━\u001B[0m\u001B[37m\u001B[0m \u001B[1m2s\u001B[0m 11ms/step - loss: 0.4205 - sparse_categorical_accuracy: 0.8350 - val_loss: 0.3820 - val_sparse_categorical_accuracy: 0.8598\n",
      "Epoch 4/10\n",
      "\u001B[1m164/164\u001B[0m \u001B[32m━━━━━━━━━━━━━━━━━━━━\u001B[0m\u001B[37m\u001B[0m \u001B[1m2s\u001B[0m 11ms/step - loss: 0.4264 - sparse_categorical_accuracy: 0.8225 - val_loss: 0.3743 - val_sparse_categorical_accuracy: 0.8742\n",
      "Epoch 5/10\n",
      "\u001B[1m164/164\u001B[0m \u001B[32m━━━━━━━━━━━━━━━━━━━━\u001B[0m\u001B[37m\u001B[0m \u001B[1m2s\u001B[0m 11ms/step - loss: 0.3983 - sparse_categorical_accuracy: 0.8458 - val_loss: 0.3667 - val_sparse_categorical_accuracy: 0.8761\n",
      "Epoch 6/10\n",
      "\u001B[1m164/164\u001B[0m \u001B[32m━━━━━━━━━━━━━━━━━━━━\u001B[0m\u001B[37m\u001B[0m \u001B[1m2s\u001B[0m 10ms/step - loss: 0.3775 - sparse_categorical_accuracy: 0.8648 - val_loss: 0.3593 - val_sparse_categorical_accuracy: 0.8722\n",
      "Epoch 7/10\n",
      "\u001B[1m164/164\u001B[0m \u001B[32m━━━━━━━━━━━━━━━━━━━━\u001B[0m\u001B[37m\u001B[0m \u001B[1m2s\u001B[0m 10ms/step - loss: 0.3836 - sparse_categorical_accuracy: 0.8514 - val_loss: 0.3583 - val_sparse_categorical_accuracy: 0.8742\n",
      "Epoch 8/10\n",
      "\u001B[1m164/164\u001B[0m \u001B[32m━━━━━━━━━━━━━━━━━━━━\u001B[0m\u001B[37m\u001B[0m \u001B[1m2s\u001B[0m 11ms/step - loss: 0.3804 - sparse_categorical_accuracy: 0.8536 - val_loss: 0.3578 - val_sparse_categorical_accuracy: 0.8607\n",
      "Epoch 9/10\n",
      "\u001B[1m164/164\u001B[0m \u001B[32m━━━━━━━━━━━━━━━━━━━━\u001B[0m\u001B[37m\u001B[0m \u001B[1m2s\u001B[0m 11ms/step - loss: 0.3795 - sparse_categorical_accuracy: 0.8437 - val_loss: 0.3397 - val_sparse_categorical_accuracy: 0.8876\n",
      "Epoch 10/10\n",
      "\u001B[1m164/164\u001B[0m \u001B[32m━━━━━━━━━━━━━━━━━━━━\u001B[0m\u001B[37m\u001B[0m \u001B[1m3s\u001B[0m 11ms/step - loss: 0.3767 - sparse_categorical_accuracy: 0.8589 - val_loss: 0.3342 - val_sparse_categorical_accuracy: 0.8847\n",
      "Validation Accuracy: 0.8847 | Time: 20.60s\n",
      "\n",
      "Training with parameters: {'batch_size': 16, 'dropout_rate': 0.2, 'filters': 32, 'kernel_size': 5, 'learning_rate': 0.0005}\n",
      "Epoch 1/10\n",
      "\u001B[1m164/164\u001B[0m \u001B[32m━━━━━━━━━━━━━━━━━━━━\u001B[0m\u001B[37m\u001B[0m \u001B[1m3s\u001B[0m 12ms/step - loss: 0.7502 - sparse_categorical_accuracy: 0.6306 - val_loss: 0.5539 - val_sparse_categorical_accuracy: 0.6657\n",
      "Epoch 2/10\n",
      "\u001B[1m164/164\u001B[0m \u001B[32m━━━━━━━━━━━━━━━━━━━━\u001B[0m\u001B[37m\u001B[0m \u001B[1m2s\u001B[0m 11ms/step - loss: 0.5239 - sparse_categorical_accuracy: 0.7861 - val_loss: 0.4512 - val_sparse_categorical_accuracy: 0.8271\n",
      "Epoch 3/10\n",
      "\u001B[1m164/164\u001B[0m \u001B[32m━━━━━━━━━━━━━━━━━━━━\u001B[0m\u001B[37m\u001B[0m \u001B[1m2s\u001B[0m 11ms/step - loss: 0.4487 - sparse_categorical_accuracy: 0.8293 - val_loss: 0.4135 - val_sparse_categorical_accuracy: 0.8694\n",
      "Epoch 4/10\n",
      "\u001B[1m164/164\u001B[0m \u001B[32m━━━━━━━━━━━━━━━━━━━━\u001B[0m\u001B[37m\u001B[0m \u001B[1m2s\u001B[0m 11ms/step - loss: 0.4594 - sparse_categorical_accuracy: 0.8133 - val_loss: 0.4122 - val_sparse_categorical_accuracy: 0.8338\n",
      "Epoch 5/10\n",
      "\u001B[1m164/164\u001B[0m \u001B[32m━━━━━━━━━━━━━━━━━━━━\u001B[0m\u001B[37m\u001B[0m \u001B[1m2s\u001B[0m 11ms/step - loss: 0.4246 - sparse_categorical_accuracy: 0.8345 - val_loss: 0.3880 - val_sparse_categorical_accuracy: 0.8770\n",
      "Epoch 6/10\n",
      "\u001B[1m164/164\u001B[0m \u001B[32m━━━━━━━━━━━━━━━━━━━━\u001B[0m\u001B[37m\u001B[0m \u001B[1m2s\u001B[0m 11ms/step - loss: 0.4200 - sparse_categorical_accuracy: 0.8341 - val_loss: 0.3823 - val_sparse_categorical_accuracy: 0.8636\n",
      "Epoch 7/10\n",
      "\u001B[1m164/164\u001B[0m \u001B[32m━━━━━━━━━━━━━━━━━━━━\u001B[0m\u001B[37m\u001B[0m \u001B[1m2s\u001B[0m 12ms/step - loss: 0.4124 - sparse_categorical_accuracy: 0.8357 - val_loss: 0.3758 - val_sparse_categorical_accuracy: 0.8684\n",
      "Epoch 8/10\n",
      "\u001B[1m164/164\u001B[0m \u001B[32m━━━━━━━━━━━━━━━━━━━━\u001B[0m\u001B[37m\u001B[0m \u001B[1m2s\u001B[0m 10ms/step - loss: 0.4226 - sparse_categorical_accuracy: 0.8349 - val_loss: 0.3788 - val_sparse_categorical_accuracy: 0.8607\n",
      "Epoch 9/10\n",
      "\u001B[1m164/164\u001B[0m \u001B[32m━━━━━━━━━━━━━━━━━━━━\u001B[0m\u001B[37m\u001B[0m \u001B[1m2s\u001B[0m 10ms/step - loss: 0.4043 - sparse_categorical_accuracy: 0.8549 - val_loss: 0.3740 - val_sparse_categorical_accuracy: 0.8732\n",
      "Epoch 10/10\n",
      "\u001B[1m164/164\u001B[0m \u001B[32m━━━━━━━━━━━━━━━━━━━━\u001B[0m\u001B[37m\u001B[0m \u001B[1m2s\u001B[0m 10ms/step - loss: 0.3821 - sparse_categorical_accuracy: 0.8525 - val_loss: 0.3537 - val_sparse_categorical_accuracy: 0.8761\n",
      "Validation Accuracy: 0.8761 | Time: 19.73s\n",
      "\n",
      "Training with parameters: {'batch_size': 16, 'dropout_rate': 0.2, 'filters': 64, 'kernel_size': 3, 'learning_rate': 0.001}\n",
      "Epoch 1/10\n",
      "\u001B[1m164/164\u001B[0m \u001B[32m━━━━━━━━━━━━━━━━━━━━\u001B[0m\u001B[37m\u001B[0m \u001B[1m4s\u001B[0m 18ms/step - loss: 0.5857 - sparse_categorical_accuracy: 0.7242 - val_loss: 0.4606 - val_sparse_categorical_accuracy: 0.7963\n",
      "Epoch 2/10\n",
      "\u001B[1m164/164\u001B[0m \u001B[32m━━━━━━━━━━━━━━━━━━━━\u001B[0m\u001B[37m\u001B[0m \u001B[1m3s\u001B[0m 18ms/step - loss: 0.4567 - sparse_categorical_accuracy: 0.8383 - val_loss: 0.3871 - val_sparse_categorical_accuracy: 0.8713\n",
      "Epoch 3/10\n",
      "\u001B[1m164/164\u001B[0m \u001B[32m━━━━━━━━━━━━━━━━━━━━\u001B[0m\u001B[37m\u001B[0m \u001B[1m3s\u001B[0m 20ms/step - loss: 0.4035 - sparse_categorical_accuracy: 0.8444 - val_loss: 0.3727 - val_sparse_categorical_accuracy: 0.8655\n",
      "Epoch 4/10\n",
      "\u001B[1m164/164\u001B[0m \u001B[32m━━━━━━━━━━━━━━━━━━━━\u001B[0m\u001B[37m\u001B[0m \u001B[1m3s\u001B[0m 19ms/step - loss: 0.3910 - sparse_categorical_accuracy: 0.8470 - val_loss: 0.3587 - val_sparse_categorical_accuracy: 0.8713\n",
      "Epoch 5/10\n",
      "\u001B[1m164/164\u001B[0m \u001B[32m━━━━━━━━━━━━━━━━━━━━\u001B[0m\u001B[37m\u001B[0m \u001B[1m3s\u001B[0m 18ms/step - loss: 0.3693 - sparse_categorical_accuracy: 0.8487 - val_loss: 0.3497 - val_sparse_categorical_accuracy: 0.8790\n",
      "Epoch 6/10\n",
      "\u001B[1m164/164\u001B[0m \u001B[32m━━━━━━━━━━━━━━━━━━━━\u001B[0m\u001B[37m\u001B[0m \u001B[1m3s\u001B[0m 18ms/step - loss: 0.3886 - sparse_categorical_accuracy: 0.8522 - val_loss: 0.3592 - val_sparse_categorical_accuracy: 0.8703\n",
      "Epoch 7/10\n",
      "\u001B[1m164/164\u001B[0m \u001B[32m━━━━━━━━━━━━━━━━━━━━\u001B[0m\u001B[37m\u001B[0m \u001B[1m3s\u001B[0m 19ms/step - loss: 0.3749 - sparse_categorical_accuracy: 0.8479 - val_loss: 0.3384 - val_sparse_categorical_accuracy: 0.8780\n",
      "Epoch 8/10\n",
      "\u001B[1m164/164\u001B[0m \u001B[32m━━━━━━━━━━━━━━━━━━━━\u001B[0m\u001B[37m\u001B[0m \u001B[1m3s\u001B[0m 18ms/step - loss: 0.3776 - sparse_categorical_accuracy: 0.8452 - val_loss: 0.3336 - val_sparse_categorical_accuracy: 0.8751\n",
      "Epoch 9/10\n",
      "\u001B[1m164/164\u001B[0m \u001B[32m━━━━━━━━━━━━━━━━━━━━\u001B[0m\u001B[37m\u001B[0m \u001B[1m3s\u001B[0m 20ms/step - loss: 0.3585 - sparse_categorical_accuracy: 0.8509 - val_loss: 0.3339 - val_sparse_categorical_accuracy: 0.8866\n",
      "Epoch 10/10\n",
      "\u001B[1m164/164\u001B[0m \u001B[32m━━━━━━━━━━━━━━━━━━━━\u001B[0m\u001B[37m\u001B[0m \u001B[1m3s\u001B[0m 17ms/step - loss: 0.3687 - sparse_categorical_accuracy: 0.8545 - val_loss: 0.3400 - val_sparse_categorical_accuracy: 0.8761\n",
      "Validation Accuracy: 0.8761 | Time: 31.88s\n"
     ]
    }
   ],
   "execution_count": 11
  },
  {
   "metadata": {
    "ExecuteTime": {
     "end_time": "2025-01-25T09:17:18.240277Z",
     "start_time": "2025-01-25T09:17:18.233006Z"
    }
   },
   "cell_type": "code",
   "source": [
    "best_result = max(results, key=lambda x: x[\"val_acc\"])\n",
    "print(\"\\nBest Parameters and Results:\")\n",
    "print(best_result)"
   ],
   "id": "e5b2ade4d0f80485",
   "outputs": [
    {
     "name": "stdout",
     "output_type": "stream",
     "text": [
      "\n",
      "Best Parameters and Results:\n",
      "{'params': {'batch_size': 16, 'dropout_rate': 0.2, 'filters': 32, 'kernel_size': 3, 'learning_rate': 0.001}, 'val_loss': 0.3354590833187103, 'val_acc': 0.8856868147850037, 'time': 24.244338274002075}\n"
     ]
    }
   ],
   "execution_count": 12
  },
  {
   "metadata": {
    "ExecuteTime": {
     "end_time": "2025-01-25T09:33:21.836277Z",
     "start_time": "2025-01-25T09:30:11.290081Z"
    }
   },
   "cell_type": "code",
   "source": [
    "from sklearn.metrics import classification_report\n",
    "import keras\n",
    "\n",
    "# Use the best parameters\n",
    "best_params = {\n",
    "    \"batch_size\": 16,\n",
    "    \"dropout_rate\": 0.2,\n",
    "    \"filters\": 32,\n",
    "    \"kernel_size\": 3,\n",
    "    \"learning_rate\": 0.001\n",
    "}\n",
    "\n",
    "# Define a new model with the best parameters\n",
    "def make_model_with_best_params(input_shape, filters, kernel_size, dropout_rate, num_classes):\n",
    "    input_layer = keras.layers.Input(input_shape)\n",
    "\n",
    "    conv1 = keras.layers.Conv1D(filters=filters, kernel_size=kernel_size, padding=\"same\")(input_layer)\n",
    "    conv1 = keras.layers.BatchNormalization()(conv1)\n",
    "    conv1 = keras.layers.ReLU()(conv1)\n",
    "\n",
    "    conv2 = keras.layers.Conv1D(filters=filters, kernel_size=kernel_size, padding=\"same\")(conv1)\n",
    "    conv2 = keras.layers.BatchNormalization()(conv2)\n",
    "    conv2 = keras.layers.ReLU()(conv2)\n",
    "\n",
    "    conv3 = keras.layers.Conv1D(filters=filters, kernel_size=kernel_size, padding=\"same\")(conv2)\n",
    "    conv3 = keras.layers.BatchNormalization()(conv3)\n",
    "    conv3 = keras.layers.ReLU()(conv3)\n",
    "\n",
    "    gap = keras.layers.GlobalAveragePooling1D()(conv3)\n",
    "    gap = keras.layers.Dropout(dropout_rate)(gap)\n",
    "\n",
    "    output_layer = keras.layers.Dense(num_classes, activation=\"softmax\")(gap)\n",
    "\n",
    "    return keras.models.Model(inputs=input_layer, outputs=output_layer)\n",
    "\n",
    "# Build and compile the model\n",
    "model = make_model_with_best_params(\n",
    "    input_shape=(X_train.shape[1], X_train.shape[2]),\n",
    "    filters=best_params[\"filters\"],\n",
    "    kernel_size=best_params[\"kernel_size\"],\n",
    "    dropout_rate=best_params[\"dropout_rate\"],\n",
    "    num_classes=num_classes\n",
    ")\n",
    "\n",
    "model.compile(\n",
    "    optimizer=keras.optimizers.Adam(learning_rate=best_params[\"learning_rate\"]),\n",
    "    loss=\"sparse_categorical_crossentropy\",\n",
    "    metrics=[\"sparse_categorical_accuracy\"]\n",
    ")\n",
    "\n",
    "# Train the model using the best batch size\n",
    "model.fit(\n",
    "    X_train, y_train,\n",
    "    batch_size=best_params[\"batch_size\"],\n",
    "    epochs=50,  # A small number of epochs since it's already tuned\n",
    "    validation_data=(X_val, y_val),\n",
    "    verbose=1\n",
    ")\n",
    "\n",
    "# Evaluate the model on the test set\n",
    "y_pred = np.argmax(model.predict(X_test), axis=-1)\n",
    "\n",
    "# Generate the classification report\n",
    "print(\"Classification Report:\")\n",
    "print(classification_report(y_test, y_pred))\n"
   ],
   "id": "3e112a6bc0b24247",
   "outputs": [
    {
     "name": "stdout",
     "output_type": "stream",
     "text": [
      "Epoch 1/50\n",
      "\u001B[1m164/164\u001B[0m \u001B[32m━━━━━━━━━━━━━━━━━━━━\u001B[0m\u001B[37m\u001B[0m \u001B[1m7s\u001B[0m 22ms/step - loss: 0.5642 - sparse_categorical_accuracy: 0.7073 - val_loss: 0.3771 - val_sparse_categorical_accuracy: 0.8876\n",
      "Epoch 2/50\n",
      "\u001B[1m164/164\u001B[0m \u001B[32m━━━━━━━━━━━━━━━━━━━━\u001B[0m\u001B[37m\u001B[0m \u001B[1m5s\u001B[0m 22ms/step - loss: 0.3526 - sparse_categorical_accuracy: 0.8570 - val_loss: 0.2829 - val_sparse_categorical_accuracy: 0.9174\n",
      "Epoch 3/50\n",
      "\u001B[1m164/164\u001B[0m \u001B[32m━━━━━━━━━━━━━━━━━━━━\u001B[0m\u001B[37m\u001B[0m \u001B[1m4s\u001B[0m 22ms/step - loss: 0.2971 - sparse_categorical_accuracy: 0.8981 - val_loss: 0.2708 - val_sparse_categorical_accuracy: 0.9212\n",
      "Epoch 4/50\n",
      "\u001B[1m164/164\u001B[0m \u001B[32m━━━━━━━━━━━━━━━━━━━━\u001B[0m\u001B[37m\u001B[0m \u001B[1m4s\u001B[0m 23ms/step - loss: 0.3164 - sparse_categorical_accuracy: 0.8972 - val_loss: 0.3444 - val_sparse_categorical_accuracy: 0.9116\n",
      "Epoch 5/50\n",
      "\u001B[1m164/164\u001B[0m \u001B[32m━━━━━━━━━━━━━━━━━━━━\u001B[0m\u001B[37m\u001B[0m \u001B[1m4s\u001B[0m 21ms/step - loss: 0.2795 - sparse_categorical_accuracy: 0.9153 - val_loss: 0.2686 - val_sparse_categorical_accuracy: 0.9376\n",
      "Epoch 6/50\n",
      "\u001B[1m164/164\u001B[0m \u001B[32m━━━━━━━━━━━━━━━━━━━━\u001B[0m\u001B[37m\u001B[0m \u001B[1m3s\u001B[0m 21ms/step - loss: 0.2774 - sparse_categorical_accuracy: 0.9152 - val_loss: 0.2268 - val_sparse_categorical_accuracy: 0.9385\n",
      "Epoch 7/50\n",
      "\u001B[1m164/164\u001B[0m \u001B[32m━━━━━━━━━━━━━━━━━━━━\u001B[0m\u001B[37m\u001B[0m \u001B[1m5s\u001B[0m 21ms/step - loss: 0.2647 - sparse_categorical_accuracy: 0.9121 - val_loss: 0.2143 - val_sparse_categorical_accuracy: 0.9539\n",
      "Epoch 8/50\n",
      "\u001B[1m164/164\u001B[0m \u001B[32m━━━━━━━━━━━━━━━━━━━━\u001B[0m\u001B[37m\u001B[0m \u001B[1m4s\u001B[0m 23ms/step - loss: 0.2290 - sparse_categorical_accuracy: 0.9228 - val_loss: 0.2211 - val_sparse_categorical_accuracy: 0.9424\n",
      "Epoch 9/50\n",
      "\u001B[1m164/164\u001B[0m \u001B[32m━━━━━━━━━━━━━━━━━━━━\u001B[0m\u001B[37m\u001B[0m \u001B[1m4s\u001B[0m 21ms/step - loss: 0.2252 - sparse_categorical_accuracy: 0.9243 - val_loss: 0.2459 - val_sparse_categorical_accuracy: 0.9212\n",
      "Epoch 10/50\n",
      "\u001B[1m164/164\u001B[0m \u001B[32m━━━━━━━━━━━━━━━━━━━━\u001B[0m\u001B[37m\u001B[0m \u001B[1m4s\u001B[0m 22ms/step - loss: 0.2128 - sparse_categorical_accuracy: 0.9351 - val_loss: 0.1986 - val_sparse_categorical_accuracy: 0.9529\n",
      "Epoch 11/50\n",
      "\u001B[1m164/164\u001B[0m \u001B[32m━━━━━━━━━━━━━━━━━━━━\u001B[0m\u001B[37m\u001B[0m \u001B[1m4s\u001B[0m 24ms/step - loss: 0.2264 - sparse_categorical_accuracy: 0.9282 - val_loss: 0.2116 - val_sparse_categorical_accuracy: 0.9510\n",
      "Epoch 12/50\n",
      "\u001B[1m164/164\u001B[0m \u001B[32m━━━━━━━━━━━━━━━━━━━━\u001B[0m\u001B[37m\u001B[0m \u001B[1m5s\u001B[0m 22ms/step - loss: 0.1889 - sparse_categorical_accuracy: 0.9398 - val_loss: 0.2498 - val_sparse_categorical_accuracy: 0.9193\n",
      "Epoch 13/50\n",
      "\u001B[1m164/164\u001B[0m \u001B[32m━━━━━━━━━━━━━━━━━━━━\u001B[0m\u001B[37m\u001B[0m \u001B[1m4s\u001B[0m 21ms/step - loss: 0.2251 - sparse_categorical_accuracy: 0.9295 - val_loss: 0.1795 - val_sparse_categorical_accuracy: 0.9587\n",
      "Epoch 14/50\n",
      "\u001B[1m164/164\u001B[0m \u001B[32m━━━━━━━━━━━━━━━━━━━━\u001B[0m\u001B[37m\u001B[0m \u001B[1m4s\u001B[0m 26ms/step - loss: 0.1977 - sparse_categorical_accuracy: 0.9448 - val_loss: 0.2028 - val_sparse_categorical_accuracy: 0.9500\n",
      "Epoch 15/50\n",
      "\u001B[1m164/164\u001B[0m \u001B[32m━━━━━━━━━━━━━━━━━━━━\u001B[0m\u001B[37m\u001B[0m \u001B[1m3s\u001B[0m 20ms/step - loss: 0.1818 - sparse_categorical_accuracy: 0.9458 - val_loss: 0.1759 - val_sparse_categorical_accuracy: 0.9500\n",
      "Epoch 16/50\n",
      "\u001B[1m164/164\u001B[0m \u001B[32m━━━━━━━━━━━━━━━━━━━━\u001B[0m\u001B[37m\u001B[0m \u001B[1m3s\u001B[0m 20ms/step - loss: 0.1706 - sparse_categorical_accuracy: 0.9452 - val_loss: 0.2834 - val_sparse_categorical_accuracy: 0.8838\n",
      "Epoch 17/50\n",
      "\u001B[1m164/164\u001B[0m \u001B[32m━━━━━━━━━━━━━━━━━━━━\u001B[0m\u001B[37m\u001B[0m \u001B[1m4s\u001B[0m 22ms/step - loss: 0.1724 - sparse_categorical_accuracy: 0.9403 - val_loss: 0.2184 - val_sparse_categorical_accuracy: 0.9376\n",
      "Epoch 18/50\n",
      "\u001B[1m164/164\u001B[0m \u001B[32m━━━━━━━━━━━━━━━━━━━━\u001B[0m\u001B[37m\u001B[0m \u001B[1m4s\u001B[0m 23ms/step - loss: 0.1662 - sparse_categorical_accuracy: 0.9525 - val_loss: 0.2552 - val_sparse_categorical_accuracy: 0.9049\n",
      "Epoch 19/50\n",
      "\u001B[1m164/164\u001B[0m \u001B[32m━━━━━━━━━━━━━━━━━━━━\u001B[0m\u001B[37m\u001B[0m \u001B[1m4s\u001B[0m 22ms/step - loss: 0.1885 - sparse_categorical_accuracy: 0.9379 - val_loss: 0.3270 - val_sparse_categorical_accuracy: 0.8636\n",
      "Epoch 20/50\n",
      "\u001B[1m164/164\u001B[0m \u001B[32m━━━━━━━━━━━━━━━━━━━━\u001B[0m\u001B[37m\u001B[0m \u001B[1m4s\u001B[0m 22ms/step - loss: 0.1912 - sparse_categorical_accuracy: 0.9372 - val_loss: 0.1702 - val_sparse_categorical_accuracy: 0.9625\n",
      "Epoch 21/50\n",
      "\u001B[1m164/164\u001B[0m \u001B[32m━━━━━━━━━━━━━━━━━━━━\u001B[0m\u001B[37m\u001B[0m \u001B[1m3s\u001B[0m 21ms/step - loss: 0.1591 - sparse_categorical_accuracy: 0.9494 - val_loss: 0.1556 - val_sparse_categorical_accuracy: 0.9683\n",
      "Epoch 22/50\n",
      "\u001B[1m164/164\u001B[0m \u001B[32m━━━━━━━━━━━━━━━━━━━━\u001B[0m\u001B[37m\u001B[0m \u001B[1m4s\u001B[0m 23ms/step - loss: 0.1306 - sparse_categorical_accuracy: 0.9606 - val_loss: 0.1688 - val_sparse_categorical_accuracy: 0.9635\n",
      "Epoch 23/50\n",
      "\u001B[1m164/164\u001B[0m \u001B[32m━━━━━━━━━━━━━━━━━━━━\u001B[0m\u001B[37m\u001B[0m \u001B[1m3s\u001B[0m 21ms/step - loss: 0.1445 - sparse_categorical_accuracy: 0.9549 - val_loss: 0.1633 - val_sparse_categorical_accuracy: 0.9395\n",
      "Epoch 24/50\n",
      "\u001B[1m164/164\u001B[0m \u001B[32m━━━━━━━━━━━━━━━━━━━━\u001B[0m\u001B[37m\u001B[0m \u001B[1m3s\u001B[0m 20ms/step - loss: 0.1552 - sparse_categorical_accuracy: 0.9523 - val_loss: 0.1569 - val_sparse_categorical_accuracy: 0.9693\n",
      "Epoch 25/50\n",
      "\u001B[1m164/164\u001B[0m \u001B[32m━━━━━━━━━━━━━━━━━━━━\u001B[0m\u001B[37m\u001B[0m \u001B[1m3s\u001B[0m 21ms/step - loss: 0.1742 - sparse_categorical_accuracy: 0.9522 - val_loss: 0.1547 - val_sparse_categorical_accuracy: 0.9645\n",
      "Epoch 26/50\n",
      "\u001B[1m164/164\u001B[0m \u001B[32m━━━━━━━━━━━━━━━━━━━━\u001B[0m\u001B[37m\u001B[0m \u001B[1m4s\u001B[0m 22ms/step - loss: 0.1530 - sparse_categorical_accuracy: 0.9499 - val_loss: 0.1999 - val_sparse_categorical_accuracy: 0.9270\n",
      "Epoch 27/50\n",
      "\u001B[1m164/164\u001B[0m \u001B[32m━━━━━━━━━━━━━━━━━━━━\u001B[0m\u001B[37m\u001B[0m \u001B[1m4s\u001B[0m 21ms/step - loss: 0.1470 - sparse_categorical_accuracy: 0.9590 - val_loss: 0.2244 - val_sparse_categorical_accuracy: 0.9308\n",
      "Epoch 28/50\n",
      "\u001B[1m164/164\u001B[0m \u001B[32m━━━━━━━━━━━━━━━━━━━━\u001B[0m\u001B[37m\u001B[0m \u001B[1m4s\u001B[0m 23ms/step - loss: 0.1377 - sparse_categorical_accuracy: 0.9673 - val_loss: 0.1396 - val_sparse_categorical_accuracy: 0.9539\n",
      "Epoch 29/50\n",
      "\u001B[1m164/164\u001B[0m \u001B[32m━━━━━━━━━━━━━━━━━━━━\u001B[0m\u001B[37m\u001B[0m \u001B[1m4s\u001B[0m 22ms/step - loss: 0.1293 - sparse_categorical_accuracy: 0.9635 - val_loss: 0.1826 - val_sparse_categorical_accuracy: 0.9510\n",
      "Epoch 30/50\n",
      "\u001B[1m164/164\u001B[0m \u001B[32m━━━━━━━━━━━━━━━━━━━━\u001B[0m\u001B[37m\u001B[0m \u001B[1m5s\u001B[0m 21ms/step - loss: 0.1577 - sparse_categorical_accuracy: 0.9513 - val_loss: 0.2081 - val_sparse_categorical_accuracy: 0.9193\n",
      "Epoch 31/50\n",
      "\u001B[1m164/164\u001B[0m \u001B[32m━━━━━━━━━━━━━━━━━━━━\u001B[0m\u001B[37m\u001B[0m \u001B[1m3s\u001B[0m 20ms/step - loss: 0.1532 - sparse_categorical_accuracy: 0.9532 - val_loss: 0.1422 - val_sparse_categorical_accuracy: 0.9702\n",
      "Epoch 32/50\n",
      "\u001B[1m164/164\u001B[0m \u001B[32m━━━━━━━━━━━━━━━━━━━━\u001B[0m\u001B[37m\u001B[0m \u001B[1m3s\u001B[0m 21ms/step - loss: 0.1476 - sparse_categorical_accuracy: 0.9618 - val_loss: 0.1536 - val_sparse_categorical_accuracy: 0.9645\n",
      "Epoch 33/50\n",
      "\u001B[1m164/164\u001B[0m \u001B[32m━━━━━━━━━━━━━━━━━━━━\u001B[0m\u001B[37m\u001B[0m \u001B[1m4s\u001B[0m 21ms/step - loss: 0.1258 - sparse_categorical_accuracy: 0.9696 - val_loss: 0.1367 - val_sparse_categorical_accuracy: 0.9673\n",
      "Epoch 34/50\n",
      "\u001B[1m164/164\u001B[0m \u001B[32m━━━━━━━━━━━━━━━━━━━━\u001B[0m\u001B[37m\u001B[0m \u001B[1m4s\u001B[0m 21ms/step - loss: 0.1271 - sparse_categorical_accuracy: 0.9632 - val_loss: 0.1765 - val_sparse_categorical_accuracy: 0.9558\n",
      "Epoch 35/50\n",
      "\u001B[1m164/164\u001B[0m \u001B[32m━━━━━━━━━━━━━━━━━━━━\u001B[0m\u001B[37m\u001B[0m \u001B[1m4s\u001B[0m 24ms/step - loss: 0.1261 - sparse_categorical_accuracy: 0.9594 - val_loss: 0.1525 - val_sparse_categorical_accuracy: 0.9645\n",
      "Epoch 36/50\n",
      "\u001B[1m164/164\u001B[0m \u001B[32m━━━━━━━━━━━━━━━━━━━━\u001B[0m\u001B[37m\u001B[0m \u001B[1m4s\u001B[0m 21ms/step - loss: 0.1218 - sparse_categorical_accuracy: 0.9624 - val_loss: 0.2322 - val_sparse_categorical_accuracy: 0.9481\n",
      "Epoch 37/50\n",
      "\u001B[1m164/164\u001B[0m \u001B[32m━━━━━━━━━━━━━━━━━━━━\u001B[0m\u001B[37m\u001B[0m \u001B[1m3s\u001B[0m 21ms/step - loss: 0.1463 - sparse_categorical_accuracy: 0.9564 - val_loss: 0.1844 - val_sparse_categorical_accuracy: 0.9529\n",
      "Epoch 38/50\n",
      "\u001B[1m164/164\u001B[0m \u001B[32m━━━━━━━━━━━━━━━━━━━━\u001B[0m\u001B[37m\u001B[0m \u001B[1m4s\u001B[0m 23ms/step - loss: 0.1605 - sparse_categorical_accuracy: 0.9468 - val_loss: 0.1369 - val_sparse_categorical_accuracy: 0.9693\n",
      "Epoch 39/50\n",
      "\u001B[1m164/164\u001B[0m \u001B[32m━━━━━━━━━━━━━━━━━━━━\u001B[0m\u001B[37m\u001B[0m \u001B[1m4s\u001B[0m 23ms/step - loss: 0.0990 - sparse_categorical_accuracy: 0.9717 - val_loss: 0.1346 - val_sparse_categorical_accuracy: 0.9625\n",
      "Epoch 40/50\n",
      "\u001B[1m164/164\u001B[0m \u001B[32m━━━━━━━━━━━━━━━━━━━━\u001B[0m\u001B[37m\u001B[0m \u001B[1m4s\u001B[0m 21ms/step - loss: 0.1326 - sparse_categorical_accuracy: 0.9587 - val_loss: 0.3181 - val_sparse_categorical_accuracy: 0.8722\n",
      "Epoch 41/50\n",
      "\u001B[1m164/164\u001B[0m \u001B[32m━━━━━━━━━━━━━━━━━━━━\u001B[0m\u001B[37m\u001B[0m \u001B[1m4s\u001B[0m 21ms/step - loss: 0.1262 - sparse_categorical_accuracy: 0.9627 - val_loss: 0.1365 - val_sparse_categorical_accuracy: 0.9645\n",
      "Epoch 42/50\n",
      "\u001B[1m164/164\u001B[0m \u001B[32m━━━━━━━━━━━━━━━━━━━━\u001B[0m\u001B[37m\u001B[0m \u001B[1m4s\u001B[0m 21ms/step - loss: 0.1167 - sparse_categorical_accuracy: 0.9607 - val_loss: 0.1443 - val_sparse_categorical_accuracy: 0.9549\n",
      "Epoch 43/50\n",
      "\u001B[1m164/164\u001B[0m \u001B[32m━━━━━━━━━━━━━━━━━━━━\u001B[0m\u001B[37m\u001B[0m \u001B[1m4s\u001B[0m 23ms/step - loss: 0.1055 - sparse_categorical_accuracy: 0.9695 - val_loss: 0.1160 - val_sparse_categorical_accuracy: 0.9731\n",
      "Epoch 44/50\n",
      "\u001B[1m164/164\u001B[0m \u001B[32m━━━━━━━━━━━━━━━━━━━━\u001B[0m\u001B[37m\u001B[0m \u001B[1m4s\u001B[0m 22ms/step - loss: 0.0982 - sparse_categorical_accuracy: 0.9706 - val_loss: 0.1702 - val_sparse_categorical_accuracy: 0.9539\n",
      "Epoch 45/50\n",
      "\u001B[1m164/164\u001B[0m \u001B[32m━━━━━━━━━━━━━━━━━━━━\u001B[0m\u001B[37m\u001B[0m \u001B[1m4s\u001B[0m 22ms/step - loss: 0.1363 - sparse_categorical_accuracy: 0.9601 - val_loss: 0.1691 - val_sparse_categorical_accuracy: 0.9664\n",
      "Epoch 46/50\n",
      "\u001B[1m164/164\u001B[0m \u001B[32m━━━━━━━━━━━━━━━━━━━━\u001B[0m\u001B[37m\u001B[0m \u001B[1m4s\u001B[0m 21ms/step - loss: 0.1078 - sparse_categorical_accuracy: 0.9688 - val_loss: 0.1265 - val_sparse_categorical_accuracy: 0.9664\n",
      "Epoch 47/50\n",
      "\u001B[1m164/164\u001B[0m \u001B[32m━━━━━━━━━━━━━━━━━━━━\u001B[0m\u001B[37m\u001B[0m \u001B[1m4s\u001B[0m 22ms/step - loss: 0.1138 - sparse_categorical_accuracy: 0.9661 - val_loss: 0.1299 - val_sparse_categorical_accuracy: 0.9712\n",
      "Epoch 48/50\n",
      "\u001B[1m164/164\u001B[0m \u001B[32m━━━━━━━━━━━━━━━━━━━━\u001B[0m\u001B[37m\u001B[0m \u001B[1m4s\u001B[0m 21ms/step - loss: 0.1103 - sparse_categorical_accuracy: 0.9661 - val_loss: 0.1464 - val_sparse_categorical_accuracy: 0.9664\n",
      "Epoch 49/50\n",
      "\u001B[1m164/164\u001B[0m \u001B[32m━━━━━━━━━━━━━━━━━━━━\u001B[0m\u001B[37m\u001B[0m \u001B[1m4s\u001B[0m 23ms/step - loss: 0.1162 - sparse_categorical_accuracy: 0.9652 - val_loss: 0.1597 - val_sparse_categorical_accuracy: 0.9645\n",
      "Epoch 50/50\n",
      "\u001B[1m164/164\u001B[0m \u001B[32m━━━━━━━━━━━━━━━━━━━━\u001B[0m\u001B[37m\u001B[0m \u001B[1m4s\u001B[0m 21ms/step - loss: 0.1029 - sparse_categorical_accuracy: 0.9709 - val_loss: 0.1346 - val_sparse_categorical_accuracy: 0.9597\n",
      "\u001B[1m27/27\u001B[0m \u001B[32m━━━━━━━━━━━━━━━━━━━━\u001B[0m\u001B[37m\u001B[0m \u001B[1m0s\u001B[0m 11ms/step\n",
      "Classification Report:\n",
      "              precision    recall  f1-score   support\n",
      "\n",
      "           0       0.97      1.00      0.99       539\n",
      "           1       1.00      0.95      0.98       298\n",
      "\n",
      "    accuracy                           0.98       837\n",
      "   macro avg       0.99      0.98      0.98       837\n",
      "weighted avg       0.98      0.98      0.98       837\n",
      "\n"
     ]
    }
   ],
   "execution_count": 13
  },
  {
   "metadata": {
    "ExecuteTime": {
     "end_time": "2025-01-25T10:13:23.554775Z",
     "start_time": "2025-01-25T10:13:23.490742Z"
    }
   },
   "cell_type": "code",
   "source": [
    "# Save the trained model\n",
    "model.save(\"best_model.keras\")"
   ],
   "id": "37f261d571d3d842",
   "outputs": [],
   "execution_count": 16
  },
  {
   "metadata": {},
   "cell_type": "code",
   "outputs": [],
   "execution_count": null,
   "source": "",
   "id": "2fcf381e15ce37ca"
  }
 ],
 "metadata": {
  "kernelspec": {
   "display_name": "Python 3",
   "language": "python",
   "name": "python3"
  },
  "language_info": {
   "codemirror_mode": {
    "name": "ipython",
    "version": 2
   },
   "file_extension": ".py",
   "mimetype": "text/x-python",
   "name": "python",
   "nbconvert_exporter": "python",
   "pygments_lexer": "ipython2",
   "version": "2.7.6"
  }
 },
 "nbformat": 4,
 "nbformat_minor": 5
}
