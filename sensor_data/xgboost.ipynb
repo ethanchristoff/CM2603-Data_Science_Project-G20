{
 "cells": [
  {
   "cell_type": "code",
   "id": "initial_id",
   "metadata": {
    "collapsed": true,
    "ExecuteTime": {
     "end_time": "2025-01-25T10:04:00.748407Z",
     "start_time": "2025-01-25T10:03:36.211779Z"
    }
   },
   "source": [
    "import xgboost as xgb\n",
    "from sklearn.metrics import classification_report\n",
    "import numpy as np\n",
    "import matplotlib.pyplot as plt"
   ],
   "outputs": [],
   "execution_count": 1
  },
  {
   "metadata": {
    "ExecuteTime": {
     "end_time": "2025-01-25T10:04:01.166947Z",
     "start_time": "2025-01-25T10:04:00.774005Z"
    }
   },
   "cell_type": "code",
   "source": [
    "# Load the preprocessed feature data (already encoded)\n",
    "X_train = np.load('X_train.npy')  # Your preprocessed training features\n",
    "y_train = np.load('y_train.npy')  # Your labels\n",
    "X_val = np.load('X_val.npy')  # Your preprocessed validation features\n",
    "y_val = np.load('y_val.npy')  # Your validation labels\n",
    "X_test = np.load('X_test.npy')  # Your preprocessed test features\n",
    "y_test = np.load('y_test.npy')  # Your test labels"
   ],
   "id": "bb52de76eac5da1b",
   "outputs": [],
   "execution_count": 2
  },
  {
   "metadata": {
    "ExecuteTime": {
     "end_time": "2025-01-25T10:04:01.426273Z",
     "start_time": "2025-01-25T10:04:01.415178Z"
    }
   },
   "cell_type": "code",
   "source": [
    "# Reshape the input data to be flat for XGBoost, i.e., (samples, time_steps * features)\n",
    "X_train_flattened = X_train.reshape(X_train.shape[0], -1)  # Reshape to (2622, 6000)\n",
    "X_val_flattened = X_val.reshape(X_val.shape[0], -1)  # Reshape to (1041, 6000)\n",
    "X_test_flattened = X_test.reshape(X_test.shape[0], -1)  # Reshape to (837, 6000)\n",
    "\n",
    "print(f\"Flattened Training Data: {X_train_flattened.shape}, {y_train.shape}\")\n",
    "print(f\"Flattened Validation Data: {X_val_flattened.shape}, {y_val.shape}\")\n",
    "print(f\"Flattened Test Data: {X_test_flattened.shape}, {y_test.shape}\")"
   ],
   "id": "433a917dacc9067b",
   "outputs": [
    {
     "name": "stdout",
     "output_type": "stream",
     "text": [
      "Flattened Training Data: (2622, 6000), (2622,)\n",
      "Flattened Validation Data: (1041, 6000), (1041,)\n",
      "Flattened Test Data: (837, 6000), (837,)\n"
     ]
    }
   ],
   "execution_count": 3
  },
  {
   "metadata": {
    "ExecuteTime": {
     "end_time": "2025-01-25T10:04:09.567741Z",
     "start_time": "2025-01-25T10:04:08.410582Z"
    }
   },
   "cell_type": "code",
   "source": [
    "# XGBoost requires the data to be in DMatrix format, so convert the reshaped data\n",
    "train_data = xgb.DMatrix(X_train_flattened, label=y_train)\n",
    "val_data = xgb.DMatrix(X_val_flattened, label=y_val)\n",
    "test_data = xgb.DMatrix(X_test_flattened, label=y_test)\n",
    "# Set up XGBoost parameters for binary classification\n",
    "params = {\n",
    "    \"objective\": \"binary:logistic\",  # Binary classification\n",
    "    \"eval_metric\": \"logloss\",  # Using logloss for binary classification\n",
    "    \"learning_rate\": 0.1,  # Learning rate\n",
    "    \"max_depth\": 6,  # Depth of trees\n",
    "    \"alpha\": 10,  # L1 regularization term\n",
    "    \"lambda\": 1,  # L2 regularization term\n",
    "}"
   ],
   "id": "6d88008ecd42d9eb",
   "outputs": [],
   "execution_count": 4
  },
  {
   "metadata": {
    "ExecuteTime": {
     "end_time": "2025-01-25T10:04:23.857261Z",
     "start_time": "2025-01-25T10:04:16.494279Z"
    }
   },
   "cell_type": "code",
   "source": [
    "# Train the model with validation data (early stopping can be set as well)\n",
    "evals = [(train_data, 'train'), (val_data, 'eval')]\n",
    "model = xgb.train(\n",
    "    params,\n",
    "    train_data,\n",
    "    num_boost_round=5,  # Max boosting rounds\n",
    "    evals=evals,\n",
    "    early_stopping_rounds=50  # Stop training early if the validation error doesn't improve\n",
    ")"
   ],
   "id": "14c77503216e1e1e",
   "outputs": [
    {
     "name": "stdout",
     "output_type": "stream",
     "text": [
      "[0]\ttrain-logloss:0.59979\teval-logloss:0.61240\n",
      "[1]\ttrain-logloss:0.53981\teval-logloss:0.55418\n",
      "[2]\ttrain-logloss:0.48911\teval-logloss:0.50487\n",
      "[3]\ttrain-logloss:0.44630\teval-logloss:0.46336\n",
      "[4]\ttrain-logloss:0.40936\teval-logloss:0.42706\n"
     ]
    }
   ],
   "execution_count": 5
  },
  {
   "metadata": {
    "ExecuteTime": {
     "end_time": "2025-01-25T10:04:28.245848Z",
     "start_time": "2025-01-25T10:04:28.030250Z"
    }
   },
   "cell_type": "code",
   "source": [
    "# Predict the probabilities from the XGBoost model\n",
    "y_pred_prob = model.predict(xgb.DMatrix(X_test_flattened))\n",
    "\n",
    "# Convert the probabilities to binary labels (threshold = 0.5)\n",
    "y_pred_binary = (y_pred_prob >= 0.5).astype(int)\n",
    "\n",
    "# Print classification report\n",
    "print(\"Classification Report:\")\n",
    "print(classification_report(y_test, y_pred_binary))"
   ],
   "id": "5a76f533cce8b58",
   "outputs": [
    {
     "name": "stdout",
     "output_type": "stream",
     "text": [
      "Classification Report:\n",
      "              precision    recall  f1-score   support\n",
      "\n",
      "           0       0.95      0.99      0.97       539\n",
      "           1       0.98      0.91      0.94       298\n",
      "\n",
      "    accuracy                           0.96       837\n",
      "   macro avg       0.96      0.95      0.95       837\n",
      "weighted avg       0.96      0.96      0.96       837\n",
      "\n"
     ]
    }
   ],
   "execution_count": 6
  },
  {
   "metadata": {
    "ExecuteTime": {
     "end_time": "2025-01-25T10:04:42.044766Z",
     "start_time": "2025-01-25T10:04:42.029454Z"
    }
   },
   "cell_type": "code",
   "source": [
    "# Save the trained XGBoost model for later use\n",
    "model.save_model(\"xgboost_model.json\")"
   ],
   "id": "97171eea8429e3c2",
   "outputs": [],
   "execution_count": 7
  },
  {
   "metadata": {},
   "cell_type": "code",
   "outputs": [],
   "execution_count": null,
   "source": "",
   "id": "7903334a3d430ad3"
  }
 ],
 "metadata": {
  "kernelspec": {
   "display_name": "Python 3",
   "language": "python",
   "name": "python3"
  },
  "language_info": {
   "codemirror_mode": {
    "name": "ipython",
    "version": 2
   },
   "file_extension": ".py",
   "mimetype": "text/x-python",
   "name": "python",
   "nbconvert_exporter": "python",
   "pygments_lexer": "ipython2",
   "version": "2.7.6"
  }
 },
 "nbformat": 4,
 "nbformat_minor": 5
}
