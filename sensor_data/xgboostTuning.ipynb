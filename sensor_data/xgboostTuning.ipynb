{
 "cells": [
  {
   "cell_type": "code",
   "id": "initial_id",
   "metadata": {
    "collapsed": true,
    "ExecuteTime": {
     "end_time": "2025-01-25T10:06:05.446904Z",
     "start_time": "2025-01-25T10:06:03.180788Z"
    }
   },
   "source": [
    "import xgboost as xgb\n",
    "from sklearn.metrics import classification_report\n",
    "from sklearn.model_selection import train_test_split\n",
    "import numpy as np"
   ],
   "outputs": [],
   "execution_count": 1
  },
  {
   "metadata": {
    "ExecuteTime": {
     "end_time": "2025-01-25T10:06:07.183513Z",
     "start_time": "2025-01-25T10:06:06.809703Z"
    }
   },
   "cell_type": "code",
   "source": [
    "# Load the preprocessed data\n",
    "X_train = np.load('X_train.npy')\n",
    "y_train = np.load('y_train.npy')\n",
    "X_val = np.load('X_val.npy')\n",
    "y_val = np.load('y_val.npy')\n",
    "X_test = np.load('X_test.npy')\n",
    "y_test = np.load('y_test.npy')"
   ],
   "id": "618e316109e71c2d",
   "outputs": [],
   "execution_count": 2
  },
  {
   "metadata": {
    "ExecuteTime": {
     "end_time": "2025-01-25T10:06:21.423174Z",
     "start_time": "2025-01-25T10:06:20.588653Z"
    }
   },
   "cell_type": "code",
   "source": [
    "# Flatten the input data for XGBoost\n",
    "X_train_flattened = X_train.reshape(X_train.shape[0], -1)\n",
    "X_val_flattened = X_val.reshape(X_val.shape[0], -1)\n",
    "X_test_flattened = X_test.reshape(X_test.shape[0], -1)\n",
    "\n",
    "# Combine train and validation data for grid search\n",
    "X_train_combined = np.vstack((X_train_flattened, X_val_flattened))\n",
    "y_train_combined = np.hstack((y_train, y_val))\n",
    "\n",
    "# Convert to DMatrix format\n",
    "train_data = xgb.DMatrix(X_train_combined, label=y_train_combined)\n",
    "test_data = xgb.DMatrix(X_test_flattened, label=y_test)"
   ],
   "id": "3b0f61effdaac1a2",
   "outputs": [],
   "execution_count": 3
  },
  {
   "metadata": {
    "ExecuteTime": {
     "end_time": "2025-01-25T10:06:28.243062Z",
     "start_time": "2025-01-25T10:06:28.238683Z"
    }
   },
   "cell_type": "code",
   "source": [
    "# Parameter grid for hyperparameter tuning\n",
    "param_grid = {\n",
    "    \"learning_rate\": [0.01, 0.1],\n",
    "    \"max_depth\": [4, 6],\n",
    "    \"alpha\": [1, 10],\n",
    "    \"lambda\": [1, 5],\n",
    "    \"num_boost_round\": [10, 20],  # Keep this low for faster training\n",
    "}"
   ],
   "id": "777a172917ad83a5",
   "outputs": [],
   "execution_count": 4
  },
  {
   "metadata": {
    "ExecuteTime": {
     "end_time": "2025-01-25T10:10:34.227499Z",
     "start_time": "2025-01-25T10:06:45.423483Z"
    }
   },
   "cell_type": "code",
   "source": [
    "# Perform manual grid search\n",
    "best_model = None\n",
    "best_params = None\n",
    "best_val_loss = float('inf')\n",
    "results = []\n",
    "\n",
    "for learning_rate in param_grid['learning_rate']:\n",
    "    for max_depth in param_grid['max_depth']:\n",
    "        for alpha in param_grid['alpha']:\n",
    "            for lambda_ in param_grid['lambda']:\n",
    "                for num_boost_round in param_grid['num_boost_round']:\n",
    "                    params = {\n",
    "                        \"objective\": \"binary:logistic\",\n",
    "                        \"eval_metric\": \"logloss\",\n",
    "                        \"learning_rate\": learning_rate,\n",
    "                        \"max_depth\": max_depth,\n",
    "                        \"alpha\": alpha,\n",
    "                        \"lambda\": lambda_,\n",
    "                    }\n",
    "                    evals = [(train_data, 'train')]\n",
    "                    model = xgb.train(\n",
    "                        params,\n",
    "                        train_data,\n",
    "                        num_boost_round=num_boost_round,\n",
    "                    )\n",
    "\n",
    "                    # Validate the model on the test set\n",
    "                    y_pred_prob = model.predict(test_data)\n",
    "                    y_pred_binary = (y_pred_prob >= 0.5).astype(int)\n",
    "\n",
    "                    # Calculate logloss as the validation loss\n",
    "                    val_loss = np.mean(-y_test * np.log(y_pred_prob) - (1 - y_test) * np.log(1 - y_pred_prob))\n",
    "\n",
    "                    # Track the best model\n",
    "                    if val_loss < best_val_loss:\n",
    "                        best_val_loss = val_loss\n",
    "                        best_model = model\n",
    "                        best_params = {\n",
    "                            \"learning_rate\": learning_rate,\n",
    "                            \"max_depth\": max_depth,\n",
    "                            \"alpha\": alpha,\n",
    "                            \"lambda\": lambda_,\n",
    "                            \"num_boost_round\": num_boost_round,\n",
    "                        }\n",
    "\n",
    "                    # Save results\n",
    "                    results.append({\n",
    "                        \"params\": params,\n",
    "                        \"num_boost_round\": num_boost_round,\n",
    "                        \"val_loss\": val_loss,\n",
    "                    })"
   ],
   "id": "2da68109a938a8ba",
   "outputs": [],
   "execution_count": 5
  },
  {
   "metadata": {
    "ExecuteTime": {
     "end_time": "2025-01-25T10:10:34.343625Z",
     "start_time": "2025-01-25T10:10:34.325752Z"
    }
   },
   "cell_type": "code",
   "source": [
    "# Display best parameters and validation loss\n",
    "print(f\"Best Parameters and Results:\\n{best_params}, val_loss: {best_val_loss}\")"
   ],
   "id": "5fdd7acf9fc1c339",
   "outputs": [
    {
     "name": "stdout",
     "output_type": "stream",
     "text": [
      "Best Parameters and Results:\n",
      "{'learning_rate': 0.1, 'max_depth': 6, 'alpha': 1, 'lambda': 1, 'num_boost_round': 20}, val_loss: 0.13685265401091198\n"
     ]
    }
   ],
   "execution_count": 6
  },
  {
   "metadata": {
    "ExecuteTime": {
     "end_time": "2025-01-25T10:10:34.524709Z",
     "start_time": "2025-01-25T10:10:34.507576Z"
    }
   },
   "cell_type": "code",
   "source": [
    "# Save the best model\n",
    "best_model.save_model(\"best_xgboost_model.json\")"
   ],
   "id": "ab8b0479b3875d82",
   "outputs": [],
   "execution_count": 7
  },
  {
   "metadata": {
    "ExecuteTime": {
     "end_time": "2025-01-25T10:10:34.679219Z",
     "start_time": "2025-01-25T10:10:34.573165Z"
    }
   },
   "cell_type": "code",
   "source": [
    "# Generate classification report using the best model\n",
    "y_pred_prob = best_model.predict(test_data)\n",
    "y_pred_binary = (y_pred_prob >= 0.5).astype(int)\n",
    "\n",
    "print(\"Classification Report:\")\n",
    "print(classification_report(y_test, y_pred_binary))"
   ],
   "id": "acd50b3e7a752958",
   "outputs": [
    {
     "name": "stdout",
     "output_type": "stream",
     "text": [
      "Classification Report:\n",
      "              precision    recall  f1-score   support\n",
      "\n",
      "           0       0.99      0.99      0.99       539\n",
      "           1       0.97      0.97      0.97       298\n",
      "\n",
      "    accuracy                           0.98       837\n",
      "   macro avg       0.98      0.98      0.98       837\n",
      "weighted avg       0.98      0.98      0.98       837\n",
      "\n"
     ]
    }
   ],
   "execution_count": 8
  },
  {
   "metadata": {},
   "cell_type": "code",
   "outputs": [],
   "execution_count": null,
   "source": "",
   "id": "e1b1598d4fc945f6"
  }
 ],
 "metadata": {
  "kernelspec": {
   "display_name": "Python 3",
   "language": "python",
   "name": "python3"
  },
  "language_info": {
   "codemirror_mode": {
    "name": "ipython",
    "version": 2
   },
   "file_extension": ".py",
   "mimetype": "text/x-python",
   "name": "python",
   "nbconvert_exporter": "python",
   "pygments_lexer": "ipython2",
   "version": "2.7.6"
  }
 },
 "nbformat": 4,
 "nbformat_minor": 5
}
