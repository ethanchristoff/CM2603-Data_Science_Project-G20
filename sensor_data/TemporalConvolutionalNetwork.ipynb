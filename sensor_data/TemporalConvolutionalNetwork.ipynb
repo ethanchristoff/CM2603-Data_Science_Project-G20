{
 "cells": [
  {
   "cell_type": "code",
   "id": "initial_id",
   "metadata": {
    "collapsed": true,
    "ExecuteTime": {
     "end_time": "2025-01-25T10:41:01.860733Z",
     "start_time": "2025-01-25T10:41:01.844820Z"
    }
   },
   "source": [
    "from keras.models import Sequential\n",
    "from keras.layers import Dense, Dropout\n",
    "from tcn import TCN\n",
    "import numpy as np\n",
    "from sklearn.metrics import classification_report"
   ],
   "outputs": [],
   "execution_count": 12
  },
  {
   "metadata": {
    "ExecuteTime": {
     "end_time": "2025-01-25T10:34:37.746644Z",
     "start_time": "2025-01-25T10:34:37.256612Z"
    }
   },
   "cell_type": "code",
   "source": [
    "X_train = np.load('X_train.npy')  # Load your preprocessed training data\n",
    "y_train = np.load('y_train.npy')\n",
    "X_val = np.load('X_val.npy')  # Load your validation data\n",
    "y_val = np.load('y_val.npy')\n",
    "X_test = np.load('X_test.npy')  # Load your test data\n",
    "y_test = np.load('y_test.npy')"
   ],
   "id": "82547449c46ffc77",
   "outputs": [],
   "execution_count": 3
  },
  {
   "metadata": {
    "ExecuteTime": {
     "end_time": "2025-01-25T10:35:30.201027Z",
     "start_time": "2025-01-25T10:35:30.193812Z"
    }
   },
   "cell_type": "code",
   "source": "num_classes = len(np.unique(y_train))",
   "id": "5c25b388f877e9dc",
   "outputs": [],
   "execution_count": 5
  },
  {
   "metadata": {
    "ExecuteTime": {
     "end_time": "2025-01-25T10:35:31.544106Z",
     "start_time": "2025-01-25T10:35:31.145205Z"
    }
   },
   "cell_type": "code",
   "source": [
    "# Build the model\n",
    "model = Sequential()\n",
    "\n",
    "# Add TCN layers\n",
    "model.add(TCN(input_shape=(X_train.shape[1], X_train.shape[2])))\n",
    "model.add(Dropout(0.2))  # Regularization\n",
    "model.add(Dense(32, activation='relu'))  # Smaller Dense layer\n",
    "model.add(Dense(num_classes, activation='softmax'))  # Output layer for classification\n",
    "\n",
    "# Compile the model\n",
    "model.compile(optimizer='adam', loss='sparse_categorical_crossentropy', metrics=['accuracy'])"
   ],
   "id": "f9c59105e63751b4",
   "outputs": [
    {
     "name": "stdout",
     "output_type": "stream",
     "text": [
      "WARNING:tensorflow:From C:\\Users\\Senuli\\Desktop\\env\\Lib\\site-packages\\keras\\src\\backend\\tensorflow\\core.py:216: The name tf.placeholder is deprecated. Please use tf.compat.v1.placeholder instead.\n",
      "\n"
     ]
    }
   ],
   "execution_count": 6
  },
  {
   "metadata": {
    "ExecuteTime": {
     "end_time": "2025-01-25T10:39:20.873431Z",
     "start_time": "2025-01-25T10:35:38.873778Z"
    }
   },
   "cell_type": "code",
   "source": [
    "# Train the model (assuming you have X_train and y_train)\n",
    "model.fit(X_train, y_train, epochs=10, batch_size=32)"
   ],
   "id": "e591d3efcab69c12",
   "outputs": [
    {
     "name": "stdout",
     "output_type": "stream",
     "text": [
      "Epoch 1/10\n",
      "\u001B[1m82/82\u001B[0m \u001B[32m━━━━━━━━━━━━━━━━━━━━\u001B[0m\u001B[37m\u001B[0m \u001B[1m29s\u001B[0m 282ms/step - accuracy: 0.6883 - loss: 565.8621\n",
      "Epoch 2/10\n",
      "\u001B[1m82/82\u001B[0m \u001B[32m━━━━━━━━━━━━━━━━━━━━\u001B[0m\u001B[37m\u001B[0m \u001B[1m22s\u001B[0m 268ms/step - accuracy: 0.7868 - loss: 53.4086\n",
      "Epoch 3/10\n",
      "\u001B[1m82/82\u001B[0m \u001B[32m━━━━━━━━━━━━━━━━━━━━\u001B[0m\u001B[37m\u001B[0m \u001B[1m21s\u001B[0m 251ms/step - accuracy: 0.8213 - loss: 32.4417\n",
      "Epoch 4/10\n",
      "\u001B[1m82/82\u001B[0m \u001B[32m━━━━━━━━━━━━━━━━━━━━\u001B[0m\u001B[37m\u001B[0m \u001B[1m21s\u001B[0m 253ms/step - accuracy: 0.8177 - loss: 20.7892\n",
      "Epoch 5/10\n",
      "\u001B[1m82/82\u001B[0m \u001B[32m━━━━━━━━━━━━━━━━━━━━\u001B[0m\u001B[37m\u001B[0m \u001B[1m22s\u001B[0m 270ms/step - accuracy: 0.8429 - loss: 15.2430\n",
      "Epoch 6/10\n",
      "\u001B[1m82/82\u001B[0m \u001B[32m━━━━━━━━━━━━━━━━━━━━\u001B[0m\u001B[37m\u001B[0m \u001B[1m21s\u001B[0m 255ms/step - accuracy: 0.8352 - loss: 13.0362\n",
      "Epoch 7/10\n",
      "\u001B[1m82/82\u001B[0m \u001B[32m━━━━━━━━━━━━━━━━━━━━\u001B[0m\u001B[37m\u001B[0m \u001B[1m21s\u001B[0m 261ms/step - accuracy: 0.8286 - loss: 9.3718\n",
      "Epoch 8/10\n",
      "\u001B[1m82/82\u001B[0m \u001B[32m━━━━━━━━━━━━━━━━━━━━\u001B[0m\u001B[37m\u001B[0m \u001B[1m21s\u001B[0m 261ms/step - accuracy: 0.8150 - loss: 9.2411\n",
      "Epoch 9/10\n",
      "\u001B[1m82/82\u001B[0m \u001B[32m━━━━━━━━━━━━━━━━━━━━\u001B[0m\u001B[37m\u001B[0m \u001B[1m22s\u001B[0m 266ms/step - accuracy: 0.8325 - loss: 7.9195\n",
      "Epoch 10/10\n",
      "\u001B[1m82/82\u001B[0m \u001B[32m━━━━━━━━━━━━━━━━━━━━\u001B[0m\u001B[37m\u001B[0m \u001B[1m22s\u001B[0m 266ms/step - accuracy: 0.8339 - loss: 5.2164\n"
     ]
    },
    {
     "data": {
      "text/plain": [
       "<keras.src.callbacks.history.History at 0x250767f0f80>"
      ]
     },
     "execution_count": 7,
     "metadata": {},
     "output_type": "execute_result"
    }
   ],
   "execution_count": 7
  },
  {
   "metadata": {
    "ExecuteTime": {
     "end_time": "2025-01-25T10:39:59.072022Z",
     "start_time": "2025-01-25T10:39:55.884951Z"
    }
   },
   "cell_type": "code",
   "source": [
    "# Predict using the trained model on the test set\n",
    "y_pred = np.argmax(model.predict(X_test), axis=-1)  # Use argmax for multi-class classification\n",
    "\n",
    "# Generate and print the classification report\n",
    "print(\"Classification Report:\")\n",
    "print(classification_report(y_test, y_pred))"
   ],
   "id": "e2c84e4491f77081",
   "outputs": [
    {
     "name": "stdout",
     "output_type": "stream",
     "text": [
      "\u001B[1m27/27\u001B[0m \u001B[32m━━━━━━━━━━━━━━━━━━━━\u001B[0m\u001B[37m\u001B[0m \u001B[1m3s\u001B[0m 114ms/step\n",
      "Classification Report:\n",
      "              precision    recall  f1-score   support\n",
      "\n",
      "           0       0.94      0.86      0.90       539\n",
      "           1       0.78      0.91      0.84       298\n",
      "\n",
      "    accuracy                           0.88       837\n",
      "   macro avg       0.86      0.88      0.87       837\n",
      "weighted avg       0.89      0.88      0.88       837\n",
      "\n"
     ]
    }
   ],
   "execution_count": 10
  },
  {
   "metadata": {
    "ExecuteTime": {
     "end_time": "2025-01-25T10:40:44.553863Z",
     "start_time": "2025-01-25T10:40:44.379268Z"
    }
   },
   "cell_type": "code",
   "source": [
    "# Save the entire model to a file (HDF5 format)\n",
    "model.save('tcn_model.keras')"
   ],
   "id": "b180b612c10a90f",
   "outputs": [],
   "execution_count": 11
  },
  {
   "metadata": {},
   "cell_type": "code",
   "outputs": [],
   "execution_count": null,
   "source": "",
   "id": "12c6cc936dd1e47a"
  }
 ],
 "metadata": {
  "kernelspec": {
   "display_name": "Python 3",
   "language": "python",
   "name": "python3"
  },
  "language_info": {
   "codemirror_mode": {
    "name": "ipython",
    "version": 2
   },
   "file_extension": ".py",
   "mimetype": "text/x-python",
   "name": "python",
   "nbconvert_exporter": "python",
   "pygments_lexer": "ipython2",
   "version": "2.7.6"
  }
 },
 "nbformat": 4,
 "nbformat_minor": 5
}
